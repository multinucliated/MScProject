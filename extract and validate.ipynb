{
 "cells": [
  {
   "cell_type": "code",
   "execution_count": 1,
   "id": "4f62c539",
   "metadata": {},
   "outputs": [
    {
     "name": "stdout",
     "output_type": "stream",
     "text": [
      "3.8.8\n"
     ]
    }
   ],
   "source": [
    "from platform import python_version\n",
    "print(python_version())"
   ]
  },
  {
   "cell_type": "code",
   "execution_count": 2,
   "id": "5aff9e5d",
   "metadata": {},
   "outputs": [
    {
     "name": "stdout",
     "output_type": "stream",
     "text": [
      "3.8.8 (default, Apr 13 2021, 15:08:03) [MSC v.1916 64 bit (AMD64)]\n"
     ]
    }
   ],
   "source": [
    "import sys\n",
    "print(sys.version)"
   ]
  },
  {
   "cell_type": "code",
   "execution_count": 3,
   "id": "489870ac",
   "metadata": {},
   "outputs": [
    {
     "data": {
      "text/plain": [
       "[PhysicalDevice(name='/physical_device:GPU:0', device_type='GPU')]"
      ]
     },
     "execution_count": 3,
     "metadata": {},
     "output_type": "execute_result"
    }
   ],
   "source": [
    "import tensorflow as tf\n",
    "tf.config.experimental.list_physical_devices('GPU')"
   ]
  },
  {
   "cell_type": "code",
   "execution_count": 4,
   "id": "19c4ef0e",
   "metadata": {},
   "outputs": [
    {
     "name": "stdout",
     "output_type": "stream",
     "text": [
      "Num GPUs Available:  1\n"
     ]
    }
   ],
   "source": [
    "import tensorflow as tf\n",
    "print(\"Num GPUs Available: \", len(tf.config.list_physical_devices('GPU')))"
   ]
  },
  {
   "cell_type": "code",
   "execution_count": 5,
   "id": "7bf45ea8",
   "metadata": {},
   "outputs": [
    {
     "name": "stdout",
     "output_type": "stream",
     "text": [
      "[name: \"/device:CPU:0\"\n",
      "device_type: \"CPU\"\n",
      "memory_limit: 268435456\n",
      "locality {\n",
      "}\n",
      "incarnation: 17856244228974374145\n",
      "xla_global_id: -1\n",
      ", name: \"/device:GPU:0\"\n",
      "device_type: \"GPU\"\n",
      "memory_limit: 7055540224\n",
      "locality {\n",
      "  bus_id: 1\n",
      "  links {\n",
      "  }\n",
      "}\n",
      "incarnation: 12425706403925108314\n",
      "physical_device_desc: \"device: 0, name: NVIDIA GeForce GTX 980M, pci bus id: 0000:01:00.0, compute capability: 5.2\"\n",
      "xla_global_id: 416903419\n",
      "]\n"
     ]
    }
   ],
   "source": [
    "from tensorflow.python.client import device_lib\n",
    "print(device_lib.list_local_devices())"
   ]
  },
  {
   "cell_type": "code",
   "execution_count": 6,
   "id": "7df4b5d0",
   "metadata": {},
   "outputs": [],
   "source": [
    "import pandas as pd"
   ]
  },
  {
   "cell_type": "code",
   "execution_count": 7,
   "id": "79163bf2",
   "metadata": {},
   "outputs": [],
   "source": [
    "df = pd.read_json(\"mappingv3.json\")"
   ]
  },
  {
   "cell_type": "code",
   "execution_count": 8,
   "id": "6d4194ea",
   "metadata": {},
   "outputs": [
    {
     "data": {
      "text/plain": [
       "(180, 3)"
      ]
     },
     "execution_count": 8,
     "metadata": {},
     "output_type": "execute_result"
    }
   ],
   "source": [
    "df.shape"
   ]
  },
  {
   "cell_type": "code",
   "execution_count": 9,
   "id": "e3983094",
   "metadata": {},
   "outputs": [
    {
     "data": {
      "text/html": [
       "<div>\n",
       "<style scoped>\n",
       "    .dataframe tbody tr th:only-of-type {\n",
       "        vertical-align: middle;\n",
       "    }\n",
       "\n",
       "    .dataframe tbody tr th {\n",
       "        vertical-align: top;\n",
       "    }\n",
       "\n",
       "    .dataframe thead th {\n",
       "        text-align: right;\n",
       "    }\n",
       "</style>\n",
       "<table border=\"1\" class=\"dataframe\">\n",
       "  <thead>\n",
       "    <tr style=\"text-align: right;\">\n",
       "      <th></th>\n",
       "      <th>action_instances</th>\n",
       "      <th>id</th>\n",
       "      <th>nl_command_statment</th>\n",
       "    </tr>\n",
       "  </thead>\n",
       "  <tbody>\n",
       "    <tr>\n",
       "      <th>0</th>\n",
       "      <td>[{'options': [{'id': 601225, 'name': 'new emai...</td>\n",
       "      <td>101</td>\n",
       "      <td>Pay the invoice that I will receive from conta...</td>\n",
       "    </tr>\n",
       "    <tr>\n",
       "      <th>1</th>\n",
       "      <td>[{'options': [{'id': 601225, 'name': 'new emai...</td>\n",
       "      <td>102</td>\n",
       "      <td>Pay in the bank my purchases that I will soon ...</td>\n",
       "    </tr>\n",
       "    <tr>\n",
       "      <th>2</th>\n",
       "      <td>[{'options': [{'id': 601225, 'name': 'new emai...</td>\n",
       "      <td>105</td>\n",
       "      <td>Make a payment using my bank account when I re...</td>\n",
       "    </tr>\n",
       "    <tr>\n",
       "      <th>3</th>\n",
       "      <td>[{'options': [{'id': 601225, 'name': 'new emai...</td>\n",
       "      <td>106</td>\n",
       "      <td>Pay my Good Sports Store account balance using...</td>\n",
       "    </tr>\n",
       "    <tr>\n",
       "      <th>4</th>\n",
       "      <td>[{'options': [{'id': 601225, 'name': 'new emai...</td>\n",
       "      <td>107</td>\n",
       "      <td>Wait for a new email from the sender contact@g...</td>\n",
       "    </tr>\n",
       "  </tbody>\n",
       "</table>\n",
       "</div>"
      ],
      "text/plain": [
       "                                    action_instances   id  \\\n",
       "0  [{'options': [{'id': 601225, 'name': 'new emai...  101   \n",
       "1  [{'options': [{'id': 601225, 'name': 'new emai...  102   \n",
       "2  [{'options': [{'id': 601225, 'name': 'new emai...  105   \n",
       "3  [{'options': [{'id': 601225, 'name': 'new emai...  106   \n",
       "4  [{'options': [{'id': 601225, 'name': 'new emai...  107   \n",
       "\n",
       "                                 nl_command_statment  \n",
       "0  Pay the invoice that I will receive from conta...  \n",
       "1  Pay in the bank my purchases that I will soon ...  \n",
       "2  Make a payment using my bank account when I re...  \n",
       "3  Pay my Good Sports Store account balance using...  \n",
       "4  Wait for a new email from the sender contact@g...  "
      ]
     },
     "execution_count": 9,
     "metadata": {},
     "output_type": "execute_result"
    }
   ],
   "source": [
    "df.head()"
   ]
  },
  {
   "cell_type": "code",
   "execution_count": null,
   "id": "2a515439",
   "metadata": {},
   "outputs": [],
   "source": [
    "str(df[\"action_instances\"][0]).split(\"name\")"
   ]
  },
  {
   "cell_type": "code",
   "execution_count": null,
   "id": "ce37618b",
   "metadata": {},
   "outputs": [],
   "source": [
    "df[\"action_instances\"][0]"
   ]
  },
  {
   "cell_type": "code",
   "execution_count": null,
   "id": "93ea2803",
   "metadata": {},
   "outputs": [],
   "source": [
    "len(df[\"action_instances\"][0])"
   ]
  },
  {
   "cell_type": "code",
   "execution_count": null,
   "id": "0f85a6d9",
   "metadata": {},
   "outputs": [],
   "source": [
    "type(df[\"action_instances\"][0][0])"
   ]
  },
  {
   "cell_type": "code",
   "execution_count": null,
   "id": "a5f86026",
   "metadata": {},
   "outputs": [],
   "source": [
    "df[\"action_instances\"][0][0]"
   ]
  },
  {
   "cell_type": "code",
   "execution_count": null,
   "id": "91aa7d28",
   "metadata": {},
   "outputs": [],
   "source": [
    "str(df[\"action_instances\"][0])"
   ]
  },
  {
   "cell_type": "code",
   "execution_count": null,
   "id": "35589ef6",
   "metadata": {},
   "outputs": [],
   "source": [
    "df[\"action_instances\"][0]"
   ]
  },
  {
   "cell_type": "code",
   "execution_count": null,
   "id": "a667296a",
   "metadata": {},
   "outputs": [],
   "source": [
    "str(df[\"action_instances\"][0]).split(\"\\'name\\': \\'\")"
   ]
  },
  {
   "cell_type": "code",
   "execution_count": null,
   "id": "688c08d4",
   "metadata": {},
   "outputs": [],
   "source": [
    "data = str(df[\"action_instances\"][0]).split(\"\\'name\\': \\'\")[1:]\n",
    "data"
   ]
  },
  {
   "cell_type": "code",
   "execution_count": null,
   "id": "a2489d28",
   "metadata": {},
   "outputs": [],
   "source": [
    "for everyData in data:\n",
    "    print(everyData.find(\"'\"))\n",
    "    val = everyData.find(\"'\")\n",
    "    print(everyData[:val])"
   ]
  },
  {
   "cell_type": "code",
   "execution_count": null,
   "id": "62a4093b",
   "metadata": {},
   "outputs": [],
   "source": [
    "actions_val = []\n",
    "for everyCommand in df[\"action_instances\"]:\n",
    "    data = str(everyCommand).split(\"\\'name\\': \\'\")[1:]\n",
    "    temp = []\n",
    "    for everyData in data:\n",
    "        val = everyData.find(\"'\")\n",
    "        temp.append(everyData[:val])\n",
    "    actions_val.append(temp)    "
   ]
  },
  {
   "cell_type": "code",
   "execution_count": null,
   "id": "bff6d6a0",
   "metadata": {
    "scrolled": true
   },
   "outputs": [],
   "source": [
    "actions_val"
   ]
  },
  {
   "cell_type": "code",
   "execution_count": null,
   "id": "9be7db73",
   "metadata": {
    "scrolled": true
   },
   "outputs": [],
   "source": [
    "df[\"action_instances\"][10]"
   ]
  },
  {
   "cell_type": "code",
   "execution_count": null,
   "id": "ee093abd",
   "metadata": {},
   "outputs": [],
   "source": [
    "df[\"nl_command_statment\"].iloc[10]"
   ]
  },
  {
   "cell_type": "code",
   "execution_count": null,
   "id": "d8114ef7",
   "metadata": {},
   "outputs": [],
   "source": [
    "import itertools\n",
    "s = \",\".join(itertools.chain(*actions_val))"
   ]
  },
  {
   "cell_type": "code",
   "execution_count": null,
   "id": "72e2cebe",
   "metadata": {},
   "outputs": [],
   "source": [
    "len(set(s.split(\",\")))"
   ]
  },
  {
   "cell_type": "code",
   "execution_count": null,
   "id": "b3c37063",
   "metadata": {
    "scrolled": true
   },
   "outputs": [],
   "source": [
    "for val in actions_val:\n",
    "    print(len(val))"
   ]
  },
  {
   "cell_type": "code",
   "execution_count": null,
   "id": "b16559f0",
   "metadata": {},
   "outputs": [],
   "source": [
    "temp = []\n",
    "for val in actions_val:\n",
    "    temp.append(len(val))"
   ]
  },
  {
   "cell_type": "code",
   "execution_count": null,
   "id": "6c58cf78",
   "metadata": {},
   "outputs": [],
   "source": [
    "max(temp), min(temp)"
   ]
  },
  {
   "cell_type": "code",
   "execution_count": null,
   "id": "bb112b17",
   "metadata": {},
   "outputs": [],
   "source": [
    "temp.index(14)"
   ]
  },
  {
   "cell_type": "code",
   "execution_count": null,
   "id": "b88ccfbb",
   "metadata": {},
   "outputs": [],
   "source": [
    "actions_val[95]"
   ]
  },
  {
   "cell_type": "code",
   "execution_count": null,
   "id": "54f7be8b",
   "metadata": {},
   "outputs": [],
   "source": [
    "df[\"action_instances\"][95]"
   ]
  },
  {
   "cell_type": "code",
   "execution_count": null,
   "id": "0d010dcc",
   "metadata": {},
   "outputs": [],
   "source": [
    "df[\"nl_command_statment\"].iloc[95]"
   ]
  },
  {
   "cell_type": "code",
   "execution_count": null,
   "id": "17af2ae3",
   "metadata": {},
   "outputs": [],
   "source": [
    "df[\"only_actions\"] = actions_val"
   ]
  },
  {
   "cell_type": "code",
   "execution_count": null,
   "id": "7c87d41b",
   "metadata": {},
   "outputs": [],
   "source": [
    "df.head()"
   ]
  },
  {
   "cell_type": "code",
   "execution_count": null,
   "id": "c5add344",
   "metadata": {},
   "outputs": [],
   "source": [
    "# df[\"new_input\"] = \"<boF> \" + df[\"nl_command_statment\"] \n",
    "df[\"new_input\"] = df[\"nl_command_statment\"] "
   ]
  },
  {
   "cell_type": "code",
   "execution_count": null,
   "id": "7f41c8c2",
   "metadata": {},
   "outputs": [],
   "source": [
    "df.head()"
   ]
  },
  {
   "cell_type": "code",
   "execution_count": null,
   "id": "2bf2fc88",
   "metadata": {},
   "outputs": [],
   "source": [
    "from tensorflow.keras.preprocessing.text import Tokenizer, text_to_word_sequence\n",
    "from tensorflow.keras.preprocessing.sequence import pad_sequences\n",
    "\n",
    "input_tokenizer = Tokenizer()\n",
    "input_tokenizer.fit_on_texts(df['new_input'])\n",
    "Source_vocabulary = input_tokenizer.word_index.keys()"
   ]
  },
  {
   "cell_type": "code",
   "execution_count": null,
   "id": "3e284a34",
   "metadata": {},
   "outputs": [],
   "source": [
    "output_tokenizer = Tokenizer()\n",
    "output_tokenizer.fit_on_texts( df['only_actions'] )\n",
    "target_vocabulary = output_tokenizer.word_index.keys()"
   ]
  },
  {
   "cell_type": "code",
   "execution_count": null,
   "id": "95b56118",
   "metadata": {},
   "outputs": [],
   "source": [
    "input_int = input_tokenizer.texts_to_sequences(df['new_input'])\n",
    "output_int = output_tokenizer.texts_to_sequences(df['only_actions'])"
   ]
  },
  {
   "cell_type": "code",
   "execution_count": null,
   "id": "e39fc718",
   "metadata": {},
   "outputs": [],
   "source": [
    "max_source_seq_length =  len(max( input_int ,key=len))\n",
    "\n",
    "max_target_seq_length = len(max( output_int ,key=len))\n",
    "\n",
    "num_source_tokens = len(input_tokenizer.word_counts)\n",
    "\n",
    "num_target_tokens = len(output_tokenizer.word_counts)\n",
    "\n",
    "number_of_samples = df.shape[0]\n",
    "\n",
    "\n",
    "print('Number of samples:', number_of_samples )\n",
    "print('Number of unique source language tokens:', num_source_tokens)\n",
    "print('Number of unique target language tokens:', num_target_tokens)\n",
    "print('Max sequence length of source language:', max_source_seq_length)\n",
    "print('Max sequence length of target language:', max_target_seq_length)\n",
    "print(\"Source Vocabulary\",list(Source_vocabulary)[:10])\n",
    "print(\"Target Vocabulary\",list(target_vocabulary)[:10])"
   ]
  },
  {
   "cell_type": "code",
   "execution_count": null,
   "id": "d3f22474",
   "metadata": {},
   "outputs": [],
   "source": [
    "import fasttext\n",
    "import fasttext.util\n",
    "\n",
    "# English Embeddings \n",
    "fasttext_model = fasttext.load_model(r\"D:\\jupyter_notebook_project\\NUIG\\SEM 2\\advance NLP\\assignmentsssssssss\\assignment 3\\cc.en.300.bin\")\n",
    "# fasttext_dict = {word: model.get_word_vector(word) for word in model.get_words()}\n",
    "# del model"
   ]
  },
  {
   "cell_type": "code",
   "execution_count": null,
   "id": "a791945d",
   "metadata": {},
   "outputs": [],
   "source": [
    "import numpy as np\n",
    "\n",
    "pad_input = np.zeros((max_source_seq_length, num_source_tokens), dtype='float32')\n",
    "\n",
    "pad_output = np.zeros((max_target_seq_length, num_target_tokens), dtype='float32')"
   ]
  },
  {
   "cell_type": "code",
   "execution_count": null,
   "id": "edb5e407",
   "metadata": {},
   "outputs": [],
   "source": [
    "import tensorflow as tf"
   ]
  },
  {
   "cell_type": "code",
   "execution_count": null,
   "id": "58b83045",
   "metadata": {},
   "outputs": [],
   "source": [
    "from keras.utils.vis_utils import plot_model\n",
    "from tensorflow.keras.utils import to_categorical\n",
    "from tensorflow.keras import losses\n",
    "from tensorflow.keras.layers import Input, LSTM, Dense,Flatten, TimeDistributed, SimpleRNN, Flatten , Reshape, Embedding\n",
    "from tensorflow.keras.models import Model, Sequential\n",
    "\n",
    "embed_mat_english = np.zeros((num_source_tokens+1, 300))\n",
    "for value, position in input_tokenizer.word_index.items():\n",
    "    embedding_vect = fasttext_model.get_word_vector(value)\n",
    "    if embedding_vect is not None:\n",
    "        embed_mat_english[position] = embedding_vect\n",
    "    else:\n",
    "        print(\"Hits value \" , value ,\" position \" , position)\n",
    "\n",
    "english_layer_embedding = Embedding(num_source_tokens+1, 300, \n",
    "                         weights = [embed_mat_english],\n",
    "                            input_length = max_source_seq_length , \n",
    "                                    trainable = False,\n",
    "                                mask_zero = True) #using pre-trained embeddings"
   ]
  },
  {
   "cell_type": "code",
   "execution_count": null,
   "id": "9e68ac51",
   "metadata": {},
   "outputs": [],
   "source": [
    "max_target_seq_length , num_target_tokens"
   ]
  },
  {
   "cell_type": "code",
   "execution_count": null,
   "id": "7de16e46",
   "metadata": {},
   "outputs": [],
   "source": [
    "#pad the sequences to the same length\n",
    "pad_input_val = pad_sequences(input_int, maxlen=max_source_seq_length,padding='post')\n",
    "print(\"endcoder input shape\", pad_input_val.shape)\n",
    "\n",
    "#add padding for encoder after the sentence integers\n",
    "pad_output_val = pad_sequences(output_int, maxlen=num_target_tokens,padding='post' )\n",
    "print(\"decoder input shape\", pad_output_val.shape)"
   ]
  },
  {
   "cell_type": "code",
   "execution_count": null,
   "id": "ab70f023",
   "metadata": {},
   "outputs": [],
   "source": [
    "reshaped_input = pad_input_val.reshape(180, 56, 1)\n",
    "reshaped_output = pad_output_val.reshape( 180, 73 )"
   ]
  },
  {
   "cell_type": "code",
   "execution_count": null,
   "id": "926f835c",
   "metadata": {},
   "outputs": [],
   "source": [
    "reshaped_input.shape, reshaped_output.shape"
   ]
  },
  {
   "cell_type": "code",
   "execution_count": null,
   "id": "efc1a2d6",
   "metadata": {},
   "outputs": [],
   "source": [
    "reshaped_output"
   ]
  },
  {
   "cell_type": "code",
   "execution_count": null,
   "id": "f71e5bf5",
   "metadata": {},
   "outputs": [],
   "source": [
    "reshaped_output[:1 , ]"
   ]
  },
  {
   "cell_type": "code",
   "execution_count": null,
   "id": "e2daaacc",
   "metadata": {},
   "outputs": [],
   "source": [
    "reshaped_output[:1 , ].shape"
   ]
  },
  {
   "cell_type": "code",
   "execution_count": null,
   "id": "17684d79",
   "metadata": {},
   "outputs": [],
   "source": [
    "reshaped_output = to_categorical(reshaped_output[:1 , ])"
   ]
  },
  {
   "cell_type": "code",
   "execution_count": null,
   "id": "9e83f6f5",
   "metadata": {},
   "outputs": [],
   "source": [
    "reshaped_output.shape"
   ]
  },
  {
   "cell_type": "code",
   "execution_count": null,
   "id": "bbfba4b9",
   "metadata": {
    "scrolled": false
   },
   "outputs": [],
   "source": [
    "reshaped_output[:1 , ]"
   ]
  },
  {
   "cell_type": "code",
   "execution_count": null,
   "id": "f73706d6",
   "metadata": {},
   "outputs": [],
   "source": [
    "tdd = Input(shape= (56) )\n",
    "x = english_layer_embedding(tdd)\n",
    "\n",
    "encoder = LSTM(56, return_sequences=False, return_state= True)\n",
    "\n",
    "encoder_outputs, state_h, state_c = encoder(x)\n",
    "encoder_states = [state_h, state_c]\n",
    "\n",
    "\n",
    "decoder_inputs = Input(shape=(56, 1 ))\n",
    "decoder_lstm = LSTM(56, return_sequences=True, return_state=True)\n",
    "decoder_outputs, h1, c1  = decoder_lstm(decoder_inputs, initial_state = encoder_states)\n",
    "\n",
    "decoder_lstm = LSTM(56, return_sequences=True, return_state=True)\n",
    "decoder_outputs, _, _ = decoder_lstm(decoder_outputs)\n",
    "\n",
    "decoder_dense = TimeDistributed(Dense(56, activation=\"hard_sigmoid\"))\n",
    "decoder_outputs = decoder_dense(decoder_outputs)\n",
    "\n",
    "flat = Flatten()\n",
    "decoder_outputs = flat(decoder_outputs)\n",
    "\n",
    "decoder_dense = Dense(1036, activation=\"hard_sigmoid\")\n",
    "decoder_outputs = decoder_dense(decoder_outputs)\n",
    "\n",
    "decoder_outputs = tf.reshape(decoder_outputs , (1, 14,74))\n",
    "\n",
    "\n",
    "# decoder_dense = Dense(14, activation=\"relu\")\n",
    "# decoder_outputs = decoder_dense(decoder_outputs)\n"
   ]
  },
  {
   "cell_type": "code",
   "execution_count": null,
   "id": "9972c1a7",
   "metadata": {},
   "outputs": [],
   "source": [
    "model = Model([tdd, decoder_inputs], decoder_outputs)"
   ]
  },
  {
   "cell_type": "code",
   "execution_count": null,
   "id": "74113f87",
   "metadata": {},
   "outputs": [],
   "source": [
    "# model.compile(optimizer='RMSprop', loss=\"categorical_crossentropy\" ,metrics=[tf.keras.metrics.BinaryAccuracy() ,'accuracy'])\n",
    "model.compile(optimizer=tf.keras.optimizers.RMSprop(), loss= losses.CategoricalCrossentropy(from_logits=False)  , metrics=[\"accuracy\" ])\n",
    "# model.compile(optimizer='RMSprop', loss= losses.SparseCategoricalCrossentropy(from_logits=False ))"
   ]
  },
  {
   "cell_type": "code",
   "execution_count": null,
   "id": "9014295b",
   "metadata": {
    "scrolled": false
   },
   "outputs": [],
   "source": [
    "plot_model(model, show_shapes=True)"
   ]
  },
  {
   "cell_type": "code",
   "execution_count": null,
   "id": "b8316d2a",
   "metadata": {},
   "outputs": [],
   "source": [
    "np.any(np.isnan(reshaped_input))"
   ]
  },
  {
   "cell_type": "code",
   "execution_count": null,
   "id": "f7e05728",
   "metadata": {
    "scrolled": true
   },
   "outputs": [],
   "source": [
    "print(reshaped_input.shape, reshaped_output.shape )\n",
    "history = model.fit([reshaped_input , reshaped_input ] , reshaped_output,  epochs=100, batch_size= 1 , shuffle=True , validation_split=0.2)"
   ]
  },
  {
   "cell_type": "code",
   "execution_count": null,
   "id": "e4f8265e",
   "metadata": {},
   "outputs": [],
   "source": [
    "import matplotlib.pyplot as plt  \n",
    "%matplotlib inline\n",
    "\n",
    "plt.plot(history.history['loss'])\n",
    "plt.plot(history.history['val_loss'])\n",
    "plt.title('model loss')\n",
    "plt.ylabel('loss')\n",
    "plt.xlabel('epoch')\n",
    "plt.legend(['train', 'test'], loc='upper left')\n",
    "plt.show()\n",
    "plt.savefig('foo.png')"
   ]
  },
  {
   "cell_type": "code",
   "execution_count": null,
   "id": "3e7db3f7",
   "metadata": {},
   "outputs": [],
   "source": [
    "int(np.mean(history.history['loss'])) , np.mean(history.history['accuracy']) *100"
   ]
  },
  {
   "cell_type": "code",
   "execution_count": null,
   "id": "576d8ad4",
   "metadata": {},
   "outputs": [],
   "source": [
    "np.mean(history.history['loss']) , np.mean(history.history['accuracy'])"
   ]
  },
  {
   "cell_type": "code",
   "execution_count": null,
   "id": "4c91923f",
   "metadata": {
    "scrolled": true
   },
   "outputs": [],
   "source": [
    "reshaped_input[:1 , : , : ]"
   ]
  },
  {
   "cell_type": "code",
   "execution_count": null,
   "id": "d582249c",
   "metadata": {},
   "outputs": [],
   "source": [
    "reshaped_output[:1 , :  ]"
   ]
  },
  {
   "cell_type": "code",
   "execution_count": null,
   "id": "f041f8ae",
   "metadata": {
    "scrolled": true
   },
   "outputs": [],
   "source": [
    "model.predict( [reshaped_input[:1 , : , : ] , reshaped_input[:1 , : , : ]]  )"
   ]
  },
  {
   "cell_type": "code",
   "execution_count": null,
   "id": "c660e073",
   "metadata": {},
   "outputs": [],
   "source": [
    "# https://stackoverflow.com/questions/41908379/keras-plot-training-validation-and-test-set-accuracy\n",
    "pd.DataFrame(history.history).plot(figsize=(8,5))\n",
    "plt.show()"
   ]
  },
  {
   "cell_type": "code",
   "execution_count": null,
   "id": "abc559c9",
   "metadata": {},
   "outputs": [],
   "source": [
    "t = model.predict( [reshaped_input[:1 , : , : ] , reshaped_input[:1 , : , : ]]  ) "
   ]
  },
  {
   "cell_type": "code",
   "execution_count": null,
   "id": "84dcf24c",
   "metadata": {},
   "outputs": [],
   "source": [
    "t.min()"
   ]
  }
 ],
 "metadata": {
  "kernelspec": {
   "display_name": "Python 3",
   "language": "python",
   "name": "python3"
  },
  "language_info": {
   "codemirror_mode": {
    "name": "ipython",
    "version": 3
   },
   "file_extension": ".py",
   "mimetype": "text/x-python",
   "name": "python",
   "nbconvert_exporter": "python",
   "pygments_lexer": "ipython3",
   "version": "3.8.8"
  }
 },
 "nbformat": 4,
 "nbformat_minor": 5
}
