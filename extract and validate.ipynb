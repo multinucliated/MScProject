{
 "cells": [
  {
   "cell_type": "code",
   "execution_count": 1,
   "id": "4f62c539",
   "metadata": {},
   "outputs": [
    {
     "name": "stdout",
     "output_type": "stream",
     "text": [
      "3.8.8\n"
     ]
    }
   ],
   "source": [
    "from platform import python_version\n",
    "print(python_version())"
   ]
  },
  {
   "cell_type": "code",
   "execution_count": 2,
   "id": "5aff9e5d",
   "metadata": {},
   "outputs": [
    {
     "name": "stdout",
     "output_type": "stream",
     "text": [
      "3.8.8 (default, Apr 13 2021, 15:08:03) [MSC v.1916 64 bit (AMD64)]\n"
     ]
    }
   ],
   "source": [
    "import sys\n",
    "print(sys.version)"
   ]
  },
  {
   "cell_type": "code",
   "execution_count": 3,
   "id": "489870ac",
   "metadata": {},
   "outputs": [
    {
     "data": {
      "text/plain": [
       "[PhysicalDevice(name='/physical_device:GPU:0', device_type='GPU')]"
      ]
     },
     "execution_count": 3,
     "metadata": {},
     "output_type": "execute_result"
    }
   ],
   "source": [
    "import tensorflow as tf\n",
    "tf.config.experimental.list_physical_devices('GPU')"
   ]
  },
  {
   "cell_type": "code",
   "execution_count": 4,
   "id": "19c4ef0e",
   "metadata": {},
   "outputs": [
    {
     "name": "stdout",
     "output_type": "stream",
     "text": [
      "Num GPUs Available:  1\n"
     ]
    }
   ],
   "source": [
    "import tensorflow as tf\n",
    "print(\"Num GPUs Available: \", len(tf.config.list_physical_devices('GPU')))"
   ]
  },
  {
   "cell_type": "code",
   "execution_count": 5,
   "id": "7bf45ea8",
   "metadata": {},
   "outputs": [
    {
     "name": "stdout",
     "output_type": "stream",
     "text": [
      "[name: \"/device:CPU:0\"\n",
      "device_type: \"CPU\"\n",
      "memory_limit: 268435456\n",
      "locality {\n",
      "}\n",
      "incarnation: 17005553010360358772\n",
      "xla_global_id: -1\n",
      ", name: \"/device:GPU:0\"\n",
      "device_type: \"GPU\"\n",
      "memory_limit: 7055540224\n",
      "locality {\n",
      "  bus_id: 1\n",
      "  links {\n",
      "  }\n",
      "}\n",
      "incarnation: 10567365625907829720\n",
      "physical_device_desc: \"device: 0, name: NVIDIA GeForce GTX 980M, pci bus id: 0000:01:00.0, compute capability: 5.2\"\n",
      "xla_global_id: 416903419\n",
      "]\n"
     ]
    }
   ],
   "source": [
    "from tensorflow.python.client import device_lib\n",
    "print(device_lib.list_local_devices())"
   ]
  },
  {
   "cell_type": "code",
   "execution_count": 6,
   "id": "7df4b5d0",
   "metadata": {},
   "outputs": [],
   "source": [
    "import pandas as pd"
   ]
  },
  {
   "cell_type": "code",
   "execution_count": 7,
   "id": "79163bf2",
   "metadata": {},
   "outputs": [],
   "source": [
    "df = pd.read_json(\"mappingv3.json\")"
   ]
  },
  {
   "cell_type": "code",
   "execution_count": 8,
   "id": "2a515439",
   "metadata": {},
   "outputs": [
    {
     "data": {
      "text/plain": [
       "[\"[{'options': [{'id': 601225, '\",\n",
       " '\\': \\'new email from\\', \\'params\\': {\"sender\\'s address\": \\'contact@gs-store.de\\'}}, {\\'id\\': 600599, \\'',\n",
       " \"': 'new email in inbox from', 'params': {'email address': 'contact@gs-store.de'}}]}, {'id': 700000, '\",\n",
       " \"': 'make a payment', 'params': {'invoice': '<return1>.attachment', 'method': 'credit card'}}, {'id': 600603, '\",\n",
       " \"': 'send an email', 'params': {'attachment url': '<return2>', 'to address': 'contact@gs-store.de'}}]\"]"
      ]
     },
     "execution_count": 8,
     "metadata": {},
     "output_type": "execute_result"
    }
   ],
   "source": [
    "str(df[\"action_instances\"][0]).split(\"name\")"
   ]
  },
  {
   "cell_type": "code",
   "execution_count": 9,
   "id": "ce37618b",
   "metadata": {},
   "outputs": [
    {
     "data": {
      "text/plain": [
       "[{'options': [{'id': 601225,\n",
       "    'name': 'new email from',\n",
       "    'params': {\"sender's address\": 'contact@gs-store.de'}},\n",
       "   {'id': 600599,\n",
       "    'name': 'new email in inbox from',\n",
       "    'params': {'email address': 'contact@gs-store.de'}}]},\n",
       " {'id': 700000,\n",
       "  'name': 'make a payment',\n",
       "  'params': {'invoice': '<return1>.attachment', 'method': 'credit card'}},\n",
       " {'id': 600603,\n",
       "  'name': 'send an email',\n",
       "  'params': {'attachment url': '<return2>',\n",
       "   'to address': 'contact@gs-store.de'}}]"
      ]
     },
     "execution_count": 9,
     "metadata": {},
     "output_type": "execute_result"
    }
   ],
   "source": [
    "df[\"action_instances\"][0]"
   ]
  },
  {
   "cell_type": "code",
   "execution_count": 10,
   "id": "93ea2803",
   "metadata": {},
   "outputs": [
    {
     "data": {
      "text/plain": [
       "3"
      ]
     },
     "execution_count": 10,
     "metadata": {},
     "output_type": "execute_result"
    }
   ],
   "source": [
    "len(df[\"action_instances\"][0])"
   ]
  },
  {
   "cell_type": "code",
   "execution_count": 11,
   "id": "0f85a6d9",
   "metadata": {},
   "outputs": [
    {
     "data": {
      "text/plain": [
       "dict"
      ]
     },
     "execution_count": 11,
     "metadata": {},
     "output_type": "execute_result"
    }
   ],
   "source": [
    "type(df[\"action_instances\"][0][0])"
   ]
  },
  {
   "cell_type": "code",
   "execution_count": 12,
   "id": "a5f86026",
   "metadata": {},
   "outputs": [
    {
     "data": {
      "text/plain": [
       "{'options': [{'id': 601225,\n",
       "   'name': 'new email from',\n",
       "   'params': {\"sender's address\": 'contact@gs-store.de'}},\n",
       "  {'id': 600599,\n",
       "   'name': 'new email in inbox from',\n",
       "   'params': {'email address': 'contact@gs-store.de'}}]}"
      ]
     },
     "execution_count": 12,
     "metadata": {},
     "output_type": "execute_result"
    }
   ],
   "source": [
    "df[\"action_instances\"][0][0]"
   ]
  },
  {
   "cell_type": "code",
   "execution_count": 13,
   "id": "91aa7d28",
   "metadata": {},
   "outputs": [
    {
     "data": {
      "text/plain": [
       "'[{\\'options\\': [{\\'id\\': 601225, \\'name\\': \\'new email from\\', \\'params\\': {\"sender\\'s address\": \\'contact@gs-store.de\\'}}, {\\'id\\': 600599, \\'name\\': \\'new email in inbox from\\', \\'params\\': {\\'email address\\': \\'contact@gs-store.de\\'}}]}, {\\'id\\': 700000, \\'name\\': \\'make a payment\\', \\'params\\': {\\'invoice\\': \\'<return1>.attachment\\', \\'method\\': \\'credit card\\'}}, {\\'id\\': 600603, \\'name\\': \\'send an email\\', \\'params\\': {\\'attachment url\\': \\'<return2>\\', \\'to address\\': \\'contact@gs-store.de\\'}}]'"
      ]
     },
     "execution_count": 13,
     "metadata": {},
     "output_type": "execute_result"
    }
   ],
   "source": [
    "str(df[\"action_instances\"][0])"
   ]
  },
  {
   "cell_type": "code",
   "execution_count": 14,
   "id": "35589ef6",
   "metadata": {},
   "outputs": [
    {
     "data": {
      "text/plain": [
       "[{'options': [{'id': 601225,\n",
       "    'name': 'new email from',\n",
       "    'params': {\"sender's address\": 'contact@gs-store.de'}},\n",
       "   {'id': 600599,\n",
       "    'name': 'new email in inbox from',\n",
       "    'params': {'email address': 'contact@gs-store.de'}}]},\n",
       " {'id': 700000,\n",
       "  'name': 'make a payment',\n",
       "  'params': {'invoice': '<return1>.attachment', 'method': 'credit card'}},\n",
       " {'id': 600603,\n",
       "  'name': 'send an email',\n",
       "  'params': {'attachment url': '<return2>',\n",
       "   'to address': 'contact@gs-store.de'}}]"
      ]
     },
     "execution_count": 14,
     "metadata": {},
     "output_type": "execute_result"
    }
   ],
   "source": [
    "df[\"action_instances\"][0]"
   ]
  },
  {
   "cell_type": "code",
   "execution_count": 15,
   "id": "a667296a",
   "metadata": {},
   "outputs": [
    {
     "data": {
      "text/plain": [
       "[\"[{'options': [{'id': 601225, \",\n",
       " 'new email from\\', \\'params\\': {\"sender\\'s address\": \\'contact@gs-store.de\\'}}, {\\'id\\': 600599, ',\n",
       " \"new email in inbox from', 'params': {'email address': 'contact@gs-store.de'}}]}, {'id': 700000, \",\n",
       " \"make a payment', 'params': {'invoice': '<return1>.attachment', 'method': 'credit card'}}, {'id': 600603, \",\n",
       " \"send an email', 'params': {'attachment url': '<return2>', 'to address': 'contact@gs-store.de'}}]\"]"
      ]
     },
     "execution_count": 15,
     "metadata": {},
     "output_type": "execute_result"
    }
   ],
   "source": [
    "str(df[\"action_instances\"][0]).split(\"\\'name\\': \\'\")"
   ]
  },
  {
   "cell_type": "code",
   "execution_count": 16,
   "id": "688c08d4",
   "metadata": {},
   "outputs": [
    {
     "data": {
      "text/plain": [
       "['new email from\\', \\'params\\': {\"sender\\'s address\": \\'contact@gs-store.de\\'}}, {\\'id\\': 600599, ',\n",
       " \"new email in inbox from', 'params': {'email address': 'contact@gs-store.de'}}]}, {'id': 700000, \",\n",
       " \"make a payment', 'params': {'invoice': '<return1>.attachment', 'method': 'credit card'}}, {'id': 600603, \",\n",
       " \"send an email', 'params': {'attachment url': '<return2>', 'to address': 'contact@gs-store.de'}}]\"]"
      ]
     },
     "execution_count": 16,
     "metadata": {},
     "output_type": "execute_result"
    }
   ],
   "source": [
    "data = str(df[\"action_instances\"][0]).split(\"\\'name\\': \\'\")[1:]\n",
    "data"
   ]
  },
  {
   "cell_type": "code",
   "execution_count": 17,
   "id": "a2489d28",
   "metadata": {},
   "outputs": [
    {
     "name": "stdout",
     "output_type": "stream",
     "text": [
      "14\n",
      "new email from\n",
      "23\n",
      "new email in inbox from\n",
      "14\n",
      "make a payment\n",
      "13\n",
      "send an email\n"
     ]
    }
   ],
   "source": [
    "for everyData in data:\n",
    "    print(everyData.find(\"'\"))\n",
    "    val = everyData.find(\"'\")\n",
    "    print(everyData[:val])"
   ]
  },
  {
   "cell_type": "code",
   "execution_count": 18,
   "id": "62a4093b",
   "metadata": {},
   "outputs": [],
   "source": [
    "actions_val = []\n",
    "for everyCommand in df[\"action_instances\"]:\n",
    "    data = str(everyCommand).split(\"\\'name\\': \\'\")[1:]\n",
    "    temp = []\n",
    "    for everyData in data:\n",
    "        val = everyData.find(\"'\")\n",
    "        temp.append(everyData[:val])\n",
    "    actions_val.append(temp)    "
   ]
  },
  {
   "cell_type": "code",
   "execution_count": 19,
   "id": "bff6d6a0",
   "metadata": {
    "scrolled": true
   },
   "outputs": [
    {
     "data": {
      "text/plain": [
       "[['new email from',\n",
       "  'new email in inbox from',\n",
       "  'make a payment',\n",
       "  'send an email'],\n",
       " ['new email from',\n",
       "  'new email in inbox from',\n",
       "  'make a payment',\n",
       "  'send an email'],\n",
       " ['new email from',\n",
       "  'new email in inbox from',\n",
       "  'make a payment',\n",
       "  'send an email'],\n",
       " ['new email from',\n",
       "  'new email in inbox from',\n",
       "  'make a payment',\n",
       "  'send an email'],\n",
       " ['new email from',\n",
       "  'new email in inbox from',\n",
       "  'make a payment',\n",
       "  'send an email'],\n",
       " ['new deposit in your account from sender', 'send an email', 'send email'],\n",
       " ['new deposit in your account from sender', 'send an email', 'send email'],\n",
       " ['new deposit in your account from sender', 'send an email', 'send email'],\n",
       " ['new deposit in your account from sender', 'send an email', 'send email'],\n",
       " ['read file content',\n",
       "  'translate',\n",
       "  'translate',\n",
       "  'translate',\n",
       "  'create a text file',\n",
       "  'create a text file',\n",
       "  'create a document',\n",
       "  'send an email'],\n",
       " ['read file content',\n",
       "  'translate',\n",
       "  'translate',\n",
       "  'translate',\n",
       "  'send an email',\n",
       "  'send email'],\n",
       " ['read file content',\n",
       "  'translate',\n",
       "  'translate',\n",
       "  'translate',\n",
       "  'send an email',\n",
       "  'send email'],\n",
       " ['new email from',\n",
       "  'new email in inbox from',\n",
       "  'extract content',\n",
       "  'convert',\n",
       "  'send an email',\n",
       "  'send email',\n",
       "  'send an email',\n",
       "  'send email'],\n",
       " ['new email from', 'new email in inbox from', 'extract content', 'convert'],\n",
       " ['weather',\n",
       "  'daily-forecast-weather-data',\n",
       "  'weather-forecast',\n",
       "  'search-weather-data',\n",
       "  'send an email',\n",
       "  'send email',\n",
       "  'send an email',\n",
       "  'send email'],\n",
       " ['weather',\n",
       "  'daily-forecast-weather-data',\n",
       "  'weather-forecast',\n",
       "  'search-weather-data',\n",
       "  'send an email',\n",
       "  'send email',\n",
       "  'send an email',\n",
       "  'send email'],\n",
       " ['weather',\n",
       "  'daily-forecast-weather-data',\n",
       "  'weather-forecast',\n",
       "  'search-weather-data',\n",
       "  'send an email',\n",
       "  'send email',\n",
       "  'send an email',\n",
       "  'send email'],\n",
       " ['weather',\n",
       "  'daily-forecast-weather-data',\n",
       "  'weather-forecast',\n",
       "  'search-weather-data',\n",
       "  'send an email',\n",
       "  'send email',\n",
       "  'send an email',\n",
       "  'send email'],\n",
       " ['weather',\n",
       "  'daily-forecast-weather-data',\n",
       "  'weather-forecast',\n",
       "  'search-weather-data',\n",
       "  'send an email',\n",
       "  'send email',\n",
       "  'send an email',\n",
       "  'send email'],\n",
       " ['new item from search', 'buy a product by id'],\n",
       " ['new item from search', 'buy a product by id'],\n",
       " ['new item from search', 'buy a product by id'],\n",
       " ['new item from search', 'buy a product by id'],\n",
       " ['new item from search', 'buy a product by id'],\n",
       " ['new item from search', 'buy a product by id'],\n",
       " ['new item from search', 'buy a product by id'],\n",
       " ['new item from search', 'buy a product by id'],\n",
       " ['get contacts', 'send an email', 'send email'],\n",
       " ['get contacts', 'send an email', 'send email'],\n",
       " ['send an email',\n",
       "  'send email',\n",
       "  'new email from',\n",
       "  'new email in inbox from',\n",
       "  'upload public photo from url'],\n",
       " ['send an email',\n",
       "  'send email',\n",
       "  'new email from',\n",
       "  'new email in inbox from',\n",
       "  'upload public photo from url'],\n",
       " ['send an email',\n",
       "  'send email',\n",
       "  'new email from',\n",
       "  'new email in inbox from',\n",
       "  'upload public photo from url'],\n",
       " ['send an email',\n",
       "  'send email',\n",
       "  'new email from',\n",
       "  'new email in inbox from',\n",
       "  'upload public photo from url'],\n",
       " ['send an email',\n",
       "  'send email',\n",
       "  'new email from',\n",
       "  'new email in inbox from',\n",
       "  'upload public photo from url'],\n",
       " ['search image on Flickr', 'send an email'],\n",
       " ['search image on Flickr', 'send an email'],\n",
       " ['search image on Flickr', 'send an email'],\n",
       " ['search image on Flickr', 'send an email'],\n",
       " ['search image on Flickr', 'send an email'],\n",
       " ['search image on Flickr', 'send an email'],\n",
       " ['search video on YouTube', 'send an email', 'send email'],\n",
       " ['search video on YouTube', 'send an email', 'send email'],\n",
       " ['search video on YouTube', 'send an email', 'send email'],\n",
       " ['search video on YouTube', 'send an email', 'send email'],\n",
       " ['new email from',\n",
       "  'new email in inbox from',\n",
       "  'create a link post',\n",
       "  'post a tweet with image'],\n",
       " ['new email from',\n",
       "  'new email in inbox from',\n",
       "  'create a link post',\n",
       "  'post a tweet with image'],\n",
       " ['new email from',\n",
       "  'new email in inbox from',\n",
       "  'create a link post',\n",
       "  'post a tweet with image'],\n",
       " ['new email from',\n",
       "  'new email in inbox from',\n",
       "  'create a link post',\n",
       "  'post a tweet with image'],\n",
       " ['new email from',\n",
       "  'new email in inbox from',\n",
       "  'create a link post',\n",
       "  'post a tweet with image'],\n",
       " ['new email from',\n",
       "  'new email in inbox from',\n",
       "  'create a link post',\n",
       "  'post a tweet with image'],\n",
       " ['tweets from search'],\n",
       " ['tweets from search'],\n",
       " ['tweets from search'],\n",
       " ['tweets from search'],\n",
       " ['tweets from search'],\n",
       " ['tweets from search'],\n",
       " ['tweets from search'],\n",
       " ['tweets from search'],\n",
       " ['directions'],\n",
       " ['directions'],\n",
       " ['directions'],\n",
       " ['directions'],\n",
       " ['directions'],\n",
       " ['directions'],\n",
       " ['directions'],\n",
       " ['new item from search', 'send an email', 'send email'],\n",
       " ['new item from search', 'send an email', 'send email'],\n",
       " ['new item from search', 'send an email', 'send email'],\n",
       " ['new item from search', 'send an email', 'send email'],\n",
       " ['new item from search', 'send an email', 'send email'],\n",
       " ['send an email',\n",
       "  'send email',\n",
       "  'new email from',\n",
       "  'new email in inbox from',\n",
       "  'send an email',\n",
       "  'send email'],\n",
       " ['send an email',\n",
       "  'send email',\n",
       "  'new email from',\n",
       "  'new email in inbox from',\n",
       "  'send an email',\n",
       "  'send email'],\n",
       " ['send an email',\n",
       "  'send email',\n",
       "  'new email from',\n",
       "  'new email in inbox from',\n",
       "  'send an email',\n",
       "  'send email'],\n",
       " ['send an email',\n",
       "  'send email',\n",
       "  'new email from',\n",
       "  'new email in inbox from',\n",
       "  'send an email',\n",
       "  'send email'],\n",
       " ['send an email',\n",
       "  'send email',\n",
       "  'new email from',\n",
       "  'new email in inbox from',\n",
       "  'send an email',\n",
       "  'send email'],\n",
       " ['search image on Flickr', 'share a link'],\n",
       " ['search image on Flickr', 'share a link'],\n",
       " ['search image on Flickr', 'share a link'],\n",
       " ['search image on Flickr', 'share a link'],\n",
       " ['search image on Flickr', 'share a link'],\n",
       " ['search image on Flickr', 'share a link'],\n",
       " ['search image on Flickr', 'create a link post'],\n",
       " ['search image on Flickr', 'create a link post'],\n",
       " ['search image on Flickr', 'create a link post'],\n",
       " ['search image on Flickr', 'create a link post'],\n",
       " ['create calendar item'],\n",
       " ['create calendar item'],\n",
       " ['create calendar item'],\n",
       " ['create calendar item'],\n",
       " ['create calendar item'],\n",
       " ['create calendar item'],\n",
       " ['tweets from search', 'send a direct message'],\n",
       " ['tweets from search', 'send a direct message'],\n",
       " ['tweets from search', 'send a direct message'],\n",
       " ['tweets from search', 'send a direct message'],\n",
       " ['new email from',\n",
       "  'new email in inbox from',\n",
       "  'read file content',\n",
       "  'translate',\n",
       "  'translate',\n",
       "  'translate',\n",
       "  'create a text file',\n",
       "  'create a text file',\n",
       "  'create a document',\n",
       "  'send an email',\n",
       "  'new email from',\n",
       "  'new email in inbox from',\n",
       "  'send an email',\n",
       "  'send email'],\n",
       " ['new email from',\n",
       "  'new email in inbox from',\n",
       "  'read file content',\n",
       "  'translate',\n",
       "  'translate',\n",
       "  'translate',\n",
       "  'create a text file',\n",
       "  'create a text file',\n",
       "  'create a document',\n",
       "  'send an email'],\n",
       " ['new email from',\n",
       "  'new email in inbox from',\n",
       "  'read file content',\n",
       "  'translate',\n",
       "  'translate',\n",
       "  'translate',\n",
       "  'send an email',\n",
       "  'send email'],\n",
       " ['new email from',\n",
       "  'new email in inbox from',\n",
       "  'print document',\n",
       "  'post message',\n",
       "  'convert-file',\n",
       "  'share a link'],\n",
       " ['new email from',\n",
       "  'new email in inbox from',\n",
       "  'print document',\n",
       "  'post message'],\n",
       " ['new email from',\n",
       "  'new email in inbox from',\n",
       "  'print document',\n",
       "  'post message',\n",
       "  'convert-file',\n",
       "  'share a link'],\n",
       " ['any new post by someone',\n",
       "  'any new post by someone',\n",
       "  'contains expression',\n",
       "  'post message'],\n",
       " ['any new post by someone',\n",
       "  'send an email',\n",
       "  'send email',\n",
       "  'contains expression',\n",
       "  'post message'],\n",
       " ['any new post by someone', 'contains expression', 'post message'],\n",
       " ['add new contact', 'Julian Brown', 'create new contact'],\n",
       " ['add new contact', 'Julian Brown', 'create new contact'],\n",
       " ['add new contact', 'Julian Brown', 'create new contact'],\n",
       " ['add new contact', 'Jean Meer', 'create new contact'],\n",
       " ['add new contact', 'Jean Meer', 'create new contact'],\n",
       " ['add new contact', 'Jean Meer', 'create new contact'],\n",
       " ['add new contact', 'Jean Meer', 'create new contact'],\n",
       " ['add new contact', 'Jean Meer', 'create new contact'],\n",
       " ['add new contact', 'Jean Meer', 'create new contact'],\n",
       " ['add new contact', 'Jean Meer', 'create new contact'],\n",
       " ['add new contact', 'Jean Meer', 'create new contact'],\n",
       " ['any new issue', 'post message', 'post message'],\n",
       " ['any new issue', 'post message', 'post message'],\n",
       " ['any new issue', 'post message', 'post message'],\n",
       " ['any new issue', 'post message', 'post message'],\n",
       " ['new article in section', 'add a bitlink', 'post a tweet'],\n",
       " ['new article in section', 'add a bitlink', 'post a tweet'],\n",
       " ['new article in section', 'add a bitlink', 'post a tweet'],\n",
       " ['new article in section', 'add a bitlink', 'post a tweet'],\n",
       " ['new item from search', 'post message'],\n",
       " ['new item from search', 'post message'],\n",
       " ['new item from search', 'post message'],\n",
       " ['new item from search', 'post message'],\n",
       " ['picture of the day', 'send an email', 'send email', 'add photo to album'],\n",
       " ['picture of the day', 'add photo to album', 'send an email'],\n",
       " ['picture of the day', 'add photo to album', 'send an email', 'send email'],\n",
       " ['picture of the day',\n",
       "  'post message',\n",
       "  'add photo to album',\n",
       "  'send an email',\n",
       "  'send email'],\n",
       " ['new final score', 'call my phone', 'add track to a playlist'],\n",
       " ['new final score', 'call my phone', 'add track to a playlist'],\n",
       " ['new final score', 'add track to a playlist', 'call my phone'],\n",
       " ['new final score', 'add track to a playlist', 'call my phone'],\n",
       " ['new final score', 'add track to a playlist', 'call my phone'],\n",
       " ['new final score',\n",
       "  'add track to a playlist',\n",
       "  'call my phone',\n",
       "  'post a tweet'],\n",
       " ['new story from section', 'send an email', 'send email'],\n",
       " ['new story from section', 'send an email', 'send email'],\n",
       " ['send an email', 'new story from section'],\n",
       " ['send an email', 'send email', 'new story from section'],\n",
       " ['new story from section', 'send an email', 'send email'],\n",
       " ['new story from section', 'send an email'],\n",
       " ['tweets from search',\n",
       "  'create an issue',\n",
       "  'create an issue',\n",
       "  'tweets from search'],\n",
       " ['tweets from search',\n",
       "  'create an issue',\n",
       "  'create an issue',\n",
       "  'tweets from search'],\n",
       " ['tweets from search',\n",
       "  'create an issue',\n",
       "  'create an issue',\n",
       "  'tweets from search'],\n",
       " ['tweets from search',\n",
       "  'create an issue',\n",
       "  'create an issue',\n",
       "  'tweets from search'],\n",
       " ['enter an area',\n",
       "  'you enter an area',\n",
       "  'open garage door',\n",
       "  'open garage door'],\n",
       " ['enter an area',\n",
       "  'you enter an area',\n",
       "  'open garage door',\n",
       "  'open garage door'],\n",
       " ['enter an area',\n",
       "  'you enter an area',\n",
       "  'open garage door',\n",
       "  'open garage door'],\n",
       " ['enter an area',\n",
       "  'you enter an area',\n",
       "  'open garage door',\n",
       "  'open garage door'],\n",
       " ['enter an area',\n",
       "  'you enter an area',\n",
       "  'open garage door',\n",
       "  'open garage door'],\n",
       " ['air quality changed',\n",
       "  'change light color',\n",
       "  'change color',\n",
       "  'change color',\n",
       "  'change color'],\n",
       " ['air quality changed',\n",
       "  'change light color',\n",
       "  'change color',\n",
       "  'change color',\n",
       "  'change color'],\n",
       " ['air quality changed',\n",
       "  'change light color',\n",
       "  'change color',\n",
       "  'change color',\n",
       "  'change color'],\n",
       " ['air quality changed',\n",
       "  'change light color',\n",
       "  'change color',\n",
       "  'change color',\n",
       "  'change color'],\n",
       " ['air quality changed',\n",
       "  'change light color',\n",
       "  'change color',\n",
       "  'change color',\n",
       "  'change color'],\n",
       " ['air quality changed',\n",
       "  'change light color',\n",
       "  'change color',\n",
       "  'change color',\n",
       "  'change color'],\n",
       " ['air quality changed',\n",
       "  'change light color',\n",
       "  'change color',\n",
       "  'change color',\n",
       "  'change color'],\n",
       " ['widget-search-json-1',\n",
       "  'quote',\n",
       "  'quote',\n",
       "  'search image on Flickr',\n",
       "  'create a link post'],\n",
       " ['widget-search-json-1',\n",
       "  'quote',\n",
       "  'quote',\n",
       "  'search image on Flickr',\n",
       "  'create a link post'],\n",
       " ['widget-search-json-1',\n",
       "  'quote',\n",
       "  'quote',\n",
       "  'search image on Flickr',\n",
       "  'send an email'],\n",
       " ['widget-search-json-1',\n",
       "  'quote',\n",
       "  'quote',\n",
       "  'search image on Flickr',\n",
       "  'create a link post'],\n",
       " ['any new post by someone',\n",
       "  'porn-filter-by-image-url',\n",
       "  'detect-nudity-in-web-hosted-image',\n",
       "  'nudity-check',\n",
       "  'nudity-detection-on-public-url',\n",
       "  'post message'],\n",
       " ['new email from',\n",
       "  'new email in inbox from',\n",
       "  'porn-filter-by-image-url',\n",
       "  'detect-nudity-in-web-hosted-image',\n",
       "  'nudity-check',\n",
       "  'nudity-detection-on-public-url',\n",
       "  'post message'],\n",
       " ['search'],\n",
       " ['search'],\n",
       " ['search'],\n",
       " ['search'],\n",
       " ['search'],\n",
       " ['read file content',\n",
       "  'check',\n",
       "  'create a text file',\n",
       "  'create a text file',\n",
       "  'create a document',\n",
       "  'convert-file',\n",
       "  'send an email'],\n",
       " ['read file content',\n",
       "  'check',\n",
       "  'create a text file',\n",
       "  'create a text file',\n",
       "  'create a document',\n",
       "  'convert-file',\n",
       "  'send an email'],\n",
       " ['read file content', 'check'],\n",
       " ['take snapshots', 'create a link post'],\n",
       " ['take snapshots', 'take snapshots'],\n",
       " ['take snapshots'],\n",
       " ['get-top-definition', 'qr-code', 'post message'],\n",
       " ['get-top-definition', 'post message'],\n",
       " ['get-profile-pic-url',\n",
       "  'porn-filter-by-image-url',\n",
       "  'detect-nudity-in-web-hosted-image',\n",
       "  'nudity-check',\n",
       "  'nudity-detection-on-public-url',\n",
       "  'upload a photo from url',\n",
       "  'create-pdf-from-url',\n",
       "  'pdf',\n",
       "  'html-to-pdf',\n",
       "  'pdf',\n",
       "  'api-pdf',\n",
       "  'upload file from url'],\n",
       " ['get-profile-pic-url',\n",
       "  'porn-filter-by-image-url',\n",
       "  'detect-nudity-in-web-hosted-image',\n",
       "  'nudity-check',\n",
       "  'nudity-detection-on-public-url']]"
      ]
     },
     "execution_count": 19,
     "metadata": {},
     "output_type": "execute_result"
    }
   ],
   "source": [
    "actions_val"
   ]
  },
  {
   "cell_type": "code",
   "execution_count": 20,
   "id": "9be7db73",
   "metadata": {
    "scrolled": true
   },
   "outputs": [
    {
     "data": {
      "text/plain": [
       "[{'id': 700002,\n",
       "  'name': 'read file content',\n",
       "  'params': {'file': 'question.doc'}},\n",
       " {'options': [{'id': 501371,\n",
       "    'name': 'translate',\n",
       "    'params': {'from': 'en', 'text': '<return1>', 'to': 'pt'}},\n",
       "   {'id': 501915,\n",
       "    'name': 'translate',\n",
       "    'params': {'languageConverted': 'en',\n",
       "     'languageToConvert': 'pt',\n",
       "     'text': '<return1>'}},\n",
       "   {'id': 503292,\n",
       "    'name': 'translate',\n",
       "    'params': {'input': '<return1>', 'source': 'en', 'target': 'pt'}}]},\n",
       " {'options': [{'id': 600603,\n",
       "    'name': 'send an email',\n",
       "    'params': {'body': '<return2>', 'to address': 'sandra@andrade.com.br'}},\n",
       "   {'id': 601227,\n",
       "    'name': 'send email',\n",
       "    'params': {'body': '<return2>', 'recipients': 'sandra@andrade.com.br'}}]}]"
      ]
     },
     "execution_count": 20,
     "metadata": {},
     "output_type": "execute_result"
    }
   ],
   "source": [
    "df[\"action_instances\"][10]"
   ]
  },
  {
   "cell_type": "code",
   "execution_count": 21,
   "id": "ee093abd",
   "metadata": {},
   "outputs": [
    {
     "data": {
      "text/plain": [
       "'Find \"question.doc\" and translate the content of the file from English into Portuguese. Send this new text to Sandra. Once she sends back the reviewed message, send it to Brazilian embassy.'"
      ]
     },
     "execution_count": 21,
     "metadata": {},
     "output_type": "execute_result"
    }
   ],
   "source": [
    "df[\"nl_command_statment\"].iloc[10]"
   ]
  },
  {
   "cell_type": "code",
   "execution_count": 22,
   "id": "d8114ef7",
   "metadata": {},
   "outputs": [],
   "source": [
    "import itertools\n",
    "s = \",\".join(itertools.chain(*actions_val))"
   ]
  },
  {
   "cell_type": "code",
   "execution_count": 23,
   "id": "72e2cebe",
   "metadata": {},
   "outputs": [
    {
     "data": {
      "text/plain": [
       "73"
      ]
     },
     "execution_count": 23,
     "metadata": {},
     "output_type": "execute_result"
    }
   ],
   "source": [
    "len(set(s.split(\",\")))"
   ]
  },
  {
   "cell_type": "code",
   "execution_count": 24,
   "id": "b3c37063",
   "metadata": {
    "scrolled": true
   },
   "outputs": [
    {
     "name": "stdout",
     "output_type": "stream",
     "text": [
      "4\n",
      "4\n",
      "4\n",
      "4\n",
      "4\n",
      "3\n",
      "3\n",
      "3\n",
      "3\n",
      "8\n",
      "6\n",
      "6\n",
      "8\n",
      "4\n",
      "8\n",
      "8\n",
      "8\n",
      "8\n",
      "8\n",
      "2\n",
      "2\n",
      "2\n",
      "2\n",
      "2\n",
      "2\n",
      "2\n",
      "2\n",
      "3\n",
      "3\n",
      "5\n",
      "5\n",
      "5\n",
      "5\n",
      "5\n",
      "2\n",
      "2\n",
      "2\n",
      "2\n",
      "2\n",
      "2\n",
      "3\n",
      "3\n",
      "3\n",
      "3\n",
      "4\n",
      "4\n",
      "4\n",
      "4\n",
      "4\n",
      "4\n",
      "1\n",
      "1\n",
      "1\n",
      "1\n",
      "1\n",
      "1\n",
      "1\n",
      "1\n",
      "1\n",
      "1\n",
      "1\n",
      "1\n",
      "1\n",
      "1\n",
      "1\n",
      "3\n",
      "3\n",
      "3\n",
      "3\n",
      "3\n",
      "6\n",
      "6\n",
      "6\n",
      "6\n",
      "6\n",
      "2\n",
      "2\n",
      "2\n",
      "2\n",
      "2\n",
      "2\n",
      "2\n",
      "2\n",
      "2\n",
      "2\n",
      "1\n",
      "1\n",
      "1\n",
      "1\n",
      "1\n",
      "1\n",
      "2\n",
      "2\n",
      "2\n",
      "2\n",
      "14\n",
      "10\n",
      "8\n",
      "6\n",
      "4\n",
      "6\n",
      "4\n",
      "5\n",
      "3\n",
      "3\n",
      "3\n",
      "3\n",
      "3\n",
      "3\n",
      "3\n",
      "3\n",
      "3\n",
      "3\n",
      "3\n",
      "3\n",
      "3\n",
      "3\n",
      "3\n",
      "3\n",
      "3\n",
      "3\n",
      "3\n",
      "3\n",
      "2\n",
      "2\n",
      "2\n",
      "2\n",
      "4\n",
      "3\n",
      "4\n",
      "5\n",
      "3\n",
      "3\n",
      "3\n",
      "3\n",
      "3\n",
      "4\n",
      "3\n",
      "3\n",
      "2\n",
      "3\n",
      "3\n",
      "2\n",
      "4\n",
      "4\n",
      "4\n",
      "4\n",
      "4\n",
      "4\n",
      "4\n",
      "4\n",
      "4\n",
      "5\n",
      "5\n",
      "5\n",
      "5\n",
      "5\n",
      "5\n",
      "5\n",
      "5\n",
      "5\n",
      "5\n",
      "5\n",
      "6\n",
      "7\n",
      "1\n",
      "1\n",
      "1\n",
      "1\n",
      "1\n",
      "7\n",
      "7\n",
      "2\n",
      "2\n",
      "2\n",
      "1\n",
      "3\n",
      "2\n",
      "12\n",
      "5\n"
     ]
    }
   ],
   "source": [
    "for val in actions_val:\n",
    "    print(len(val))"
   ]
  },
  {
   "cell_type": "code",
   "execution_count": 25,
   "id": "b16559f0",
   "metadata": {},
   "outputs": [],
   "source": [
    "temp = []\n",
    "for val in actions_val:\n",
    "    temp.append(len(val))"
   ]
  },
  {
   "cell_type": "code",
   "execution_count": 26,
   "id": "6c58cf78",
   "metadata": {},
   "outputs": [
    {
     "data": {
      "text/plain": [
       "(14, 1)"
      ]
     },
     "execution_count": 26,
     "metadata": {},
     "output_type": "execute_result"
    }
   ],
   "source": [
    "max(temp), min(temp)"
   ]
  },
  {
   "cell_type": "code",
   "execution_count": 27,
   "id": "bb112b17",
   "metadata": {},
   "outputs": [
    {
     "data": {
      "text/plain": [
       "95"
      ]
     },
     "execution_count": 27,
     "metadata": {},
     "output_type": "execute_result"
    }
   ],
   "source": [
    "temp.index(14)"
   ]
  },
  {
   "cell_type": "code",
   "execution_count": 28,
   "id": "b88ccfbb",
   "metadata": {},
   "outputs": [
    {
     "data": {
      "text/plain": [
       "['new email from',\n",
       " 'new email in inbox from',\n",
       " 'read file content',\n",
       " 'translate',\n",
       " 'translate',\n",
       " 'translate',\n",
       " 'create a text file',\n",
       " 'create a text file',\n",
       " 'create a document',\n",
       " 'send an email',\n",
       " 'new email from',\n",
       " 'new email in inbox from',\n",
       " 'send an email',\n",
       " 'send email']"
      ]
     },
     "execution_count": 28,
     "metadata": {},
     "output_type": "execute_result"
    }
   ],
   "source": [
    "actions_val[95]"
   ]
  },
  {
   "cell_type": "code",
   "execution_count": 29,
   "id": "54f7be8b",
   "metadata": {},
   "outputs": [
    {
     "data": {
      "text/plain": [
       "[{'options': [{'id': 601225,\n",
       "    'name': 'new email from',\n",
       "    'params': {\"sender's address\": 'carmen@souza.cl'}},\n",
       "   {'id': 600599,\n",
       "    'name': 'new email in inbox from',\n",
       "    'params': {'email address': 'carmen@souza.cl'}}]},\n",
       " {'id': 700002,\n",
       "  'name': 'read file content',\n",
       "  'params': {'file': '<return1>.attachment'}},\n",
       " {'options': [{'id': 501371,\n",
       "    'name': 'translate',\n",
       "    'params': {'from': 'de', 'text': '<return2>', 'to': 'en'}},\n",
       "   {'id': 501915,\n",
       "    'name': 'translate',\n",
       "    'params': {'languageConverted': 'de',\n",
       "     'languageToConvert': 'en',\n",
       "     'text': '<return2>'}},\n",
       "   {'id': 503292,\n",
       "    'name': 'translate',\n",
       "    'params': {'input': '<return2>', 'source': 'de', 'target': 'en'}}]},\n",
       " {'options': [{'id': 600209,\n",
       "    'name': 'create a text file',\n",
       "    'params': {'content': '<return3>', 'file name': 'english-version.txt'}},\n",
       "   {'id': 600350,\n",
       "    'name': 'create a text file',\n",
       "    'params': {'content': '<return3>', 'file name': 'english-version.txt'}},\n",
       "   {'id': 600614,\n",
       "    'name': 'create a document',\n",
       "    'params': {'content': '<return3>',\n",
       "     'document name': 'english-version.txt'}}]},\n",
       " {'id': 600603,\n",
       "  'name': 'send an email',\n",
       "  'params': {'attachment url': '<return4>',\n",
       "   'body': 'Please, see if this candidate is suitable for our opened position.',\n",
       "   'to address': 'helena@university.com'}},\n",
       " {'options': [{'id': 601225,\n",
       "    'name': 'new email from',\n",
       "    'params': {\"sender's address\": 'helena@university.com'}},\n",
       "   {'id': 600599,\n",
       "    'name': 'new email in inbox from',\n",
       "    'params': {'email address': 'helena@university.com'}}]},\n",
       " {'options': [{'id': 600603,\n",
       "    'name': 'send an email',\n",
       "    'params': {'body': '<return5>', 'to address': 'carmen@souza.cl'}},\n",
       "   {'id': 601227,\n",
       "    'name': 'send email',\n",
       "    'params': {'body': '<return5>', 'recipients': 'carmen@souza.cl'}}]}]"
      ]
     },
     "execution_count": 29,
     "metadata": {},
     "output_type": "execute_result"
    }
   ],
   "source": [
    "df[\"action_instances\"][95]"
   ]
  },
  {
   "cell_type": "code",
   "execution_count": 30,
   "id": "0d010dcc",
   "metadata": {},
   "outputs": [
    {
     "data": {
      "text/plain": [
       "'Get the CV attached to a new email sent by Carmen Souza. Translate it from German to English saving the content in \"english-version.txt\" and send the new copy to Maria Helena by email saying: Please, see if this candidate is suitable for our opened position. When she answers, forward the message to Mrs Souza.'"
      ]
     },
     "execution_count": 30,
     "metadata": {},
     "output_type": "execute_result"
    }
   ],
   "source": [
    "df[\"nl_command_statment\"].iloc[95]"
   ]
  },
  {
   "cell_type": "code",
   "execution_count": 31,
   "id": "17af2ae3",
   "metadata": {},
   "outputs": [],
   "source": [
    "df[\"only_actions\"] = actions_val"
   ]
  },
  {
   "cell_type": "code",
   "execution_count": 32,
   "id": "7c87d41b",
   "metadata": {},
   "outputs": [
    {
     "data": {
      "text/html": [
       "<div>\n",
       "<style scoped>\n",
       "    .dataframe tbody tr th:only-of-type {\n",
       "        vertical-align: middle;\n",
       "    }\n",
       "\n",
       "    .dataframe tbody tr th {\n",
       "        vertical-align: top;\n",
       "    }\n",
       "\n",
       "    .dataframe thead th {\n",
       "        text-align: right;\n",
       "    }\n",
       "</style>\n",
       "<table border=\"1\" class=\"dataframe\">\n",
       "  <thead>\n",
       "    <tr style=\"text-align: right;\">\n",
       "      <th></th>\n",
       "      <th>action_instances</th>\n",
       "      <th>id</th>\n",
       "      <th>nl_command_statment</th>\n",
       "      <th>only_actions</th>\n",
       "    </tr>\n",
       "  </thead>\n",
       "  <tbody>\n",
       "    <tr>\n",
       "      <th>0</th>\n",
       "      <td>[{'options': [{'id': 601225, 'name': 'new emai...</td>\n",
       "      <td>101</td>\n",
       "      <td>Pay the invoice that I will receive from conta...</td>\n",
       "      <td>[new email from, new email in inbox from, make...</td>\n",
       "    </tr>\n",
       "    <tr>\n",
       "      <th>1</th>\n",
       "      <td>[{'options': [{'id': 601225, 'name': 'new emai...</td>\n",
       "      <td>102</td>\n",
       "      <td>Pay in the bank my purchases that I will soon ...</td>\n",
       "      <td>[new email from, new email in inbox from, make...</td>\n",
       "    </tr>\n",
       "    <tr>\n",
       "      <th>2</th>\n",
       "      <td>[{'options': [{'id': 601225, 'name': 'new emai...</td>\n",
       "      <td>105</td>\n",
       "      <td>Make a payment using my bank account when I re...</td>\n",
       "      <td>[new email from, new email in inbox from, make...</td>\n",
       "    </tr>\n",
       "    <tr>\n",
       "      <th>3</th>\n",
       "      <td>[{'options': [{'id': 601225, 'name': 'new emai...</td>\n",
       "      <td>106</td>\n",
       "      <td>Pay my Good Sports Store account balance using...</td>\n",
       "      <td>[new email from, new email in inbox from, make...</td>\n",
       "    </tr>\n",
       "    <tr>\n",
       "      <th>4</th>\n",
       "      <td>[{'options': [{'id': 601225, 'name': 'new emai...</td>\n",
       "      <td>107</td>\n",
       "      <td>Wait for a new email from the sender contact@g...</td>\n",
       "      <td>[new email from, new email in inbox from, make...</td>\n",
       "    </tr>\n",
       "  </tbody>\n",
       "</table>\n",
       "</div>"
      ],
      "text/plain": [
       "                                    action_instances   id  \\\n",
       "0  [{'options': [{'id': 601225, 'name': 'new emai...  101   \n",
       "1  [{'options': [{'id': 601225, 'name': 'new emai...  102   \n",
       "2  [{'options': [{'id': 601225, 'name': 'new emai...  105   \n",
       "3  [{'options': [{'id': 601225, 'name': 'new emai...  106   \n",
       "4  [{'options': [{'id': 601225, 'name': 'new emai...  107   \n",
       "\n",
       "                                 nl_command_statment  \\\n",
       "0  Pay the invoice that I will receive from conta...   \n",
       "1  Pay in the bank my purchases that I will soon ...   \n",
       "2  Make a payment using my bank account when I re...   \n",
       "3  Pay my Good Sports Store account balance using...   \n",
       "4  Wait for a new email from the sender contact@g...   \n",
       "\n",
       "                                        only_actions  \n",
       "0  [new email from, new email in inbox from, make...  \n",
       "1  [new email from, new email in inbox from, make...  \n",
       "2  [new email from, new email in inbox from, make...  \n",
       "3  [new email from, new email in inbox from, make...  \n",
       "4  [new email from, new email in inbox from, make...  "
      ]
     },
     "execution_count": 32,
     "metadata": {},
     "output_type": "execute_result"
    }
   ],
   "source": [
    "df.head()"
   ]
  },
  {
   "cell_type": "code",
   "execution_count": 33,
   "id": "c5add344",
   "metadata": {},
   "outputs": [],
   "source": [
    "# df[\"new_input\"] = \"<boF> \" + df[\"nl_command_statment\"] \n",
    "df[\"new_input\"] = df[\"nl_command_statment\"] "
   ]
  },
  {
   "cell_type": "code",
   "execution_count": 34,
   "id": "7f41c8c2",
   "metadata": {},
   "outputs": [
    {
     "data": {
      "text/html": [
       "<div>\n",
       "<style scoped>\n",
       "    .dataframe tbody tr th:only-of-type {\n",
       "        vertical-align: middle;\n",
       "    }\n",
       "\n",
       "    .dataframe tbody tr th {\n",
       "        vertical-align: top;\n",
       "    }\n",
       "\n",
       "    .dataframe thead th {\n",
       "        text-align: right;\n",
       "    }\n",
       "</style>\n",
       "<table border=\"1\" class=\"dataframe\">\n",
       "  <thead>\n",
       "    <tr style=\"text-align: right;\">\n",
       "      <th></th>\n",
       "      <th>action_instances</th>\n",
       "      <th>id</th>\n",
       "      <th>nl_command_statment</th>\n",
       "      <th>only_actions</th>\n",
       "      <th>new_input</th>\n",
       "    </tr>\n",
       "  </thead>\n",
       "  <tbody>\n",
       "    <tr>\n",
       "      <th>0</th>\n",
       "      <td>[{'options': [{'id': 601225, 'name': 'new emai...</td>\n",
       "      <td>101</td>\n",
       "      <td>Pay the invoice that I will receive from conta...</td>\n",
       "      <td>[new email from, new email in inbox from, make...</td>\n",
       "      <td>Pay the invoice that I will receive from conta...</td>\n",
       "    </tr>\n",
       "    <tr>\n",
       "      <th>1</th>\n",
       "      <td>[{'options': [{'id': 601225, 'name': 'new emai...</td>\n",
       "      <td>102</td>\n",
       "      <td>Pay in the bank my purchases that I will soon ...</td>\n",
       "      <td>[new email from, new email in inbox from, make...</td>\n",
       "      <td>Pay in the bank my purchases that I will soon ...</td>\n",
       "    </tr>\n",
       "    <tr>\n",
       "      <th>2</th>\n",
       "      <td>[{'options': [{'id': 601225, 'name': 'new emai...</td>\n",
       "      <td>105</td>\n",
       "      <td>Make a payment using my bank account when I re...</td>\n",
       "      <td>[new email from, new email in inbox from, make...</td>\n",
       "      <td>Make a payment using my bank account when I re...</td>\n",
       "    </tr>\n",
       "    <tr>\n",
       "      <th>3</th>\n",
       "      <td>[{'options': [{'id': 601225, 'name': 'new emai...</td>\n",
       "      <td>106</td>\n",
       "      <td>Pay my Good Sports Store account balance using...</td>\n",
       "      <td>[new email from, new email in inbox from, make...</td>\n",
       "      <td>Pay my Good Sports Store account balance using...</td>\n",
       "    </tr>\n",
       "    <tr>\n",
       "      <th>4</th>\n",
       "      <td>[{'options': [{'id': 601225, 'name': 'new emai...</td>\n",
       "      <td>107</td>\n",
       "      <td>Wait for a new email from the sender contact@g...</td>\n",
       "      <td>[new email from, new email in inbox from, make...</td>\n",
       "      <td>Wait for a new email from the sender contact@g...</td>\n",
       "    </tr>\n",
       "  </tbody>\n",
       "</table>\n",
       "</div>"
      ],
      "text/plain": [
       "                                    action_instances   id  \\\n",
       "0  [{'options': [{'id': 601225, 'name': 'new emai...  101   \n",
       "1  [{'options': [{'id': 601225, 'name': 'new emai...  102   \n",
       "2  [{'options': [{'id': 601225, 'name': 'new emai...  105   \n",
       "3  [{'options': [{'id': 601225, 'name': 'new emai...  106   \n",
       "4  [{'options': [{'id': 601225, 'name': 'new emai...  107   \n",
       "\n",
       "                                 nl_command_statment  \\\n",
       "0  Pay the invoice that I will receive from conta...   \n",
       "1  Pay in the bank my purchases that I will soon ...   \n",
       "2  Make a payment using my bank account when I re...   \n",
       "3  Pay my Good Sports Store account balance using...   \n",
       "4  Wait for a new email from the sender contact@g...   \n",
       "\n",
       "                                        only_actions  \\\n",
       "0  [new email from, new email in inbox from, make...   \n",
       "1  [new email from, new email in inbox from, make...   \n",
       "2  [new email from, new email in inbox from, make...   \n",
       "3  [new email from, new email in inbox from, make...   \n",
       "4  [new email from, new email in inbox from, make...   \n",
       "\n",
       "                                           new_input  \n",
       "0  Pay the invoice that I will receive from conta...  \n",
       "1  Pay in the bank my purchases that I will soon ...  \n",
       "2  Make a payment using my bank account when I re...  \n",
       "3  Pay my Good Sports Store account balance using...  \n",
       "4  Wait for a new email from the sender contact@g...  "
      ]
     },
     "execution_count": 34,
     "metadata": {},
     "output_type": "execute_result"
    }
   ],
   "source": [
    "df.head()"
   ]
  },
  {
   "cell_type": "code",
   "execution_count": 35,
   "id": "2bf2fc88",
   "metadata": {},
   "outputs": [],
   "source": [
    "from tensorflow.keras.preprocessing.text import Tokenizer, text_to_word_sequence\n",
    "from tensorflow.keras.preprocessing.sequence import pad_sequences\n",
    "\n",
    "input_tokenizer = Tokenizer()\n",
    "input_tokenizer.fit_on_texts(df['new_input'])\n",
    "Source_vocabulary = input_tokenizer.word_index.keys()"
   ]
  },
  {
   "cell_type": "code",
   "execution_count": 36,
   "id": "3e284a34",
   "metadata": {},
   "outputs": [],
   "source": [
    "output_tokenizer = Tokenizer()\n",
    "output_tokenizer.fit_on_texts( df['only_actions'] )\n",
    "target_vocabulary = output_tokenizer.word_index.keys()"
   ]
  },
  {
   "cell_type": "code",
   "execution_count": 37,
   "id": "95b56118",
   "metadata": {},
   "outputs": [],
   "source": [
    "input_int = input_tokenizer.texts_to_sequences(df['new_input'])\n",
    "output_int = output_tokenizer.texts_to_sequences(df['only_actions'])"
   ]
  },
  {
   "cell_type": "code",
   "execution_count": 38,
   "id": "e39fc718",
   "metadata": {},
   "outputs": [
    {
     "name": "stdout",
     "output_type": "stream",
     "text": [
      "Number of samples: 180\n",
      "Number of unique source language tokens: 662\n",
      "Number of unique target language tokens: 73\n",
      "Max sequence length of source language: 56\n",
      "Max sequence length of target language: 14\n",
      "Source Vocabulary ['the', 'to', 'my', 'in', 'send', 'and', 'a', 'it', 'on', 'of']\n",
      "Target Vocabulary ['send an email', 'send email', 'new email from', 'new email in inbox from', 'post message', 'change color', 'search image on flickr', 'tweets from search', 'translate', 'new item from search']\n"
     ]
    }
   ],
   "source": [
    "max_source_seq_length =  len(max( input_int ,key=len))\n",
    "\n",
    "max_target_seq_length = len(max( output_int ,key=len))\n",
    "\n",
    "num_source_tokens = len(input_tokenizer.word_counts)\n",
    "\n",
    "num_target_tokens = len(output_tokenizer.word_counts)\n",
    "\n",
    "number_of_samples = df.shape[0]\n",
    "\n",
    "\n",
    "print('Number of samples:', number_of_samples )\n",
    "print('Number of unique source language tokens:', num_source_tokens)\n",
    "print('Number of unique target language tokens:', num_target_tokens)\n",
    "print('Max sequence length of source language:', max_source_seq_length)\n",
    "print('Max sequence length of target language:', max_target_seq_length)\n",
    "print(\"Source Vocabulary\",list(Source_vocabulary)[:10])\n",
    "print(\"Target Vocabulary\",list(target_vocabulary)[:10])"
   ]
  },
  {
   "cell_type": "code",
   "execution_count": 39,
   "id": "d3f22474",
   "metadata": {},
   "outputs": [
    {
     "name": "stderr",
     "output_type": "stream",
     "text": [
      "Warning : `load_model` does not return WordVectorModel or SupervisedModel any more, but a `FastText` object which is very similar.\n"
     ]
    }
   ],
   "source": [
    "import fasttext\n",
    "import fasttext.util\n",
    "\n",
    "# English Embeddings \n",
    "fasttext_model = fasttext.load_model(r\"D:\\jupyter_notebook_project\\NUIG\\SEM 2\\advance NLP\\assignmentsssssssss\\assignment 3\\cc.en.300.bin\")\n",
    "# fasttext_dict = {word: model.get_word_vector(word) for word in model.get_words()}\n",
    "# del model"
   ]
  },
  {
   "cell_type": "code",
   "execution_count": 40,
   "id": "a791945d",
   "metadata": {},
   "outputs": [],
   "source": [
    "import numpy as np\n",
    "\n",
    "pad_input = np.zeros((max_source_seq_length, num_source_tokens), dtype='float32')\n",
    "\n",
    "pad_output = np.zeros((max_target_seq_length, num_target_tokens), dtype='float32')"
   ]
  },
  {
   "cell_type": "code",
   "execution_count": 41,
   "id": "edb5e407",
   "metadata": {},
   "outputs": [],
   "source": [
    "import tensorflow as tf"
   ]
  },
  {
   "cell_type": "code",
   "execution_count": 42,
   "id": "58b83045",
   "metadata": {},
   "outputs": [],
   "source": [
    "from keras.utils.vis_utils import plot_model\n",
    "from tensorflow.keras.utils import to_categorical\n",
    "from tensorflow.keras import losses\n",
    "from tensorflow.keras.layers import Input, LSTM, Dense,Flatten, TimeDistributed, SimpleRNN, Flatten , Reshape, Embedding\n",
    "from tensorflow.keras.models import Model, Sequential\n",
    "\n",
    "embed_mat_english = np.zeros((num_source_tokens+1, 300))\n",
    "for value, position in input_tokenizer.word_index.items():\n",
    "    embedding_vect = fasttext_model.get_word_vector(value)\n",
    "    if embedding_vect is not None:\n",
    "        embed_mat_english[position] = embedding_vect\n",
    "    else:\n",
    "        print(\"Hits value \" , value ,\" position \" , position)\n",
    "\n",
    "english_layer_embedding = Embedding(num_source_tokens+1, 300, \n",
    "                         weights = [embed_mat_english],\n",
    "                            input_length = max_source_seq_length , \n",
    "                                    trainable = False,\n",
    "                                mask_zero = True) #using pre-trained embeddings"
   ]
  },
  {
   "cell_type": "code",
   "execution_count": 43,
   "id": "7de16e46",
   "metadata": {},
   "outputs": [
    {
     "name": "stdout",
     "output_type": "stream",
     "text": [
      "endcoder input shape (180, 56)\n",
      "decoder input shape (180, 14)\n"
     ]
    }
   ],
   "source": [
    "#pad the sequences to the same length\n",
    "pad_input_val = pad_sequences(input_int, maxlen=max_source_seq_length,padding='post')\n",
    "print(\"endcoder input shape\", pad_input_val.shape)\n",
    "\n",
    "#add padding for encoder after the sentence integers\n",
    "pad_output_val = pad_sequences(output_int, maxlen=max_target_seq_length,padding='post' )\n",
    "print(\"decoder input shape\", pad_output_val.shape)"
   ]
  },
  {
   "cell_type": "code",
   "execution_count": 44,
   "id": "ab70f023",
   "metadata": {},
   "outputs": [],
   "source": [
    "reshaped_input = pad_input_val.reshape(180, 56, 1)\n",
    "reshaped_output = pad_output_val.reshape( 180, 14 )"
   ]
  },
  {
   "cell_type": "code",
   "execution_count": 45,
   "id": "926f835c",
   "metadata": {},
   "outputs": [
    {
     "data": {
      "text/plain": [
       "((180, 56, 1), (180, 14))"
      ]
     },
     "execution_count": 45,
     "metadata": {},
     "output_type": "execute_result"
    }
   ],
   "source": [
    "reshaped_input.shape, reshaped_output.shape"
   ]
  },
  {
   "cell_type": "code",
   "execution_count": 46,
   "id": "efc1a2d6",
   "metadata": {},
   "outputs": [
    {
     "data": {
      "text/plain": [
       "array([[ 3,  4, 31, ...,  0,  0,  0],\n",
       "       [ 3,  4, 31, ...,  0,  0,  0],\n",
       "       [ 3,  4, 31, ...,  0,  0,  0],\n",
       "       ...,\n",
       "       [65,  5,  0, ...,  0,  0,  0],\n",
       "       [66, 53, 54, ..., 73,  0,  0],\n",
       "       [66, 53, 54, ...,  0,  0,  0]])"
      ]
     },
     "execution_count": 46,
     "metadata": {},
     "output_type": "execute_result"
    }
   ],
   "source": [
    "reshaped_output"
   ]
  },
  {
   "cell_type": "code",
   "execution_count": 47,
   "id": "17684d79",
   "metadata": {},
   "outputs": [],
   "source": [
    "reshaped_output = to_categorical(reshaped_output)"
   ]
  },
  {
   "cell_type": "code",
   "execution_count": 48,
   "id": "9e83f6f5",
   "metadata": {},
   "outputs": [
    {
     "data": {
      "text/plain": [
       "(180, 14, 74)"
      ]
     },
     "execution_count": 48,
     "metadata": {},
     "output_type": "execute_result"
    }
   ],
   "source": [
    "reshaped_output.shape"
   ]
  },
  {
   "cell_type": "code",
   "execution_count": 71,
   "id": "f73706d6",
   "metadata": {},
   "outputs": [],
   "source": [
    "tdd = Input(shape= (56) )\n",
    "x = english_layer_embedding(tdd)\n",
    "\n",
    "encoder = LSTM(56, return_sequences=False, return_state= True)\n",
    "\n",
    "encoder_outputs, state_h, state_c = encoder(x)\n",
    "encoder_states = [state_h, state_c]\n",
    "\n",
    "\n",
    "decoder_inputs = Input(shape=(56, 1 ))\n",
    "decoder_lstm = LSTM(56, return_sequences=True, return_state=True)\n",
    "decoder_outputs, h1, c1  = decoder_lstm(decoder_inputs, initial_state = encoder_states)\n",
    "\n",
    "decoder_lstm = LSTM(56, return_sequences=True, return_state=True)\n",
    "decoder_outputs, _, _ = decoder_lstm(decoder_outputs)\n",
    "\n",
    "decoder_dense = TimeDistributed(Dense(56, activation=\"softmax\"))\n",
    "decoder_outputs = decoder_dense(decoder_outputs)\n",
    "\n",
    "flat = Flatten()\n",
    "decoder_outputs = flat(decoder_outputs)\n",
    "\n",
    "decoder_dense = Dense(1036, activation=\"softmax\")\n",
    "decoder_outputs = decoder_dense(decoder_outputs)\n",
    "\n",
    "decoder_outputs = tf.reshape(decoder_outputs , (1, 14,74))\n",
    "\n",
    "\n",
    "# decoder_dense = Dense(14, activation=\"relu\")\n",
    "# decoder_outputs = decoder_dense(decoder_outputs)\n"
   ]
  },
  {
   "cell_type": "code",
   "execution_count": 72,
   "id": "9972c1a7",
   "metadata": {},
   "outputs": [],
   "source": [
    "model = Model([tdd, decoder_inputs], decoder_outputs)"
   ]
  },
  {
   "cell_type": "code",
   "execution_count": 73,
   "id": "74113f87",
   "metadata": {},
   "outputs": [],
   "source": [
    "# model.compile(optimizer='RMSprop', loss=\"categorical_crossentropy\" ,metrics=[tf.keras.metrics.BinaryAccuracy() ,'accuracy'])\n",
    "model.compile(optimizer=tf.keras.optimizers.RMSprop(), loss= losses.CategoricalCrossentropy(from_logits=False)  , metrics=[\"accuracy\" ])\n",
    "# model.compile(optimizer='RMSprop', loss= losses.SparseCategoricalCrossentropy(from_logits=False ))"
   ]
  },
  {
   "cell_type": "code",
   "execution_count": 74,
   "id": "9014295b",
   "metadata": {
    "scrolled": false
   },
   "outputs": [
    {
     "data": {
      "image/png": "[encoded data removed]",
      "text/plain": [
       "<IPython.core.display.Image object>"
      ]
     },
     "execution_count": 74,
     "metadata": {},
     "output_type": "execute_result"
    }
   ],
   "source": [
    "plot_model(model, show_shapes=True)"
   ]
  },
  {
   "cell_type": "code",
   "execution_count": 75,
   "id": "b8316d2a",
   "metadata": {},
   "outputs": [
    {
     "data": {
      "text/plain": [
       "False"
      ]
     },
     "execution_count": 75,
     "metadata": {},
     "output_type": "execute_result"
    }
   ],
   "source": [
    "np.any(np.isnan(reshaped_input))"
   ]
  },
  {
   "cell_type": "code",
   "execution_count": 76,
   "id": "f7e05728",
   "metadata": {
    "scrolled": true
   },
   "outputs": [
    {
     "name": "stdout",
     "output_type": "stream",
     "text": [
      "(180, 56, 1) (180, 14, 74)\n",
      "Epoch 1/100\n",
      "144/144 [==============================] - 10s 35ms/step - loss: 1.2429 - accuracy: 0.7644 - val_loss: 2.3088 - val_accuracy: 0.7083\n",
      "Epoch 2/100\n",
      "144/144 [==============================] - 3s 23ms/step - loss: 0.8805 - accuracy: 0.7718 - val_loss: 2.8086 - val_accuracy: 0.6964\n",
      "Epoch 3/100\n",
      "144/144 [==============================] - 3s 23ms/step - loss: 0.8243 - accuracy: 0.7768 - val_loss: 3.4319 - val_accuracy: 0.6984\n",
      "Epoch 4/100\n",
      "144/144 [==============================] - 3s 23ms/step - loss: 0.7958 - accuracy: 0.7917 - val_loss: 3.1140 - val_accuracy: 0.7044\n",
      "Epoch 5/100\n",
      "144/144 [==============================] - 3s 23ms/step - loss: 0.7436 - accuracy: 0.7917 - val_loss: 3.5843 - val_accuracy: 0.7044\n",
      "Epoch 6/100\n",
      "144/144 [==============================] - 3s 23ms/step - loss: 0.7020 - accuracy: 0.7986 - val_loss: 3.5318 - val_accuracy: 0.7024\n",
      "Epoch 7/100\n",
      "144/144 [==============================] - 3s 23ms/step - loss: 0.6741 - accuracy: 0.7986 - val_loss: 3.6763 - val_accuracy: 0.7083\n",
      "Epoch 8/100\n",
      "144/144 [==============================] - 3s 23ms/step - loss: 0.6676 - accuracy: 0.8095 - val_loss: 3.7500 - val_accuracy: 0.7024\n",
      "Epoch 9/100\n",
      "144/144 [==============================] - 3s 23ms/step - loss: 0.6412 - accuracy: 0.8100 - val_loss: 3.7472 - val_accuracy: 0.7004\n",
      "Epoch 10/100\n",
      "144/144 [==============================] - 3s 23ms/step - loss: 0.6237 - accuracy: 0.8145 - val_loss: 3.3514 - val_accuracy: 0.6825\n",
      "Epoch 11/100\n",
      "144/144 [==============================] - 3s 23ms/step - loss: 0.5992 - accuracy: 0.8204 - val_loss: 3.2244 - val_accuracy: 0.6845\n",
      "Epoch 12/100\n",
      "144/144 [==============================] - 3s 23ms/step - loss: 0.5677 - accuracy: 0.8259 - val_loss: 3.5941 - val_accuracy: 0.6984\n",
      "Epoch 13/100\n",
      "144/144 [==============================] - 3s 23ms/step - loss: 0.5447 - accuracy: 0.8338 - val_loss: 3.5578 - val_accuracy: 0.7044\n",
      "Epoch 14/100\n",
      "144/144 [==============================] - 3s 23ms/step - loss: 0.5169 - accuracy: 0.8442 - val_loss: 3.5831 - val_accuracy: 0.7004\n",
      "Epoch 15/100\n",
      "144/144 [==============================] - 3s 23ms/step - loss: 0.4869 - accuracy: 0.8557 - val_loss: 3.3345 - val_accuracy: 0.6984\n",
      "Epoch 16/100\n",
      "144/144 [==============================] - 3s 24ms/step - loss: 0.4705 - accuracy: 0.8641 - val_loss: 3.6626 - val_accuracy: 0.6944\n",
      "Epoch 17/100\n",
      "144/144 [==============================] - 3s 23ms/step - loss: 0.4553 - accuracy: 0.8611 - val_loss: 3.4971 - val_accuracy: 0.6944\n",
      "Epoch 18/100\n",
      "144/144 [==============================] - 3s 23ms/step - loss: 0.4004 - accuracy: 0.8780 - val_loss: 3.8198 - val_accuracy: 0.7103\n",
      "Epoch 19/100\n",
      "144/144 [==============================] - 3s 23ms/step - loss: 0.3824 - accuracy: 0.8814 - val_loss: 3.8231 - val_accuracy: 0.6984\n",
      "Epoch 20/100\n",
      "144/144 [==============================] - 3s 23ms/step - loss: 0.3750 - accuracy: 0.8824 - val_loss: 3.0133 - val_accuracy: 0.6964\n",
      "Epoch 21/100\n",
      "144/144 [==============================] - 3s 22ms/step - loss: 0.3462 - accuracy: 0.8904 - val_loss: 3.5607 - val_accuracy: 0.6984\n",
      "Epoch 22/100\n",
      "144/144 [==============================] - 3s 23ms/step - loss: 0.3279 - accuracy: 0.8958 - val_loss: 3.5447 - val_accuracy: 0.6984\n",
      "Epoch 23/100\n",
      "144/144 [==============================] - 3s 23ms/step - loss: 0.3109 - accuracy: 0.9062 - val_loss: 3.6059 - val_accuracy: 0.7024\n",
      "Epoch 24/100\n",
      "144/144 [==============================] - 3s 23ms/step - loss: 0.2892 - accuracy: 0.9132 - val_loss: 3.9002 - val_accuracy: 0.7024\n",
      "Epoch 25/100\n",
      "144/144 [==============================] - 3s 23ms/step - loss: 0.2716 - accuracy: 0.9157 - val_loss: 3.4764 - val_accuracy: 0.6944\n",
      "Epoch 26/100\n",
      "144/144 [==============================] - 3s 23ms/step - loss: 0.2398 - accuracy: 0.9340 - val_loss: 3.6769 - val_accuracy: 0.7044\n",
      "Epoch 27/100\n",
      "144/144 [==============================] - 3s 23ms/step - loss: 0.2500 - accuracy: 0.9276 - val_loss: 3.4242 - val_accuracy: 0.6964\n",
      "Epoch 28/100\n",
      "144/144 [==============================] - 3s 22ms/step - loss: 0.2303 - accuracy: 0.9296 - val_loss: 3.8972 - val_accuracy: 0.6905\n",
      "Epoch 29/100\n",
      "144/144 [==============================] - 3s 23ms/step - loss: 0.2304 - accuracy: 0.9405 - val_loss: 3.7230 - val_accuracy: 0.6984\n",
      "Epoch 30/100\n",
      "144/144 [==============================] - 3s 23ms/step - loss: 0.2171 - accuracy: 0.9430 - val_loss: 3.6691 - val_accuracy: 0.6964\n",
      "Epoch 31/100\n",
      "144/144 [==============================] - 3s 23ms/step - loss: 0.1651 - accuracy: 0.9539 - val_loss: 4.0048 - val_accuracy: 0.6925\n",
      "Epoch 32/100\n",
      "144/144 [==============================] - 3s 23ms/step - loss: 0.1610 - accuracy: 0.9534 - val_loss: 3.7367 - val_accuracy: 0.6964\n",
      "Epoch 33/100\n",
      "144/144 [==============================] - 3s 23ms/step - loss: 0.1569 - accuracy: 0.9524 - val_loss: 3.7150 - val_accuracy: 0.6865\n",
      "Epoch 34/100\n",
      "144/144 [==============================] - 3s 24ms/step - loss: 0.1325 - accuracy: 0.9623 - val_loss: 3.7372 - val_accuracy: 0.6984\n",
      "Epoch 35/100\n",
      "144/144 [==============================] - 3s 24ms/step - loss: 0.1280 - accuracy: 0.9692 - val_loss: 3.6441 - val_accuracy: 0.7063\n",
      "Epoch 36/100\n",
      "144/144 [==============================] - 3s 23ms/step - loss: 0.1323 - accuracy: 0.9628 - val_loss: 3.9827 - val_accuracy: 0.7024\n",
      "Epoch 37/100\n",
      "144/144 [==============================] - 3s 23ms/step - loss: 0.1279 - accuracy: 0.9578 - val_loss: 3.7136 - val_accuracy: 0.7123\n",
      "Epoch 38/100\n",
      "144/144 [==============================] - 3s 23ms/step - loss: 0.1070 - accuracy: 0.9683 - val_loss: 3.8955 - val_accuracy: 0.6944\n",
      "Epoch 39/100\n",
      "144/144 [==============================] - 3s 23ms/step - loss: 0.1060 - accuracy: 0.9692 - val_loss: 3.6766 - val_accuracy: 0.7083\n",
      "Epoch 40/100\n",
      "144/144 [==============================] - 3s 24ms/step - loss: 0.0923 - accuracy: 0.9727 - val_loss: 3.6460 - val_accuracy: 0.7004\n",
      "Epoch 41/100\n",
      "144/144 [==============================] - 3s 24ms/step - loss: 0.0820 - accuracy: 0.9767 - val_loss: 3.6690 - val_accuracy: 0.7063\n",
      "Epoch 42/100\n",
      "144/144 [==============================] - 3s 23ms/step - loss: 0.0951 - accuracy: 0.9707 - val_loss: 3.7958 - val_accuracy: 0.6984\n",
      "Epoch 43/100\n",
      "144/144 [==============================] - 3s 23ms/step - loss: 0.0774 - accuracy: 0.9772 - val_loss: 3.6554 - val_accuracy: 0.6925\n",
      "Epoch 44/100\n",
      "144/144 [==============================] - 3s 23ms/step - loss: 0.0702 - accuracy: 0.9782 - val_loss: 3.4564 - val_accuracy: 0.6984\n",
      "Epoch 45/100\n",
      "144/144 [==============================] - 3s 23ms/step - loss: 0.0729 - accuracy: 0.9762 - val_loss: 3.5706 - val_accuracy: 0.7044\n",
      "Epoch 46/100\n",
      "144/144 [==============================] - 3s 23ms/step - loss: 0.0665 - accuracy: 0.9782 - val_loss: 3.6754 - val_accuracy: 0.6944\n",
      "Epoch 47/100\n",
      "144/144 [==============================] - 3s 23ms/step - loss: 0.0558 - accuracy: 0.9821 - val_loss: 4.0516 - val_accuracy: 0.7083\n",
      "Epoch 48/100\n",
      "144/144 [==============================] - 3s 23ms/step - loss: 0.0666 - accuracy: 0.9782 - val_loss: 3.9105 - val_accuracy: 0.7004\n",
      "Epoch 49/100\n",
      "144/144 [==============================] - 3s 23ms/step - loss: 0.0573 - accuracy: 0.9831 - val_loss: 4.1278 - val_accuracy: 0.7063\n",
      "Epoch 50/100\n",
      "144/144 [==============================] - 3s 23ms/step - loss: 0.0589 - accuracy: 0.9826 - val_loss: 3.8271 - val_accuracy: 0.6944\n",
      "Epoch 51/100\n",
      "144/144 [==============================] - 3s 24ms/step - loss: 0.0562 - accuracy: 0.9861 - val_loss: 3.8364 - val_accuracy: 0.7044\n",
      "Epoch 52/100\n",
      "144/144 [==============================] - 3s 23ms/step - loss: 0.0467 - accuracy: 0.9861 - val_loss: 3.8962 - val_accuracy: 0.6905\n",
      "Epoch 53/100\n",
      "144/144 [==============================] - 3s 23ms/step - loss: 0.0358 - accuracy: 0.9916 - val_loss: 4.1491 - val_accuracy: 0.7044\n",
      "Epoch 54/100\n",
      "144/144 [==============================] - 3s 23ms/step - loss: 0.0458 - accuracy: 0.9841 - val_loss: 4.0776 - val_accuracy: 0.7063\n",
      "Epoch 55/100\n",
      "144/144 [==============================] - 3s 23ms/step - loss: 0.0415 - accuracy: 0.9881 - val_loss: 3.5160 - val_accuracy: 0.7044\n",
      "Epoch 56/100\n",
      "144/144 [==============================] - 3s 22ms/step - loss: 0.0321 - accuracy: 0.9901 - val_loss: 3.7493 - val_accuracy: 0.7044\n",
      "Epoch 57/100\n"
     ]
    },
    {
     "name": "stdout",
     "output_type": "stream",
     "text": [
      "144/144 [==============================] - 3s 22ms/step - loss: 0.0329 - accuracy: 0.9906 - val_loss: 3.5873 - val_accuracy: 0.6984\n",
      "Epoch 58/100\n",
      "144/144 [==============================] - 3s 22ms/step - loss: 0.0292 - accuracy: 0.9921 - val_loss: 4.0022 - val_accuracy: 0.7044\n",
      "Epoch 59/100\n",
      "144/144 [==============================] - 3s 23ms/step - loss: 0.0260 - accuracy: 0.9911 - val_loss: 3.9710 - val_accuracy: 0.6984\n",
      "Epoch 60/100\n",
      "144/144 [==============================] - 3s 22ms/step - loss: 0.0213 - accuracy: 0.9940 - val_loss: 4.1218 - val_accuracy: 0.7083\n",
      "Epoch 61/100\n",
      "144/144 [==============================] - 3s 23ms/step - loss: 0.0248 - accuracy: 0.9911 - val_loss: 4.0253 - val_accuracy: 0.7004\n",
      "Epoch 62/100\n",
      "144/144 [==============================] - 3s 23ms/step - loss: 0.0204 - accuracy: 0.9921 - val_loss: 4.1128 - val_accuracy: 0.7024\n",
      "Epoch 63/100\n",
      "144/144 [==============================] - 3s 22ms/step - loss: 0.0189 - accuracy: 0.9926 - val_loss: 4.0745 - val_accuracy: 0.6964\n",
      "Epoch 64/100\n",
      "144/144 [==============================] - 3s 23ms/step - loss: 0.0182 - accuracy: 0.9955 - val_loss: 4.0000 - val_accuracy: 0.7063\n",
      "Epoch 65/100\n",
      "144/144 [==============================] - 3s 23ms/step - loss: 0.0245 - accuracy: 0.9911 - val_loss: 3.7338 - val_accuracy: 0.6925\n",
      "Epoch 66/100\n",
      "144/144 [==============================] - 3s 22ms/step - loss: 0.0143 - accuracy: 0.9960 - val_loss: 4.2996 - val_accuracy: 0.7044\n",
      "Epoch 67/100\n",
      "144/144 [==============================] - 3s 23ms/step - loss: 0.0183 - accuracy: 0.9945 - val_loss: 4.0519 - val_accuracy: 0.7063\n",
      "Epoch 68/100\n",
      "144/144 [==============================] - 3s 23ms/step - loss: 0.0106 - accuracy: 0.9965 - val_loss: 4.1924 - val_accuracy: 0.7083\n",
      "Epoch 69/100\n",
      "144/144 [==============================] - 3s 23ms/step - loss: 0.0151 - accuracy: 0.9950 - val_loss: 4.0304 - val_accuracy: 0.7004\n",
      "Epoch 70/100\n",
      "144/144 [==============================] - 3s 23ms/step - loss: 0.0233 - accuracy: 0.9950 - val_loss: 4.1544 - val_accuracy: 0.6925\n",
      "Epoch 71/100\n",
      "144/144 [==============================] - 3s 23ms/step - loss: 0.0190 - accuracy: 0.9950 - val_loss: 4.2282 - val_accuracy: 0.7063\n",
      "Epoch 72/100\n",
      "144/144 [==============================] - 3s 22ms/step - loss: 0.0155 - accuracy: 0.9955 - val_loss: 4.0667 - val_accuracy: 0.6984\n",
      "Epoch 73/100\n",
      "144/144 [==============================] - 3s 23ms/step - loss: 0.0273 - accuracy: 0.9916 - val_loss: 4.1423 - val_accuracy: 0.7063\n",
      "Epoch 74/100\n",
      "144/144 [==============================] - 3s 23ms/step - loss: 0.0120 - accuracy: 0.9960 - val_loss: 3.9996 - val_accuracy: 0.7024\n",
      "Epoch 75/100\n",
      "144/144 [==============================] - 3s 22ms/step - loss: 0.0080 - accuracy: 0.9960 - val_loss: 4.1389 - val_accuracy: 0.7024\n",
      "Epoch 76/100\n",
      "144/144 [==============================] - 3s 23ms/step - loss: 0.0059 - accuracy: 0.9975 - val_loss: 4.1416 - val_accuracy: 0.6944\n",
      "Epoch 77/100\n",
      "144/144 [==============================] - 3s 22ms/step - loss: 0.0068 - accuracy: 0.9965 - val_loss: 4.3065 - val_accuracy: 0.6984\n",
      "Epoch 78/100\n",
      "144/144 [==============================] - 3s 23ms/step - loss: 0.0102 - accuracy: 0.9936 - val_loss: 4.1810 - val_accuracy: 0.6964\n",
      "Epoch 79/100\n",
      "144/144 [==============================] - 3s 23ms/step - loss: 0.0039 - accuracy: 1.0000 - val_loss: 4.2229 - val_accuracy: 0.7004\n",
      "Epoch 80/100\n",
      "144/144 [==============================] - 3s 23ms/step - loss: 0.0097 - accuracy: 0.9960 - val_loss: 4.1629 - val_accuracy: 0.7044\n",
      "Epoch 81/100\n",
      "144/144 [==============================] - 3s 22ms/step - loss: 0.0066 - accuracy: 0.9975 - val_loss: 4.0273 - val_accuracy: 0.6984\n",
      "Epoch 82/100\n",
      "144/144 [==============================] - 3s 23ms/step - loss: 0.0063 - accuracy: 0.9985 - val_loss: 4.0251 - val_accuracy: 0.7004\n",
      "Epoch 83/100\n",
      "144/144 [==============================] - 3s 24ms/step - loss: 0.0030 - accuracy: 0.9995 - val_loss: 4.0704 - val_accuracy: 0.7044\n",
      "Epoch 84/100\n",
      "144/144 [==============================] - 3s 24ms/step - loss: 0.0028 - accuracy: 1.0000 - val_loss: 4.1444 - val_accuracy: 0.7004\n",
      "Epoch 85/100\n",
      "144/144 [==============================] - 3s 23ms/step - loss: 0.0031 - accuracy: 0.9995 - val_loss: 3.9380 - val_accuracy: 0.7044\n",
      "Epoch 86/100\n",
      "144/144 [==============================] - 3s 23ms/step - loss: 0.0051 - accuracy: 0.9995 - val_loss: 4.2334 - val_accuracy: 0.7024\n",
      "Epoch 87/100\n",
      "144/144 [==============================] - 3s 22ms/step - loss: 0.0069 - accuracy: 0.9975 - val_loss: 4.0340 - val_accuracy: 0.7044\n",
      "Epoch 88/100\n",
      "144/144 [==============================] - 3s 23ms/step - loss: 0.0026 - accuracy: 1.0000 - val_loss: 4.1317 - val_accuracy: 0.6964\n",
      "Epoch 89/100\n",
      "144/144 [==============================] - 3s 23ms/step - loss: 0.0055 - accuracy: 0.9980 - val_loss: 4.1631 - val_accuracy: 0.6964\n",
      "Epoch 90/100\n",
      "144/144 [==============================] - 3s 23ms/step - loss: 0.0017 - accuracy: 1.0000 - val_loss: 3.7864 - val_accuracy: 0.6984\n",
      "Epoch 91/100\n",
      "144/144 [==============================] - 3s 23ms/step - loss: 0.0046 - accuracy: 0.9985 - val_loss: 4.2451 - val_accuracy: 0.7024\n",
      "Epoch 92/100\n",
      "144/144 [==============================] - 3s 22ms/step - loss: 0.0010 - accuracy: 1.0000 - val_loss: 4.2164 - val_accuracy: 0.6944\n",
      "Epoch 93/100\n",
      "144/144 [==============================] - 3s 23ms/step - loss: 0.0049 - accuracy: 0.9985 - val_loss: 3.8250 - val_accuracy: 0.6885\n",
      "Epoch 94/100\n",
      "144/144 [==============================] - 3s 22ms/step - loss: 0.0013 - accuracy: 1.0000 - val_loss: 4.2105 - val_accuracy: 0.7044\n",
      "Epoch 95/100\n",
      "144/144 [==============================] - 3s 23ms/step - loss: 0.0011 - accuracy: 0.9995 - val_loss: 4.2378 - val_accuracy: 0.7004\n",
      "Epoch 96/100\n",
      "144/144 [==============================] - 3s 23ms/step - loss: 9.4855e-04 - accuracy: 1.0000 - val_loss: 4.2786 - val_accuracy: 0.6944\n",
      "Epoch 97/100\n",
      "144/144 [==============================] - 3s 23ms/step - loss: 3.6882e-04 - accuracy: 1.0000 - val_loss: 4.0092 - val_accuracy: 0.6865\n",
      "Epoch 98/100\n",
      "144/144 [==============================] - 3s 23ms/step - loss: 0.0013 - accuracy: 1.0000 - val_loss: 4.3627 - val_accuracy: 0.7004\n",
      "Epoch 99/100\n",
      "144/144 [==============================] - 3s 23ms/step - loss: 8.6562e-04 - accuracy: 1.0000 - val_loss: 3.8303 - val_accuracy: 0.6944\n",
      "Epoch 100/100\n",
      "144/144 [==============================] - 3s 23ms/step - loss: 0.0039 - accuracy: 0.9995 - val_loss: 4.1724 - val_accuracy: 0.6944\n"
     ]
    }
   ],
   "source": [
    "print(reshaped_input.shape, reshaped_output.shape )\n",
    "history = model.fit([reshaped_input , reshaped_input ] , reshaped_output,  epochs=100, batch_size= 1 , shuffle=True , validation_split=0.2)"
   ]
  },
  {
   "cell_type": "code",
   "execution_count": 77,
   "id": "e4f8265e",
   "metadata": {},
   "outputs": [
    {
     "data": {
      "image/png": "[encoded data removed]",
      "text/plain": [
       "<Figure size 432x288 with 1 Axes>"
      ]
     },
     "metadata": {
      "needs_background": "light"
     },
     "output_type": "display_data"
    },
    {
     "data": {
      "text/plain": [
       "<Figure size 432x288 with 0 Axes>"
      ]
     },
     "metadata": {},
     "output_type": "display_data"
    }
   ],
   "source": [
    "import matplotlib.pyplot as plt  \n",
    "%matplotlib inline\n",
    "\n",
    "plt.plot(history.history['loss'])\n",
    "plt.plot(history.history['val_loss'])\n",
    "plt.title('model loss')\n",
    "plt.ylabel('loss')\n",
    "plt.xlabel('epoch')\n",
    "plt.legend(['train', 'test'], loc='upper left')\n",
    "plt.show()\n",
    "plt.savefig('foo.png')"
   ]
  },
  {
   "cell_type": "code",
   "execution_count": 78,
   "id": "3e7db3f7",
   "metadata": {},
   "outputs": [
    {
     "data": {
      "text/plain": [
       "(0, 94.85317468643188)"
      ]
     },
     "execution_count": 78,
     "metadata": {},
     "output_type": "execute_result"
    }
   ],
   "source": [
    "int(np.mean(history.history['loss'])) , np.mean(history.history['accuracy']) *100"
   ]
  },
  {
   "cell_type": "code",
   "execution_count": 79,
   "id": "576d8ad4",
   "metadata": {},
   "outputs": [
    {
     "data": {
      "text/plain": [
       "(0.18058140889945207, 0.9485317468643188)"
      ]
     },
     "execution_count": 79,
     "metadata": {},
     "output_type": "execute_result"
    }
   ],
   "source": [
    "np.mean(history.history['loss']) , np.mean(history.history['accuracy'])"
   ]
  },
  {
   "cell_type": "code",
   "execution_count": 80,
   "id": "4c91923f",
   "metadata": {
    "scrolled": true
   },
   "outputs": [
    {
     "data": {
      "text/plain": [
       "array([[[193],\n",
       "        [  1],\n",
       "        [299],\n",
       "        [ 31],\n",
       "        [ 23],\n",
       "        [ 73],\n",
       "        [ 46],\n",
       "        [ 15],\n",
       "        [ 55],\n",
       "        [194],\n",
       "        [ 74],\n",
       "        [195],\n",
       "        [ 18],\n",
       "        [  3],\n",
       "        [404],\n",
       "        [300],\n",
       "        [106],\n",
       "        [  5],\n",
       "        [  1],\n",
       "        [126],\n",
       "        [196],\n",
       "        [  2],\n",
       "        [197],\n",
       "        [ 61],\n",
       "        [  1],\n",
       "        [301],\n",
       "        [405],\n",
       "        [  0],\n",
       "        [  0],\n",
       "        [  0],\n",
       "        [  0],\n",
       "        [  0],\n",
       "        [  0],\n",
       "        [  0],\n",
       "        [  0],\n",
       "        [  0],\n",
       "        [  0],\n",
       "        [  0],\n",
       "        [  0],\n",
       "        [  0],\n",
       "        [  0],\n",
       "        [  0],\n",
       "        [  0],\n",
       "        [  0],\n",
       "        [  0],\n",
       "        [  0],\n",
       "        [  0],\n",
       "        [  0],\n",
       "        [  0],\n",
       "        [  0],\n",
       "        [  0],\n",
       "        [  0],\n",
       "        [  0],\n",
       "        [  0],\n",
       "        [  0],\n",
       "        [  0]]])"
      ]
     },
     "execution_count": 80,
     "metadata": {},
     "output_type": "execute_result"
    }
   ],
   "source": [
    "reshaped_input[:1 , : , : ]"
   ]
  },
  {
   "cell_type": "code",
   "execution_count": 81,
   "id": "d582249c",
   "metadata": {},
   "outputs": [
    {
     "data": {
      "text/plain": [
       "array([[[0., 0., 0., ..., 0., 0., 0.],\n",
       "        [0., 0., 0., ..., 0., 0., 0.],\n",
       "        [0., 0., 0., ..., 0., 0., 0.],\n",
       "        ...,\n",
       "        [1., 0., 0., ..., 0., 0., 0.],\n",
       "        [1., 0., 0., ..., 0., 0., 0.],\n",
       "        [1., 0., 0., ..., 0., 0., 0.]]], dtype=float32)"
      ]
     },
     "execution_count": 81,
     "metadata": {},
     "output_type": "execute_result"
    }
   ],
   "source": [
    "reshaped_output[:1 , :  ]"
   ]
  },
  {
   "cell_type": "code",
   "execution_count": 82,
   "id": "f041f8ae",
   "metadata": {
    "scrolled": true
   },
   "outputs": [
    {
     "name": "stdout",
     "output_type": "stream",
     "text": [
      "1/1 [==============================] - 2s 2s/step\n"
     ]
    },
    {
     "data": {
      "text/plain": [
       "array([[[5.2640979e-34, 5.7102323e-31, 4.6732421e-34, ...,\n",
       "         4.5034121e-34, 5.4857952e-34, 5.7752203e-34],\n",
       "        [3.4823159e-35, 1.4940340e-34, 6.7621606e-31, ...,\n",
       "         3.7817651e-34, 3.7804957e-34, 3.4298597e-34],\n",
       "        [1.2779181e-37, 2.6420372e-30, 2.0790843e-35, ...,\n",
       "         5.9559297e-35, 6.1502915e-35, 5.4208261e-35],\n",
       "        ...,\n",
       "        [2.4678299e-01, 1.5287886e-10, 1.6988864e-10, ...,\n",
       "         1.7000405e-10, 2.3864735e-10, 1.4650151e-10],\n",
       "        [2.0409492e-01, 5.9750697e-08, 1.4368326e-10, ...,\n",
       "         1.4557838e-10, 1.4606541e-10, 1.5271390e-10],\n",
       "        [2.3853742e-01, 1.7474439e-10, 6.4451321e-08, ...,\n",
       "         1.8273941e-10, 1.6872161e-10, 1.8276834e-10]]], dtype=float32)"
      ]
     },
     "execution_count": 82,
     "metadata": {},
     "output_type": "execute_result"
    }
   ],
   "source": [
    "model.predict( [reshaped_input[:1 , : , : ] , reshaped_input[:1 , : , : ]]  )"
   ]
  },
  {
   "cell_type": "code",
   "execution_count": 83,
   "id": "c660e073",
   "metadata": {},
   "outputs": [
    {
     "data": {
      "image/png": "[encoded data removed]",
      "text/plain": [
       "<Figure size 576x360 with 1 Axes>"
      ]
     },
     "metadata": {
      "needs_background": "light"
     },
     "output_type": "display_data"
    }
   ],
   "source": [
    "# https://stackoverflow.com/questions/41908379/keras-plot-training-validation-and-test-set-accuracy\n",
    "pd.DataFrame(history.history).plot(figsize=(8,5))\n",
    "plt.show()"
   ]
  },
  {
   "cell_type": "code",
   "execution_count": 85,
   "id": "abc559c9",
   "metadata": {},
   "outputs": [
    {
     "name": "stdout",
     "output_type": "stream",
     "text": [
      "1/1 [==============================] - 0s 32ms/step\n"
     ]
    }
   ],
   "source": [
    "t = model.predict( [reshaped_input[:1 , : , : ] , reshaped_input[:1 , : , : ]]  ) "
   ]
  },
  {
   "cell_type": "code",
   "execution_count": 87,
   "id": "84dcf24c",
   "metadata": {},
   "outputs": [
    {
     "data": {
      "text/plain": [
       "4.0290091e-38"
      ]
     },
     "execution_count": 87,
     "metadata": {},
     "output_type": "execute_result"
    }
   ],
   "source": [
    "t.min()"
   ]
  }
 ],
 "metadata": {
  "kernelspec": {
   "display_name": "Python 3",
   "language": "python",
   "name": "python3"
  },
  "language_info": {
   "codemirror_mode": {
    "name": "ipython",
    "version": 3
   },
   "file_extension": ".py",
   "mimetype": "text/x-python",
   "name": "python",
   "nbconvert_exporter": "python",
   "pygments_lexer": "ipython3",
   "version": "3.8.8"
  }
 },
 "nbformat": 4,
 "nbformat_minor": 5
}
