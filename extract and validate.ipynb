{
 "cells": [
  {
   "cell_type": "code",
   "execution_count": 1,
   "id": "7df4b5d0",
   "metadata": {},
   "outputs": [],
   "source": [
    "import pandas as pd"
   ]
  },
  {
   "cell_type": "code",
   "execution_count": 2,
   "id": "79163bf2",
   "metadata": {},
   "outputs": [],
   "source": [
    "df = pd.read_json(\"mappingv3.json\")"
   ]
  },
  {
   "cell_type": "code",
   "execution_count": 3,
   "id": "2a515439",
   "metadata": {},
   "outputs": [
    {
     "data": {
      "text/plain": [
       "[\"[{'options': [{'id': 601225, '\",\n",
       " '\\': \\'new email from\\', \\'params\\': {\"sender\\'s address\": \\'contact@gs-store.de\\'}}, {\\'id\\': 600599, \\'',\n",
       " \"': 'new email in inbox from', 'params': {'email address': 'contact@gs-store.de'}}]}, {'id': 700000, '\",\n",
       " \"': 'make a payment', 'params': {'invoice': '<return1>.attachment', 'method': 'credit card'}}, {'id': 600603, '\",\n",
       " \"': 'send an email', 'params': {'attachment url': '<return2>', 'to address': 'contact@gs-store.de'}}]\"]"
      ]
     },
     "execution_count": 3,
     "metadata": {},
     "output_type": "execute_result"
    }
   ],
   "source": [
    "str(df[\"action_instances\"][0]).split(\"name\")"
   ]
  },
  {
   "cell_type": "code",
   "execution_count": 4,
   "id": "ce37618b",
   "metadata": {},
   "outputs": [
    {
     "data": {
      "text/plain": [
       "[{'options': [{'id': 601225,\n",
       "    'name': 'new email from',\n",
       "    'params': {\"sender's address\": 'contact@gs-store.de'}},\n",
       "   {'id': 600599,\n",
       "    'name': 'new email in inbox from',\n",
       "    'params': {'email address': 'contact@gs-store.de'}}]},\n",
       " {'id': 700000,\n",
       "  'name': 'make a payment',\n",
       "  'params': {'invoice': '<return1>.attachment', 'method': 'credit card'}},\n",
       " {'id': 600603,\n",
       "  'name': 'send an email',\n",
       "  'params': {'attachment url': '<return2>',\n",
       "   'to address': 'contact@gs-store.de'}}]"
      ]
     },
     "execution_count": 4,
     "metadata": {},
     "output_type": "execute_result"
    }
   ],
   "source": [
    "df[\"action_instances\"][0]"
   ]
  },
  {
   "cell_type": "code",
   "execution_count": 5,
   "id": "93ea2803",
   "metadata": {},
   "outputs": [
    {
     "data": {
      "text/plain": [
       "3"
      ]
     },
     "execution_count": 5,
     "metadata": {},
     "output_type": "execute_result"
    }
   ],
   "source": [
    "len(df[\"action_instances\"][0])"
   ]
  },
  {
   "cell_type": "code",
   "execution_count": 6,
   "id": "0f85a6d9",
   "metadata": {},
   "outputs": [
    {
     "data": {
      "text/plain": [
       "dict"
      ]
     },
     "execution_count": 6,
     "metadata": {},
     "output_type": "execute_result"
    }
   ],
   "source": [
    "type(df[\"action_instances\"][0][0])"
   ]
  },
  {
   "cell_type": "code",
   "execution_count": 8,
   "id": "a5f86026",
   "metadata": {},
   "outputs": [
    {
     "data": {
      "text/plain": [
       "{'options': [{'id': 601225,\n",
       "   'name': 'new email from',\n",
       "   'params': {\"sender's address\": 'contact@gs-store.de'}},\n",
       "  {'id': 600599,\n",
       "   'name': 'new email in inbox from',\n",
       "   'params': {'email address': 'contact@gs-store.de'}}]}"
      ]
     },
     "execution_count": 8,
     "metadata": {},
     "output_type": "execute_result"
    }
   ],
   "source": [
    "df[\"action_instances\"][0][0]"
   ]
  },
  {
   "cell_type": "code",
   "execution_count": 9,
   "id": "91aa7d28",
   "metadata": {},
   "outputs": [
    {
     "data": {
      "text/plain": [
       "'[{\\'options\\': [{\\'id\\': 601225, \\'name\\': \\'new email from\\', \\'params\\': {\"sender\\'s address\": \\'contact@gs-store.de\\'}}, {\\'id\\': 600599, \\'name\\': \\'new email in inbox from\\', \\'params\\': {\\'email address\\': \\'contact@gs-store.de\\'}}]}, {\\'id\\': 700000, \\'name\\': \\'make a payment\\', \\'params\\': {\\'invoice\\': \\'<return1>.attachment\\', \\'method\\': \\'credit card\\'}}, {\\'id\\': 600603, \\'name\\': \\'send an email\\', \\'params\\': {\\'attachment url\\': \\'<return2>\\', \\'to address\\': \\'contact@gs-store.de\\'}}]'"
      ]
     },
     "execution_count": 9,
     "metadata": {},
     "output_type": "execute_result"
    }
   ],
   "source": [
    "str(df[\"action_instances\"][0])"
   ]
  },
  {
   "cell_type": "code",
   "execution_count": 10,
   "id": "35589ef6",
   "metadata": {},
   "outputs": [
    {
     "data": {
      "text/plain": [
       "[{'options': [{'id': 601225,\n",
       "    'name': 'new email from',\n",
       "    'params': {\"sender's address\": 'contact@gs-store.de'}},\n",
       "   {'id': 600599,\n",
       "    'name': 'new email in inbox from',\n",
       "    'params': {'email address': 'contact@gs-store.de'}}]},\n",
       " {'id': 700000,\n",
       "  'name': 'make a payment',\n",
       "  'params': {'invoice': '<return1>.attachment', 'method': 'credit card'}},\n",
       " {'id': 600603,\n",
       "  'name': 'send an email',\n",
       "  'params': {'attachment url': '<return2>',\n",
       "   'to address': 'contact@gs-store.de'}}]"
      ]
     },
     "execution_count": 10,
     "metadata": {},
     "output_type": "execute_result"
    }
   ],
   "source": [
    "df[\"action_instances\"][0]"
   ]
  },
  {
   "cell_type": "code",
   "execution_count": 11,
   "id": "a667296a",
   "metadata": {},
   "outputs": [
    {
     "data": {
      "text/plain": [
       "[\"[{'options': [{'id': 601225, \",\n",
       " 'new email from\\', \\'params\\': {\"sender\\'s address\": \\'contact@gs-store.de\\'}}, {\\'id\\': 600599, ',\n",
       " \"new email in inbox from', 'params': {'email address': 'contact@gs-store.de'}}]}, {'id': 700000, \",\n",
       " \"make a payment', 'params': {'invoice': '<return1>.attachment', 'method': 'credit card'}}, {'id': 600603, \",\n",
       " \"send an email', 'params': {'attachment url': '<return2>', 'to address': 'contact@gs-store.de'}}]\"]"
      ]
     },
     "execution_count": 11,
     "metadata": {},
     "output_type": "execute_result"
    }
   ],
   "source": [
    "str(df[\"action_instances\"][0]).split(\"\\'name\\': \\'\")"
   ]
  },
  {
   "cell_type": "code",
   "execution_count": 12,
   "id": "688c08d4",
   "metadata": {},
   "outputs": [
    {
     "data": {
      "text/plain": [
       "['new email from\\', \\'params\\': {\"sender\\'s address\": \\'contact@gs-store.de\\'}}, {\\'id\\': 600599, ',\n",
       " \"new email in inbox from', 'params': {'email address': 'contact@gs-store.de'}}]}, {'id': 700000, \",\n",
       " \"make a payment', 'params': {'invoice': '<return1>.attachment', 'method': 'credit card'}}, {'id': 600603, \",\n",
       " \"send an email', 'params': {'attachment url': '<return2>', 'to address': 'contact@gs-store.de'}}]\"]"
      ]
     },
     "execution_count": 12,
     "metadata": {},
     "output_type": "execute_result"
    }
   ],
   "source": [
    "data = str(df[\"action_instances\"][0]).split(\"\\'name\\': \\'\")[1:]\n",
    "data"
   ]
  },
  {
   "cell_type": "code",
   "execution_count": 13,
   "id": "a2489d28",
   "metadata": {},
   "outputs": [
    {
     "name": "stdout",
     "output_type": "stream",
     "text": [
      "14\n",
      "new email from\n",
      "23\n",
      "new email in inbox from\n",
      "14\n",
      "make a payment\n",
      "13\n",
      "send an email\n"
     ]
    }
   ],
   "source": [
    "for everyData in data:\n",
    "    print(everyData.find(\"'\"))\n",
    "    val = everyData.find(\"'\")\n",
    "    print(everyData[:val])"
   ]
  },
  {
   "cell_type": "code",
   "execution_count": 14,
   "id": "62a4093b",
   "metadata": {},
   "outputs": [],
   "source": [
    "actions_val = []\n",
    "for everyCommand in df[\"action_instances\"]:\n",
    "    data = str(everyCommand).split(\"\\'name\\': \\'\")[1:]\n",
    "    temp = []\n",
    "    for everyData in data:\n",
    "        val = everyData.find(\"'\")\n",
    "        temp.append(everyData[:val])\n",
    "    actions_val.append(temp)    "
   ]
  },
  {
   "cell_type": "code",
   "execution_count": 15,
   "id": "bff6d6a0",
   "metadata": {
    "scrolled": true
   },
   "outputs": [
    {
     "data": {
      "text/plain": [
       "[['new email from',\n",
       "  'new email in inbox from',\n",
       "  'make a payment',\n",
       "  'send an email'],\n",
       " ['new email from',\n",
       "  'new email in inbox from',\n",
       "  'make a payment',\n",
       "  'send an email'],\n",
       " ['new email from',\n",
       "  'new email in inbox from',\n",
       "  'make a payment',\n",
       "  'send an email'],\n",
       " ['new email from',\n",
       "  'new email in inbox from',\n",
       "  'make a payment',\n",
       "  'send an email'],\n",
       " ['new email from',\n",
       "  'new email in inbox from',\n",
       "  'make a payment',\n",
       "  'send an email'],\n",
       " ['new deposit in your account from sender', 'send an email', 'send email'],\n",
       " ['new deposit in your account from sender', 'send an email', 'send email'],\n",
       " ['new deposit in your account from sender', 'send an email', 'send email'],\n",
       " ['new deposit in your account from sender', 'send an email', 'send email'],\n",
       " ['read file content',\n",
       "  'translate',\n",
       "  'translate',\n",
       "  'translate',\n",
       "  'create a text file',\n",
       "  'create a text file',\n",
       "  'create a document',\n",
       "  'send an email'],\n",
       " ['read file content',\n",
       "  'translate',\n",
       "  'translate',\n",
       "  'translate',\n",
       "  'send an email',\n",
       "  'send email'],\n",
       " ['read file content',\n",
       "  'translate',\n",
       "  'translate',\n",
       "  'translate',\n",
       "  'send an email',\n",
       "  'send email'],\n",
       " ['new email from',\n",
       "  'new email in inbox from',\n",
       "  'extract content',\n",
       "  'convert',\n",
       "  'send an email',\n",
       "  'send email',\n",
       "  'send an email',\n",
       "  'send email'],\n",
       " ['new email from', 'new email in inbox from', 'extract content', 'convert'],\n",
       " ['weather',\n",
       "  'daily-forecast-weather-data',\n",
       "  'weather-forecast',\n",
       "  'search-weather-data',\n",
       "  'send an email',\n",
       "  'send email',\n",
       "  'send an email',\n",
       "  'send email'],\n",
       " ['weather',\n",
       "  'daily-forecast-weather-data',\n",
       "  'weather-forecast',\n",
       "  'search-weather-data',\n",
       "  'send an email',\n",
       "  'send email',\n",
       "  'send an email',\n",
       "  'send email'],\n",
       " ['weather',\n",
       "  'daily-forecast-weather-data',\n",
       "  'weather-forecast',\n",
       "  'search-weather-data',\n",
       "  'send an email',\n",
       "  'send email',\n",
       "  'send an email',\n",
       "  'send email'],\n",
       " ['weather',\n",
       "  'daily-forecast-weather-data',\n",
       "  'weather-forecast',\n",
       "  'search-weather-data',\n",
       "  'send an email',\n",
       "  'send email',\n",
       "  'send an email',\n",
       "  'send email'],\n",
       " ['weather',\n",
       "  'daily-forecast-weather-data',\n",
       "  'weather-forecast',\n",
       "  'search-weather-data',\n",
       "  'send an email',\n",
       "  'send email',\n",
       "  'send an email',\n",
       "  'send email'],\n",
       " ['new item from search', 'buy a product by id'],\n",
       " ['new item from search', 'buy a product by id'],\n",
       " ['new item from search', 'buy a product by id'],\n",
       " ['new item from search', 'buy a product by id'],\n",
       " ['new item from search', 'buy a product by id'],\n",
       " ['new item from search', 'buy a product by id'],\n",
       " ['new item from search', 'buy a product by id'],\n",
       " ['new item from search', 'buy a product by id'],\n",
       " ['get contacts', 'send an email', 'send email'],\n",
       " ['get contacts', 'send an email', 'send email'],\n",
       " ['send an email',\n",
       "  'send email',\n",
       "  'new email from',\n",
       "  'new email in inbox from',\n",
       "  'upload public photo from url'],\n",
       " ['send an email',\n",
       "  'send email',\n",
       "  'new email from',\n",
       "  'new email in inbox from',\n",
       "  'upload public photo from url'],\n",
       " ['send an email',\n",
       "  'send email',\n",
       "  'new email from',\n",
       "  'new email in inbox from',\n",
       "  'upload public photo from url'],\n",
       " ['send an email',\n",
       "  'send email',\n",
       "  'new email from',\n",
       "  'new email in inbox from',\n",
       "  'upload public photo from url'],\n",
       " ['send an email',\n",
       "  'send email',\n",
       "  'new email from',\n",
       "  'new email in inbox from',\n",
       "  'upload public photo from url'],\n",
       " ['search image on Flickr', 'send an email'],\n",
       " ['search image on Flickr', 'send an email'],\n",
       " ['search image on Flickr', 'send an email'],\n",
       " ['search image on Flickr', 'send an email'],\n",
       " ['search image on Flickr', 'send an email'],\n",
       " ['search image on Flickr', 'send an email'],\n",
       " ['search video on YouTube', 'send an email', 'send email'],\n",
       " ['search video on YouTube', 'send an email', 'send email'],\n",
       " ['search video on YouTube', 'send an email', 'send email'],\n",
       " ['search video on YouTube', 'send an email', 'send email'],\n",
       " ['new email from',\n",
       "  'new email in inbox from',\n",
       "  'create a link post',\n",
       "  'post a tweet with image'],\n",
       " ['new email from',\n",
       "  'new email in inbox from',\n",
       "  'create a link post',\n",
       "  'post a tweet with image'],\n",
       " ['new email from',\n",
       "  'new email in inbox from',\n",
       "  'create a link post',\n",
       "  'post a tweet with image'],\n",
       " ['new email from',\n",
       "  'new email in inbox from',\n",
       "  'create a link post',\n",
       "  'post a tweet with image'],\n",
       " ['new email from',\n",
       "  'new email in inbox from',\n",
       "  'create a link post',\n",
       "  'post a tweet with image'],\n",
       " ['new email from',\n",
       "  'new email in inbox from',\n",
       "  'create a link post',\n",
       "  'post a tweet with image'],\n",
       " ['tweets from search'],\n",
       " ['tweets from search'],\n",
       " ['tweets from search'],\n",
       " ['tweets from search'],\n",
       " ['tweets from search'],\n",
       " ['tweets from search'],\n",
       " ['tweets from search'],\n",
       " ['tweets from search'],\n",
       " ['directions'],\n",
       " ['directions'],\n",
       " ['directions'],\n",
       " ['directions'],\n",
       " ['directions'],\n",
       " ['directions'],\n",
       " ['directions'],\n",
       " ['new item from search', 'send an email', 'send email'],\n",
       " ['new item from search', 'send an email', 'send email'],\n",
       " ['new item from search', 'send an email', 'send email'],\n",
       " ['new item from search', 'send an email', 'send email'],\n",
       " ['new item from search', 'send an email', 'send email'],\n",
       " ['send an email',\n",
       "  'send email',\n",
       "  'new email from',\n",
       "  'new email in inbox from',\n",
       "  'send an email',\n",
       "  'send email'],\n",
       " ['send an email',\n",
       "  'send email',\n",
       "  'new email from',\n",
       "  'new email in inbox from',\n",
       "  'send an email',\n",
       "  'send email'],\n",
       " ['send an email',\n",
       "  'send email',\n",
       "  'new email from',\n",
       "  'new email in inbox from',\n",
       "  'send an email',\n",
       "  'send email'],\n",
       " ['send an email',\n",
       "  'send email',\n",
       "  'new email from',\n",
       "  'new email in inbox from',\n",
       "  'send an email',\n",
       "  'send email'],\n",
       " ['send an email',\n",
       "  'send email',\n",
       "  'new email from',\n",
       "  'new email in inbox from',\n",
       "  'send an email',\n",
       "  'send email'],\n",
       " ['search image on Flickr', 'share a link'],\n",
       " ['search image on Flickr', 'share a link'],\n",
       " ['search image on Flickr', 'share a link'],\n",
       " ['search image on Flickr', 'share a link'],\n",
       " ['search image on Flickr', 'share a link'],\n",
       " ['search image on Flickr', 'share a link'],\n",
       " ['search image on Flickr', 'create a link post'],\n",
       " ['search image on Flickr', 'create a link post'],\n",
       " ['search image on Flickr', 'create a link post'],\n",
       " ['search image on Flickr', 'create a link post'],\n",
       " ['create calendar item'],\n",
       " ['create calendar item'],\n",
       " ['create calendar item'],\n",
       " ['create calendar item'],\n",
       " ['create calendar item'],\n",
       " ['create calendar item'],\n",
       " ['tweets from search', 'send a direct message'],\n",
       " ['tweets from search', 'send a direct message'],\n",
       " ['tweets from search', 'send a direct message'],\n",
       " ['tweets from search', 'send a direct message'],\n",
       " ['new email from',\n",
       "  'new email in inbox from',\n",
       "  'read file content',\n",
       "  'translate',\n",
       "  'translate',\n",
       "  'translate',\n",
       "  'create a text file',\n",
       "  'create a text file',\n",
       "  'create a document',\n",
       "  'send an email',\n",
       "  'new email from',\n",
       "  'new email in inbox from',\n",
       "  'send an email',\n",
       "  'send email'],\n",
       " ['new email from',\n",
       "  'new email in inbox from',\n",
       "  'read file content',\n",
       "  'translate',\n",
       "  'translate',\n",
       "  'translate',\n",
       "  'create a text file',\n",
       "  'create a text file',\n",
       "  'create a document',\n",
       "  'send an email'],\n",
       " ['new email from',\n",
       "  'new email in inbox from',\n",
       "  'read file content',\n",
       "  'translate',\n",
       "  'translate',\n",
       "  'translate',\n",
       "  'send an email',\n",
       "  'send email'],\n",
       " ['new email from',\n",
       "  'new email in inbox from',\n",
       "  'print document',\n",
       "  'post message',\n",
       "  'convert-file',\n",
       "  'share a link'],\n",
       " ['new email from',\n",
       "  'new email in inbox from',\n",
       "  'print document',\n",
       "  'post message'],\n",
       " ['new email from',\n",
       "  'new email in inbox from',\n",
       "  'print document',\n",
       "  'post message',\n",
       "  'convert-file',\n",
       "  'share a link'],\n",
       " ['any new post by someone',\n",
       "  'any new post by someone',\n",
       "  'contains expression',\n",
       "  'post message'],\n",
       " ['any new post by someone',\n",
       "  'send an email',\n",
       "  'send email',\n",
       "  'contains expression',\n",
       "  'post message'],\n",
       " ['any new post by someone', 'contains expression', 'post message'],\n",
       " ['add new contact', 'Julian Brown', 'create new contact'],\n",
       " ['add new contact', 'Julian Brown', 'create new contact'],\n",
       " ['add new contact', 'Julian Brown', 'create new contact'],\n",
       " ['add new contact', 'Jean Meer', 'create new contact'],\n",
       " ['add new contact', 'Jean Meer', 'create new contact'],\n",
       " ['add new contact', 'Jean Meer', 'create new contact'],\n",
       " ['add new contact', 'Jean Meer', 'create new contact'],\n",
       " ['add new contact', 'Jean Meer', 'create new contact'],\n",
       " ['add new contact', 'Jean Meer', 'create new contact'],\n",
       " ['add new contact', 'Jean Meer', 'create new contact'],\n",
       " ['add new contact', 'Jean Meer', 'create new contact'],\n",
       " ['any new issue', 'post message', 'post message'],\n",
       " ['any new issue', 'post message', 'post message'],\n",
       " ['any new issue', 'post message', 'post message'],\n",
       " ['any new issue', 'post message', 'post message'],\n",
       " ['new article in section', 'add a bitlink', 'post a tweet'],\n",
       " ['new article in section', 'add a bitlink', 'post a tweet'],\n",
       " ['new article in section', 'add a bitlink', 'post a tweet'],\n",
       " ['new article in section', 'add a bitlink', 'post a tweet'],\n",
       " ['new item from search', 'post message'],\n",
       " ['new item from search', 'post message'],\n",
       " ['new item from search', 'post message'],\n",
       " ['new item from search', 'post message'],\n",
       " ['picture of the day', 'send an email', 'send email', 'add photo to album'],\n",
       " ['picture of the day', 'add photo to album', 'send an email'],\n",
       " ['picture of the day', 'add photo to album', 'send an email', 'send email'],\n",
       " ['picture of the day',\n",
       "  'post message',\n",
       "  'add photo to album',\n",
       "  'send an email',\n",
       "  'send email'],\n",
       " ['new final score', 'call my phone', 'add track to a playlist'],\n",
       " ['new final score', 'call my phone', 'add track to a playlist'],\n",
       " ['new final score', 'add track to a playlist', 'call my phone'],\n",
       " ['new final score', 'add track to a playlist', 'call my phone'],\n",
       " ['new final score', 'add track to a playlist', 'call my phone'],\n",
       " ['new final score',\n",
       "  'add track to a playlist',\n",
       "  'call my phone',\n",
       "  'post a tweet'],\n",
       " ['new story from section', 'send an email', 'send email'],\n",
       " ['new story from section', 'send an email', 'send email'],\n",
       " ['send an email', 'new story from section'],\n",
       " ['send an email', 'send email', 'new story from section'],\n",
       " ['new story from section', 'send an email', 'send email'],\n",
       " ['new story from section', 'send an email'],\n",
       " ['tweets from search',\n",
       "  'create an issue',\n",
       "  'create an issue',\n",
       "  'tweets from search'],\n",
       " ['tweets from search',\n",
       "  'create an issue',\n",
       "  'create an issue',\n",
       "  'tweets from search'],\n",
       " ['tweets from search',\n",
       "  'create an issue',\n",
       "  'create an issue',\n",
       "  'tweets from search'],\n",
       " ['tweets from search',\n",
       "  'create an issue',\n",
       "  'create an issue',\n",
       "  'tweets from search'],\n",
       " ['enter an area',\n",
       "  'you enter an area',\n",
       "  'open garage door',\n",
       "  'open garage door'],\n",
       " ['enter an area',\n",
       "  'you enter an area',\n",
       "  'open garage door',\n",
       "  'open garage door'],\n",
       " ['enter an area',\n",
       "  'you enter an area',\n",
       "  'open garage door',\n",
       "  'open garage door'],\n",
       " ['enter an area',\n",
       "  'you enter an area',\n",
       "  'open garage door',\n",
       "  'open garage door'],\n",
       " ['enter an area',\n",
       "  'you enter an area',\n",
       "  'open garage door',\n",
       "  'open garage door'],\n",
       " ['air quality changed',\n",
       "  'change light color',\n",
       "  'change color',\n",
       "  'change color',\n",
       "  'change color'],\n",
       " ['air quality changed',\n",
       "  'change light color',\n",
       "  'change color',\n",
       "  'change color',\n",
       "  'change color'],\n",
       " ['air quality changed',\n",
       "  'change light color',\n",
       "  'change color',\n",
       "  'change color',\n",
       "  'change color'],\n",
       " ['air quality changed',\n",
       "  'change light color',\n",
       "  'change color',\n",
       "  'change color',\n",
       "  'change color'],\n",
       " ['air quality changed',\n",
       "  'change light color',\n",
       "  'change color',\n",
       "  'change color',\n",
       "  'change color'],\n",
       " ['air quality changed',\n",
       "  'change light color',\n",
       "  'change color',\n",
       "  'change color',\n",
       "  'change color'],\n",
       " ['air quality changed',\n",
       "  'change light color',\n",
       "  'change color',\n",
       "  'change color',\n",
       "  'change color'],\n",
       " ['widget-search-json-1',\n",
       "  'quote',\n",
       "  'quote',\n",
       "  'search image on Flickr',\n",
       "  'create a link post'],\n",
       " ['widget-search-json-1',\n",
       "  'quote',\n",
       "  'quote',\n",
       "  'search image on Flickr',\n",
       "  'create a link post'],\n",
       " ['widget-search-json-1',\n",
       "  'quote',\n",
       "  'quote',\n",
       "  'search image on Flickr',\n",
       "  'send an email'],\n",
       " ['widget-search-json-1',\n",
       "  'quote',\n",
       "  'quote',\n",
       "  'search image on Flickr',\n",
       "  'create a link post'],\n",
       " ['any new post by someone',\n",
       "  'porn-filter-by-image-url',\n",
       "  'detect-nudity-in-web-hosted-image',\n",
       "  'nudity-check',\n",
       "  'nudity-detection-on-public-url',\n",
       "  'post message'],\n",
       " ['new email from',\n",
       "  'new email in inbox from',\n",
       "  'porn-filter-by-image-url',\n",
       "  'detect-nudity-in-web-hosted-image',\n",
       "  'nudity-check',\n",
       "  'nudity-detection-on-public-url',\n",
       "  'post message'],\n",
       " ['search'],\n",
       " ['search'],\n",
       " ['search'],\n",
       " ['search'],\n",
       " ['search'],\n",
       " ['read file content',\n",
       "  'check',\n",
       "  'create a text file',\n",
       "  'create a text file',\n",
       "  'create a document',\n",
       "  'convert-file',\n",
       "  'send an email'],\n",
       " ['read file content',\n",
       "  'check',\n",
       "  'create a text file',\n",
       "  'create a text file',\n",
       "  'create a document',\n",
       "  'convert-file',\n",
       "  'send an email'],\n",
       " ['read file content', 'check'],\n",
       " ['take snapshots', 'create a link post'],\n",
       " ['take snapshots', 'take snapshots'],\n",
       " ['take snapshots'],\n",
       " ['get-top-definition', 'qr-code', 'post message'],\n",
       " ['get-top-definition', 'post message'],\n",
       " ['get-profile-pic-url',\n",
       "  'porn-filter-by-image-url',\n",
       "  'detect-nudity-in-web-hosted-image',\n",
       "  'nudity-check',\n",
       "  'nudity-detection-on-public-url',\n",
       "  'upload a photo from url',\n",
       "  'create-pdf-from-url',\n",
       "  'pdf',\n",
       "  'html-to-pdf',\n",
       "  'pdf',\n",
       "  'api-pdf',\n",
       "  'upload file from url'],\n",
       " ['get-profile-pic-url',\n",
       "  'porn-filter-by-image-url',\n",
       "  'detect-nudity-in-web-hosted-image',\n",
       "  'nudity-check',\n",
       "  'nudity-detection-on-public-url']]"
      ]
     },
     "execution_count": 15,
     "metadata": {},
     "output_type": "execute_result"
    }
   ],
   "source": [
    "actions_val"
   ]
  },
  {
   "cell_type": "code",
   "execution_count": 16,
   "id": "9be7db73",
   "metadata": {
    "scrolled": true
   },
   "outputs": [
    {
     "data": {
      "text/plain": [
       "[{'id': 700002,\n",
       "  'name': 'read file content',\n",
       "  'params': {'file': 'question.doc'}},\n",
       " {'options': [{'id': 501371,\n",
       "    'name': 'translate',\n",
       "    'params': {'from': 'en', 'text': '<return1>', 'to': 'pt'}},\n",
       "   {'id': 501915,\n",
       "    'name': 'translate',\n",
       "    'params': {'languageConverted': 'en',\n",
       "     'languageToConvert': 'pt',\n",
       "     'text': '<return1>'}},\n",
       "   {'id': 503292,\n",
       "    'name': 'translate',\n",
       "    'params': {'input': '<return1>', 'source': 'en', 'target': 'pt'}}]},\n",
       " {'options': [{'id': 600603,\n",
       "    'name': 'send an email',\n",
       "    'params': {'body': '<return2>', 'to address': 'sandra@andrade.com.br'}},\n",
       "   {'id': 601227,\n",
       "    'name': 'send email',\n",
       "    'params': {'body': '<return2>', 'recipients': 'sandra@andrade.com.br'}}]}]"
      ]
     },
     "execution_count": 16,
     "metadata": {},
     "output_type": "execute_result"
    }
   ],
   "source": [
    "df[\"action_instances\"][10]"
   ]
  },
  {
   "cell_type": "code",
   "execution_count": 17,
   "id": "ee093abd",
   "metadata": {},
   "outputs": [
    {
     "data": {
      "text/plain": [
       "'Find \"question.doc\" and translate the content of the file from English into Portuguese. Send this new text to Sandra. Once she sends back the reviewed message, send it to Brazilian embassy.'"
      ]
     },
     "execution_count": 17,
     "metadata": {},
     "output_type": "execute_result"
    }
   ],
   "source": [
    "df[\"nl_command_statment\"].iloc[10]"
   ]
  },
  {
   "cell_type": "code",
   "execution_count": 18,
   "id": "d8114ef7",
   "metadata": {},
   "outputs": [],
   "source": [
    "import itertools\n",
    "s = \",\".join(itertools.chain(*actions_val))"
   ]
  },
  {
   "cell_type": "code",
   "execution_count": 19,
   "id": "72e2cebe",
   "metadata": {},
   "outputs": [
    {
     "data": {
      "text/plain": [
       "73"
      ]
     },
     "execution_count": 19,
     "metadata": {},
     "output_type": "execute_result"
    }
   ],
   "source": [
    "len(set(s.split(\",\")))"
   ]
  },
  {
   "cell_type": "code",
   "execution_count": 20,
   "id": "b3c37063",
   "metadata": {
    "scrolled": true
   },
   "outputs": [
    {
     "name": "stdout",
     "output_type": "stream",
     "text": [
      "4\n",
      "4\n",
      "4\n",
      "4\n",
      "4\n",
      "3\n",
      "3\n",
      "3\n",
      "3\n",
      "8\n",
      "6\n",
      "6\n",
      "8\n",
      "4\n",
      "8\n",
      "8\n",
      "8\n",
      "8\n",
      "8\n",
      "2\n",
      "2\n",
      "2\n",
      "2\n",
      "2\n",
      "2\n",
      "2\n",
      "2\n",
      "3\n",
      "3\n",
      "5\n",
      "5\n",
      "5\n",
      "5\n",
      "5\n",
      "2\n",
      "2\n",
      "2\n",
      "2\n",
      "2\n",
      "2\n",
      "3\n",
      "3\n",
      "3\n",
      "3\n",
      "4\n",
      "4\n",
      "4\n",
      "4\n",
      "4\n",
      "4\n",
      "1\n",
      "1\n",
      "1\n",
      "1\n",
      "1\n",
      "1\n",
      "1\n",
      "1\n",
      "1\n",
      "1\n",
      "1\n",
      "1\n",
      "1\n",
      "1\n",
      "1\n",
      "3\n",
      "3\n",
      "3\n",
      "3\n",
      "3\n",
      "6\n",
      "6\n",
      "6\n",
      "6\n",
      "6\n",
      "2\n",
      "2\n",
      "2\n",
      "2\n",
      "2\n",
      "2\n",
      "2\n",
      "2\n",
      "2\n",
      "2\n",
      "1\n",
      "1\n",
      "1\n",
      "1\n",
      "1\n",
      "1\n",
      "2\n",
      "2\n",
      "2\n",
      "2\n",
      "14\n",
      "10\n",
      "8\n",
      "6\n",
      "4\n",
      "6\n",
      "4\n",
      "5\n",
      "3\n",
      "3\n",
      "3\n",
      "3\n",
      "3\n",
      "3\n",
      "3\n",
      "3\n",
      "3\n",
      "3\n",
      "3\n",
      "3\n",
      "3\n",
      "3\n",
      "3\n",
      "3\n",
      "3\n",
      "3\n",
      "3\n",
      "3\n",
      "2\n",
      "2\n",
      "2\n",
      "2\n",
      "4\n",
      "3\n",
      "4\n",
      "5\n",
      "3\n",
      "3\n",
      "3\n",
      "3\n",
      "3\n",
      "4\n",
      "3\n",
      "3\n",
      "2\n",
      "3\n",
      "3\n",
      "2\n",
      "4\n",
      "4\n",
      "4\n",
      "4\n",
      "4\n",
      "4\n",
      "4\n",
      "4\n",
      "4\n",
      "5\n",
      "5\n",
      "5\n",
      "5\n",
      "5\n",
      "5\n",
      "5\n",
      "5\n",
      "5\n",
      "5\n",
      "5\n",
      "6\n",
      "7\n",
      "1\n",
      "1\n",
      "1\n",
      "1\n",
      "1\n",
      "7\n",
      "7\n",
      "2\n",
      "2\n",
      "2\n",
      "1\n",
      "3\n",
      "2\n",
      "12\n",
      "5\n"
     ]
    }
   ],
   "source": [
    "for val in actions_val:\n",
    "    print(len(val))"
   ]
  },
  {
   "cell_type": "code",
   "execution_count": 21,
   "id": "b16559f0",
   "metadata": {},
   "outputs": [],
   "source": [
    "temp = []\n",
    "for val in actions_val:\n",
    "    temp.append(len(val))"
   ]
  },
  {
   "cell_type": "code",
   "execution_count": 22,
   "id": "6c58cf78",
   "metadata": {},
   "outputs": [
    {
     "data": {
      "text/plain": [
       "(14, 1)"
      ]
     },
     "execution_count": 22,
     "metadata": {},
     "output_type": "execute_result"
    }
   ],
   "source": [
    "max(temp), min(temp)"
   ]
  },
  {
   "cell_type": "code",
   "execution_count": 23,
   "id": "bb112b17",
   "metadata": {},
   "outputs": [
    {
     "data": {
      "text/plain": [
       "95"
      ]
     },
     "execution_count": 23,
     "metadata": {},
     "output_type": "execute_result"
    }
   ],
   "source": [
    "temp.index(14)"
   ]
  },
  {
   "cell_type": "code",
   "execution_count": 24,
   "id": "b88ccfbb",
   "metadata": {},
   "outputs": [
    {
     "data": {
      "text/plain": [
       "['new email from',\n",
       " 'new email in inbox from',\n",
       " 'read file content',\n",
       " 'translate',\n",
       " 'translate',\n",
       " 'translate',\n",
       " 'create a text file',\n",
       " 'create a text file',\n",
       " 'create a document',\n",
       " 'send an email',\n",
       " 'new email from',\n",
       " 'new email in inbox from',\n",
       " 'send an email',\n",
       " 'send email']"
      ]
     },
     "execution_count": 24,
     "metadata": {},
     "output_type": "execute_result"
    }
   ],
   "source": [
    "actions_val[95]"
   ]
  },
  {
   "cell_type": "code",
   "execution_count": 25,
   "id": "54f7be8b",
   "metadata": {},
   "outputs": [
    {
     "data": {
      "text/plain": [
       "[{'options': [{'id': 601225,\n",
       "    'name': 'new email from',\n",
       "    'params': {\"sender's address\": 'carmen@souza.cl'}},\n",
       "   {'id': 600599,\n",
       "    'name': 'new email in inbox from',\n",
       "    'params': {'email address': 'carmen@souza.cl'}}]},\n",
       " {'id': 700002,\n",
       "  'name': 'read file content',\n",
       "  'params': {'file': '<return1>.attachment'}},\n",
       " {'options': [{'id': 501371,\n",
       "    'name': 'translate',\n",
       "    'params': {'from': 'de', 'text': '<return2>', 'to': 'en'}},\n",
       "   {'id': 501915,\n",
       "    'name': 'translate',\n",
       "    'params': {'languageConverted': 'de',\n",
       "     'languageToConvert': 'en',\n",
       "     'text': '<return2>'}},\n",
       "   {'id': 503292,\n",
       "    'name': 'translate',\n",
       "    'params': {'input': '<return2>', 'source': 'de', 'target': 'en'}}]},\n",
       " {'options': [{'id': 600209,\n",
       "    'name': 'create a text file',\n",
       "    'params': {'content': '<return3>', 'file name': 'english-version.txt'}},\n",
       "   {'id': 600350,\n",
       "    'name': 'create a text file',\n",
       "    'params': {'content': '<return3>', 'file name': 'english-version.txt'}},\n",
       "   {'id': 600614,\n",
       "    'name': 'create a document',\n",
       "    'params': {'content': '<return3>',\n",
       "     'document name': 'english-version.txt'}}]},\n",
       " {'id': 600603,\n",
       "  'name': 'send an email',\n",
       "  'params': {'attachment url': '<return4>',\n",
       "   'body': 'Please, see if this candidate is suitable for our opened position.',\n",
       "   'to address': 'helena@university.com'}},\n",
       " {'options': [{'id': 601225,\n",
       "    'name': 'new email from',\n",
       "    'params': {\"sender's address\": 'helena@university.com'}},\n",
       "   {'id': 600599,\n",
       "    'name': 'new email in inbox from',\n",
       "    'params': {'email address': 'helena@university.com'}}]},\n",
       " {'options': [{'id': 600603,\n",
       "    'name': 'send an email',\n",
       "    'params': {'body': '<return5>', 'to address': 'carmen@souza.cl'}},\n",
       "   {'id': 601227,\n",
       "    'name': 'send email',\n",
       "    'params': {'body': '<return5>', 'recipients': 'carmen@souza.cl'}}]}]"
      ]
     },
     "execution_count": 25,
     "metadata": {},
     "output_type": "execute_result"
    }
   ],
   "source": [
    "df[\"action_instances\"][95]"
   ]
  },
  {
   "cell_type": "code",
   "execution_count": 26,
   "id": "0d010dcc",
   "metadata": {},
   "outputs": [
    {
     "data": {
      "text/plain": [
       "'Get the CV attached to a new email sent by Carmen Souza. Translate it from German to English saving the content in \"english-version.txt\" and send the new copy to Maria Helena by email saying: Please, see if this candidate is suitable for our opened position. When she answers, forward the message to Mrs Souza.'"
      ]
     },
     "execution_count": 26,
     "metadata": {},
     "output_type": "execute_result"
    }
   ],
   "source": [
    "df[\"nl_command_statment\"].iloc[95]"
   ]
  },
  {
   "cell_type": "code",
   "execution_count": 27,
   "id": "17af2ae3",
   "metadata": {},
   "outputs": [],
   "source": [
    "df[\"only_actions\"] = actions_val"
   ]
  },
  {
   "cell_type": "code",
   "execution_count": 28,
   "id": "7c87d41b",
   "metadata": {},
   "outputs": [
    {
     "data": {
      "text/html": [
       "<div>\n",
       "<style scoped>\n",
       "    .dataframe tbody tr th:only-of-type {\n",
       "        vertical-align: middle;\n",
       "    }\n",
       "\n",
       "    .dataframe tbody tr th {\n",
       "        vertical-align: top;\n",
       "    }\n",
       "\n",
       "    .dataframe thead th {\n",
       "        text-align: right;\n",
       "    }\n",
       "</style>\n",
       "<table border=\"1\" class=\"dataframe\">\n",
       "  <thead>\n",
       "    <tr style=\"text-align: right;\">\n",
       "      <th></th>\n",
       "      <th>action_instances</th>\n",
       "      <th>id</th>\n",
       "      <th>nl_command_statment</th>\n",
       "      <th>only_actions</th>\n",
       "    </tr>\n",
       "  </thead>\n",
       "  <tbody>\n",
       "    <tr>\n",
       "      <th>0</th>\n",
       "      <td>[{'options': [{'id': 601225, 'name': 'new emai...</td>\n",
       "      <td>101</td>\n",
       "      <td>Pay the invoice that I will receive from conta...</td>\n",
       "      <td>[new email from, new email in inbox from, make...</td>\n",
       "    </tr>\n",
       "    <tr>\n",
       "      <th>1</th>\n",
       "      <td>[{'options': [{'id': 601225, 'name': 'new emai...</td>\n",
       "      <td>102</td>\n",
       "      <td>Pay in the bank my purchases that I will soon ...</td>\n",
       "      <td>[new email from, new email in inbox from, make...</td>\n",
       "    </tr>\n",
       "    <tr>\n",
       "      <th>2</th>\n",
       "      <td>[{'options': [{'id': 601225, 'name': 'new emai...</td>\n",
       "      <td>105</td>\n",
       "      <td>Make a payment using my bank account when I re...</td>\n",
       "      <td>[new email from, new email in inbox from, make...</td>\n",
       "    </tr>\n",
       "    <tr>\n",
       "      <th>3</th>\n",
       "      <td>[{'options': [{'id': 601225, 'name': 'new emai...</td>\n",
       "      <td>106</td>\n",
       "      <td>Pay my Good Sports Store account balance using...</td>\n",
       "      <td>[new email from, new email in inbox from, make...</td>\n",
       "    </tr>\n",
       "    <tr>\n",
       "      <th>4</th>\n",
       "      <td>[{'options': [{'id': 601225, 'name': 'new emai...</td>\n",
       "      <td>107</td>\n",
       "      <td>Wait for a new email from the sender contact@g...</td>\n",
       "      <td>[new email from, new email in inbox from, make...</td>\n",
       "    </tr>\n",
       "  </tbody>\n",
       "</table>\n",
       "</div>"
      ],
      "text/plain": [
       "                                    action_instances   id  \\\n",
       "0  [{'options': [{'id': 601225, 'name': 'new emai...  101   \n",
       "1  [{'options': [{'id': 601225, 'name': 'new emai...  102   \n",
       "2  [{'options': [{'id': 601225, 'name': 'new emai...  105   \n",
       "3  [{'options': [{'id': 601225, 'name': 'new emai...  106   \n",
       "4  [{'options': [{'id': 601225, 'name': 'new emai...  107   \n",
       "\n",
       "                                 nl_command_statment  \\\n",
       "0  Pay the invoice that I will receive from conta...   \n",
       "1  Pay in the bank my purchases that I will soon ...   \n",
       "2  Make a payment using my bank account when I re...   \n",
       "3  Pay my Good Sports Store account balance using...   \n",
       "4  Wait for a new email from the sender contact@g...   \n",
       "\n",
       "                                        only_actions  \n",
       "0  [new email from, new email in inbox from, make...  \n",
       "1  [new email from, new email in inbox from, make...  \n",
       "2  [new email from, new email in inbox from, make...  \n",
       "3  [new email from, new email in inbox from, make...  \n",
       "4  [new email from, new email in inbox from, make...  "
      ]
     },
     "execution_count": 28,
     "metadata": {},
     "output_type": "execute_result"
    }
   ],
   "source": [
    "df.head()"
   ]
  },
  {
   "cell_type": "code",
   "execution_count": 29,
   "id": "c5add344",
   "metadata": {},
   "outputs": [],
   "source": [
    "# df[\"new_input\"] = \"<boF> \" + df[\"nl_command_statment\"] \n",
    "df[\"new_input\"] = df[\"nl_command_statment\"] "
   ]
  },
  {
   "cell_type": "code",
   "execution_count": 30,
   "id": "7f41c8c2",
   "metadata": {},
   "outputs": [
    {
     "data": {
      "text/html": [
       "<div>\n",
       "<style scoped>\n",
       "    .dataframe tbody tr th:only-of-type {\n",
       "        vertical-align: middle;\n",
       "    }\n",
       "\n",
       "    .dataframe tbody tr th {\n",
       "        vertical-align: top;\n",
       "    }\n",
       "\n",
       "    .dataframe thead th {\n",
       "        text-align: right;\n",
       "    }\n",
       "</style>\n",
       "<table border=\"1\" class=\"dataframe\">\n",
       "  <thead>\n",
       "    <tr style=\"text-align: right;\">\n",
       "      <th></th>\n",
       "      <th>action_instances</th>\n",
       "      <th>id</th>\n",
       "      <th>nl_command_statment</th>\n",
       "      <th>only_actions</th>\n",
       "      <th>new_input</th>\n",
       "    </tr>\n",
       "  </thead>\n",
       "  <tbody>\n",
       "    <tr>\n",
       "      <th>0</th>\n",
       "      <td>[{'options': [{'id': 601225, 'name': 'new emai...</td>\n",
       "      <td>101</td>\n",
       "      <td>Pay the invoice that I will receive from conta...</td>\n",
       "      <td>[new email from, new email in inbox from, make...</td>\n",
       "      <td>Pay the invoice that I will receive from conta...</td>\n",
       "    </tr>\n",
       "    <tr>\n",
       "      <th>1</th>\n",
       "      <td>[{'options': [{'id': 601225, 'name': 'new emai...</td>\n",
       "      <td>102</td>\n",
       "      <td>Pay in the bank my purchases that I will soon ...</td>\n",
       "      <td>[new email from, new email in inbox from, make...</td>\n",
       "      <td>Pay in the bank my purchases that I will soon ...</td>\n",
       "    </tr>\n",
       "    <tr>\n",
       "      <th>2</th>\n",
       "      <td>[{'options': [{'id': 601225, 'name': 'new emai...</td>\n",
       "      <td>105</td>\n",
       "      <td>Make a payment using my bank account when I re...</td>\n",
       "      <td>[new email from, new email in inbox from, make...</td>\n",
       "      <td>Make a payment using my bank account when I re...</td>\n",
       "    </tr>\n",
       "    <tr>\n",
       "      <th>3</th>\n",
       "      <td>[{'options': [{'id': 601225, 'name': 'new emai...</td>\n",
       "      <td>106</td>\n",
       "      <td>Pay my Good Sports Store account balance using...</td>\n",
       "      <td>[new email from, new email in inbox from, make...</td>\n",
       "      <td>Pay my Good Sports Store account balance using...</td>\n",
       "    </tr>\n",
       "    <tr>\n",
       "      <th>4</th>\n",
       "      <td>[{'options': [{'id': 601225, 'name': 'new emai...</td>\n",
       "      <td>107</td>\n",
       "      <td>Wait for a new email from the sender contact@g...</td>\n",
       "      <td>[new email from, new email in inbox from, make...</td>\n",
       "      <td>Wait for a new email from the sender contact@g...</td>\n",
       "    </tr>\n",
       "  </tbody>\n",
       "</table>\n",
       "</div>"
      ],
      "text/plain": [
       "                                    action_instances   id  \\\n",
       "0  [{'options': [{'id': 601225, 'name': 'new emai...  101   \n",
       "1  [{'options': [{'id': 601225, 'name': 'new emai...  102   \n",
       "2  [{'options': [{'id': 601225, 'name': 'new emai...  105   \n",
       "3  [{'options': [{'id': 601225, 'name': 'new emai...  106   \n",
       "4  [{'options': [{'id': 601225, 'name': 'new emai...  107   \n",
       "\n",
       "                                 nl_command_statment  \\\n",
       "0  Pay the invoice that I will receive from conta...   \n",
       "1  Pay in the bank my purchases that I will soon ...   \n",
       "2  Make a payment using my bank account when I re...   \n",
       "3  Pay my Good Sports Store account balance using...   \n",
       "4  Wait for a new email from the sender contact@g...   \n",
       "\n",
       "                                        only_actions  \\\n",
       "0  [new email from, new email in inbox from, make...   \n",
       "1  [new email from, new email in inbox from, make...   \n",
       "2  [new email from, new email in inbox from, make...   \n",
       "3  [new email from, new email in inbox from, make...   \n",
       "4  [new email from, new email in inbox from, make...   \n",
       "\n",
       "                                           new_input  \n",
       "0  Pay the invoice that I will receive from conta...  \n",
       "1  Pay in the bank my purchases that I will soon ...  \n",
       "2  Make a payment using my bank account when I re...  \n",
       "3  Pay my Good Sports Store account balance using...  \n",
       "4  Wait for a new email from the sender contact@g...  "
      ]
     },
     "execution_count": 30,
     "metadata": {},
     "output_type": "execute_result"
    }
   ],
   "source": [
    "df.head()"
   ]
  },
  {
   "cell_type": "code",
   "execution_count": 31,
   "id": "2bf2fc88",
   "metadata": {},
   "outputs": [],
   "source": [
    "from keras.preprocessing.text import Tokenizer, text_to_word_sequence\n",
    "from keras.preprocessing.sequence import pad_sequences\n",
    "#convert sentences to word tokens and find length of vocab and max sentence length for input and output\n",
    "\n",
    "input_tokenizer = Tokenizer()\n",
    "input_tokenizer.fit_on_texts(df['new_input'])\n",
    "Source_vocabulary = input_tokenizer.word_index.keys()"
   ]
  },
  {
   "cell_type": "code",
   "execution_count": 32,
   "id": "3e284a34",
   "metadata": {},
   "outputs": [],
   "source": [
    "output_tokenizer = Tokenizer()\n",
    "output_tokenizer.fit_on_texts( df['only_actions'] )\n",
    "target_vocabulary = output_tokenizer.word_index.keys()"
   ]
  },
  {
   "cell_type": "code",
   "execution_count": 33,
   "id": "95b56118",
   "metadata": {},
   "outputs": [],
   "source": [
    "input_int = input_tokenizer.texts_to_sequences(df['new_input'])\n",
    "output_int = output_tokenizer.texts_to_sequences(df['only_actions'])"
   ]
  },
  {
   "cell_type": "code",
   "execution_count": 34,
   "id": "e39fc718",
   "metadata": {},
   "outputs": [
    {
     "name": "stdout",
     "output_type": "stream",
     "text": [
      "Number of samples: 180\n",
      "Number of unique source language tokens: 662\n",
      "Number of unique target language tokens: 73\n",
      "Max sequence length of source language: 56\n",
      "Max sequence length of target language: 14\n",
      "Source Vocabulary ['the', 'to', 'my', 'in', 'send', 'and', 'a', 'it', 'on', 'of']\n",
      "Target Vocabulary ['send an email', 'send email', 'new email from', 'new email in inbox from', 'post message', 'change color', 'search image on flickr', 'tweets from search', 'translate', 'new item from search']\n"
     ]
    }
   ],
   "source": [
    "max_source_seq_length =  len(max( input_int ,key=len))\n",
    "\n",
    "max_target_seq_length = len(max( output_int ,key=len))\n",
    "\n",
    "num_source_tokens = len(input_tokenizer.word_counts)\n",
    "\n",
    "num_target_tokens = len(output_tokenizer.word_counts)\n",
    "\n",
    "number_of_samples = df.shape[0]\n",
    "\n",
    "\n",
    "print('Number of samples:', number_of_samples )\n",
    "print('Number of unique source language tokens:', num_source_tokens)\n",
    "print('Number of unique target language tokens:', num_target_tokens)\n",
    "print('Max sequence length of source language:', max_source_seq_length)\n",
    "print('Max sequence length of target language:', max_target_seq_length)\n",
    "print(\"Source Vocabulary\",list(Source_vocabulary)[:10])\n",
    "print(\"Target Vocabulary\",list(target_vocabulary)[:10])"
   ]
  },
  {
   "cell_type": "code",
   "execution_count": 35,
   "id": "a791945d",
   "metadata": {},
   "outputs": [],
   "source": [
    "import numpy as np\n",
    "\n",
    "pad_input = np.zeros((max_source_seq_length, num_source_tokens), dtype='float32')\n",
    "\n",
    "pad_output = np.zeros((max_target_seq_length, num_target_tokens), dtype='float32')"
   ]
  },
  {
   "cell_type": "code",
   "execution_count": 36,
   "id": "58b83045",
   "metadata": {},
   "outputs": [
    {
     "data": {
      "text/plain": [
       "((56, 662), (14, 73))"
      ]
     },
     "execution_count": 36,
     "metadata": {},
     "output_type": "execute_result"
    }
   ],
   "source": [
    "pad_input.shape , pad_output.shape"
   ]
  },
  {
   "cell_type": "code",
   "execution_count": 37,
   "id": "7de16e46",
   "metadata": {},
   "outputs": [
    {
     "name": "stdout",
     "output_type": "stream",
     "text": [
      "endcoder input shape (180, 56)\n",
      "decoder input shape (180, 14)\n"
     ]
    }
   ],
   "source": [
    "#pad the sequences to the same length\n",
    "pad_input_val = pad_sequences(input_int, maxlen=max_source_seq_length,padding='post')\n",
    "print(\"endcoder input shape\", pad_input_val.shape)\n",
    "\n",
    "#add padding for encoder after the sentence integers\n",
    "pad_output_val = pad_sequences(output_int, maxlen=max_target_seq_length,padding='post' )\n",
    "print(\"decoder input shape\", pad_output_val.shape)"
   ]
  },
  {
   "cell_type": "code",
   "execution_count": 39,
   "id": "ab70f023",
   "metadata": {},
   "outputs": [],
   "source": [
    "reshaped_input = pad_input_val.reshape(1, 180, 56)\n",
    "reshaped_output = pad_output_val.reshape(1, 180, 14)"
   ]
  },
  {
   "cell_type": "code",
   "execution_count": 40,
   "id": "926f835c",
   "metadata": {},
   "outputs": [
    {
     "data": {
      "text/plain": [
       "((1, 180, 56), (1, 180, 14))"
      ]
     },
     "execution_count": 40,
     "metadata": {},
     "output_type": "execute_result"
    }
   ],
   "source": [
    "reshaped_input.shape, reshaped_output.shape"
   ]
  },
  {
   "cell_type": "code",
   "execution_count": 218,
   "id": "f73706d6",
   "metadata": {},
   "outputs": [],
   "source": [
    "import keras\n",
    "from keras.layers import Input, LSTM, Dense,Flatten, TimeDistributed, SimpleRNN\n",
    "from keras.models import Model, Sequential\n",
    "# x=Input(shape=(timestep,n_feature))\n",
    "# model=LSTM(8)(x)\n",
    "# model=Dense(2)(model)\n",
    "# myModel=Model(x,model)\n",
    "\n",
    "x=Input(shape= (None, 56) )\n",
    "\n",
    "model=LSTM(100, return_sequences=True)(x)\n",
    "\n",
    "tdd = TimeDistributed(Dense(14))\n",
    "model = tdd(model)\n",
    "\n",
    "tdd = Dense(64, activation=\"relu\")\n",
    "model = tdd(model)\n",
    "\n",
    "tdd = Dense(32, activation=\"relu\")\n",
    "model = tdd(model)\n",
    "\n",
    "tdd = Dense(14, activation=\"relu\")\n",
    "model = tdd(model)\n",
    "\n",
    "\n",
    "myModel=Model(x,model)"
   ]
  },
  {
   "cell_type": "code",
   "execution_count": 219,
   "id": "74113f87",
   "metadata": {},
   "outputs": [],
   "source": [
    "import keras\n",
    "# myModel.compile(optimizer='RMSprop', loss=\"categorical_crossentropy\" ,metrics=['accuracy'])\n",
    "\n",
    "myModel.compile(optimizer='RMSprop', loss= keras.losses.sparse_categorical_crossentropy  ,metrics=['accuracy'])"
   ]
  },
  {
   "cell_type": "code",
   "execution_count": 220,
   "id": "631f5e47",
   "metadata": {
    "scrolled": false
   },
   "outputs": [
    {
     "name": "stdout",
     "output_type": "stream",
     "text": [
      "Model: \"model_20\"\n",
      "_________________________________________________________________\n",
      " Layer (type)                Output Shape              Param #   \n",
      "=================================================================\n",
      " input_21 (InputLayer)       [(None, None, 56)]        0         \n",
      "                                                                 \n",
      " lstm_19 (LSTM)              (None, None, 100)         62800     \n",
      "                                                                 \n",
      " time_distributed_7 (TimeDis  (None, None, 14)         1414      \n",
      " tributed)                                                       \n",
      "                                                                 \n",
      " dense_57 (Dense)            (None, None, 64)          960       \n",
      "                                                                 \n",
      " dense_58 (Dense)            (None, None, 32)          2080      \n",
      "                                                                 \n",
      " dense_59 (Dense)            (None, None, 14)          462       \n",
      "                                                                 \n",
      "=================================================================\n",
      "Total params: 67,716\n",
      "Trainable params: 67,716\n",
      "Non-trainable params: 0\n",
      "_________________________________________________________________\n"
     ]
    }
   ],
   "source": [
    "myModel.summary()"
   ]
  },
  {
   "cell_type": "code",
   "execution_count": 225,
   "id": "9014295b",
   "metadata": {},
   "outputs": [
    {
     "name": "stdout",
     "output_type": "stream",
     "text": [
      "You must install pydot (`pip install pydot`) and install graphviz (see instructions at https://graphviz.gitlab.io/download/) for plot_model/model_to_dot to work.\n"
     ]
    }
   ],
   "source": [
    "from tensorflow import keras\n",
    "\n",
    "keras.utils.plot_model(myModel, show_shapes=True)"
   ]
  },
  {
   "cell_type": "code",
   "execution_count": 221,
   "id": "f7e05728",
   "metadata": {
    "scrolled": true
   },
   "outputs": [
    {
     "name": "stdout",
     "output_type": "stream",
     "text": [
      "Epoch 1/1000\n"
     ]
    },
    {
     "ename": "InvalidArgumentError",
     "evalue": "Graph execution error:\n\nDetected at node 'sparse_categorical_crossentropy/SparseSoftmaxCrossEntropyWithLogits/SparseSoftmaxCrossEntropyWithLogits' defined at (most recent call last):\n    File \"C:\\ProgramData\\Anaconda3\\lib\\runpy.py\", line 194, in _run_module_as_main\n      return _run_code(code, main_globals, None,\n    File \"C:\\ProgramData\\Anaconda3\\lib\\runpy.py\", line 87, in _run_code\n      exec(code, run_globals)\n    File \"C:\\ProgramData\\Anaconda3\\lib\\site-packages\\ipykernel_launcher.py\", line 16, in <module>\n      app.launch_new_instance()\n    File \"C:\\ProgramData\\Anaconda3\\lib\\site-packages\\traitlets\\config\\application.py\", line 845, in launch_instance\n      app.start()\n    File \"C:\\ProgramData\\Anaconda3\\lib\\site-packages\\ipykernel\\kernelapp.py\", line 612, in start\n      self.io_loop.start()\n    File \"C:\\ProgramData\\Anaconda3\\lib\\site-packages\\tornado\\platform\\asyncio.py\", line 199, in start\n      self.asyncio_loop.run_forever()\n    File \"C:\\ProgramData\\Anaconda3\\lib\\asyncio\\base_events.py\", line 570, in run_forever\n      self._run_once()\n    File \"C:\\ProgramData\\Anaconda3\\lib\\asyncio\\base_events.py\", line 1859, in _run_once\n      handle._run()\n    File \"C:\\ProgramData\\Anaconda3\\lib\\asyncio\\events.py\", line 81, in _run\n      self._context.run(self._callback, *self._args)\n    File \"C:\\ProgramData\\Anaconda3\\lib\\site-packages\\tornado\\ioloop.py\", line 688, in <lambda>\n      lambda f: self._run_callback(functools.partial(callback, future))\n    File \"C:\\ProgramData\\Anaconda3\\lib\\site-packages\\tornado\\ioloop.py\", line 741, in _run_callback\n      ret = callback()\n    File \"C:\\ProgramData\\Anaconda3\\lib\\site-packages\\tornado\\gen.py\", line 814, in inner\n      self.ctx_run(self.run)\n    File \"C:\\ProgramData\\Anaconda3\\lib\\site-packages\\tornado\\gen.py\", line 775, in run\n      yielded = self.gen.send(value)\n    File \"C:\\ProgramData\\Anaconda3\\lib\\site-packages\\ipykernel\\kernelbase.py\", line 365, in process_one\n      yield gen.maybe_future(dispatch(*args))\n    File \"C:\\ProgramData\\Anaconda3\\lib\\site-packages\\tornado\\gen.py\", line 234, in wrapper\n      yielded = ctx_run(next, result)\n    File \"C:\\ProgramData\\Anaconda3\\lib\\site-packages\\ipykernel\\kernelbase.py\", line 268, in dispatch_shell\n      yield gen.maybe_future(handler(stream, idents, msg))\n    File \"C:\\ProgramData\\Anaconda3\\lib\\site-packages\\tornado\\gen.py\", line 234, in wrapper\n      yielded = ctx_run(next, result)\n    File \"C:\\ProgramData\\Anaconda3\\lib\\site-packages\\ipykernel\\kernelbase.py\", line 543, in execute_request\n      self.do_execute(\n    File \"C:\\ProgramData\\Anaconda3\\lib\\site-packages\\tornado\\gen.py\", line 234, in wrapper\n      yielded = ctx_run(next, result)\n    File \"C:\\ProgramData\\Anaconda3\\lib\\site-packages\\ipykernel\\ipkernel.py\", line 306, in do_execute\n      res = shell.run_cell(code, store_history=store_history, silent=silent)\n    File \"C:\\ProgramData\\Anaconda3\\lib\\site-packages\\ipykernel\\zmqshell.py\", line 536, in run_cell\n      return super(ZMQInteractiveShell, self).run_cell(*args, **kwargs)\n    File \"C:\\ProgramData\\Anaconda3\\lib\\site-packages\\IPython\\core\\interactiveshell.py\", line 2894, in run_cell\n      result = self._run_cell(\n    File \"C:\\ProgramData\\Anaconda3\\lib\\site-packages\\IPython\\core\\interactiveshell.py\", line 2940, in _run_cell\n      return runner(coro)\n    File \"C:\\ProgramData\\Anaconda3\\lib\\site-packages\\IPython\\core\\async_helpers.py\", line 68, in _pseudo_sync_runner\n      coro.send(None)\n    File \"C:\\ProgramData\\Anaconda3\\lib\\site-packages\\IPython\\core\\interactiveshell.py\", line 3165, in run_cell_async\n      has_raised = await self.run_ast_nodes(code_ast.body, cell_name,\n    File \"C:\\ProgramData\\Anaconda3\\lib\\site-packages\\IPython\\core\\interactiveshell.py\", line 3357, in run_ast_nodes\n      if (await self.run_code(code, result,  async_=asy)):\n    File \"C:\\ProgramData\\Anaconda3\\lib\\site-packages\\IPython\\core\\interactiveshell.py\", line 3437, in run_code\n      exec(code_obj, self.user_global_ns, self.user_ns)\n    File \"<ipython-input-221-5ee4f743007a>\", line 1, in <module>\n      history = myModel.fit(reshaped_input , reshaped_output,  epochs=1000)\n    File \"C:\\ProgramData\\Anaconda3\\lib\\site-packages\\keras\\utils\\traceback_utils.py\", line 64, in error_handler\n      return fn(*args, **kwargs)\n    File \"C:\\ProgramData\\Anaconda3\\lib\\site-packages\\keras\\engine\\training.py\", line 1384, in fit\n      tmp_logs = self.train_function(iterator)\n    File \"C:\\ProgramData\\Anaconda3\\lib\\site-packages\\keras\\engine\\training.py\", line 1021, in train_function\n      return step_function(self, iterator)\n    File \"C:\\ProgramData\\Anaconda3\\lib\\site-packages\\keras\\engine\\training.py\", line 1010, in step_function\n      outputs = model.distribute_strategy.run(run_step, args=(data,))\n    File \"C:\\ProgramData\\Anaconda3\\lib\\site-packages\\keras\\engine\\training.py\", line 1000, in run_step\n      outputs = model.train_step(data)\n    File \"C:\\ProgramData\\Anaconda3\\lib\\site-packages\\keras\\engine\\training.py\", line 860, in train_step\n      loss = self.compute_loss(x, y, y_pred, sample_weight)\n    File \"C:\\ProgramData\\Anaconda3\\lib\\site-packages\\keras\\engine\\training.py\", line 918, in compute_loss\n      return self.compiled_loss(\n    File \"C:\\ProgramData\\Anaconda3\\lib\\site-packages\\keras\\engine\\compile_utils.py\", line 201, in __call__\n      loss_value = loss_obj(y_t, y_p, sample_weight=sw)\n    File \"C:\\ProgramData\\Anaconda3\\lib\\site-packages\\keras\\losses.py\", line 141, in __call__\n      losses = call_fn(y_true, y_pred)\n    File \"C:\\ProgramData\\Anaconda3\\lib\\site-packages\\keras\\losses.py\", line 245, in call\n      return ag_fn(y_true, y_pred, **self._fn_kwargs)\n    File \"C:\\ProgramData\\Anaconda3\\lib\\site-packages\\keras\\losses.py\", line 1862, in sparse_categorical_crossentropy\n      return backend.sparse_categorical_crossentropy(\n    File \"C:\\ProgramData\\Anaconda3\\lib\\site-packages\\keras\\backend.py\", line 5202, in sparse_categorical_crossentropy\n      res = tf.nn.sparse_softmax_cross_entropy_with_logits(\nNode: 'sparse_categorical_crossentropy/SparseSoftmaxCrossEntropyWithLogits/SparseSoftmaxCrossEntropyWithLogits'\nlogits and labels must have the same first dimension, got logits shape [180,14] and labels shape [2520]\n\t [[{{node sparse_categorical_crossentropy/SparseSoftmaxCrossEntropyWithLogits/SparseSoftmaxCrossEntropyWithLogits}}]] [Op:__inference_train_function_187074]",
     "output_type": "error",
     "traceback": [
      "\u001b[1;31m---------------------------------------------------------------------------\u001b[0m",
      "\u001b[1;31mInvalidArgumentError\u001b[0m                      Traceback (most recent call last)",
      "\u001b[1;32m<ipython-input-221-5ee4f743007a>\u001b[0m in \u001b[0;36m<module>\u001b[1;34m\u001b[0m\n\u001b[1;32m----> 1\u001b[1;33m \u001b[0mhistory\u001b[0m \u001b[1;33m=\u001b[0m \u001b[0mmyModel\u001b[0m\u001b[1;33m.\u001b[0m\u001b[0mfit\u001b[0m\u001b[1;33m(\u001b[0m\u001b[0mreshaped_input\u001b[0m \u001b[1;33m,\u001b[0m \u001b[0mreshaped_output\u001b[0m\u001b[1;33m,\u001b[0m  \u001b[0mepochs\u001b[0m\u001b[1;33m=\u001b[0m\u001b[1;36m1000\u001b[0m\u001b[1;33m)\u001b[0m\u001b[1;33m\u001b[0m\u001b[1;33m\u001b[0m\u001b[0m\n\u001b[0m",
      "\u001b[1;32mC:\\ProgramData\\Anaconda3\\lib\\site-packages\\keras\\utils\\traceback_utils.py\u001b[0m in \u001b[0;36merror_handler\u001b[1;34m(*args, **kwargs)\u001b[0m\n\u001b[0;32m     65\u001b[0m     \u001b[1;32mexcept\u001b[0m \u001b[0mException\u001b[0m \u001b[1;32mas\u001b[0m \u001b[0me\u001b[0m\u001b[1;33m:\u001b[0m  \u001b[1;31m# pylint: disable=broad-except\u001b[0m\u001b[1;33m\u001b[0m\u001b[1;33m\u001b[0m\u001b[0m\n\u001b[0;32m     66\u001b[0m       \u001b[0mfiltered_tb\u001b[0m \u001b[1;33m=\u001b[0m \u001b[0m_process_traceback_frames\u001b[0m\u001b[1;33m(\u001b[0m\u001b[0me\u001b[0m\u001b[1;33m.\u001b[0m\u001b[0m__traceback__\u001b[0m\u001b[1;33m)\u001b[0m\u001b[1;33m\u001b[0m\u001b[1;33m\u001b[0m\u001b[0m\n\u001b[1;32m---> 67\u001b[1;33m       \u001b[1;32mraise\u001b[0m \u001b[0me\u001b[0m\u001b[1;33m.\u001b[0m\u001b[0mwith_traceback\u001b[0m\u001b[1;33m(\u001b[0m\u001b[0mfiltered_tb\u001b[0m\u001b[1;33m)\u001b[0m \u001b[1;32mfrom\u001b[0m \u001b[1;32mNone\u001b[0m\u001b[1;33m\u001b[0m\u001b[1;33m\u001b[0m\u001b[0m\n\u001b[0m\u001b[0;32m     68\u001b[0m     \u001b[1;32mfinally\u001b[0m\u001b[1;33m:\u001b[0m\u001b[1;33m\u001b[0m\u001b[1;33m\u001b[0m\u001b[0m\n\u001b[0;32m     69\u001b[0m       \u001b[1;32mdel\u001b[0m \u001b[0mfiltered_tb\u001b[0m\u001b[1;33m\u001b[0m\u001b[1;33m\u001b[0m\u001b[0m\n",
      "\u001b[1;32m~\\AppData\\Roaming\\Python\\Python38\\site-packages\\tensorflow\\python\\eager\\execute.py\u001b[0m in \u001b[0;36mquick_execute\u001b[1;34m(op_name, num_outputs, inputs, attrs, ctx, name)\u001b[0m\n\u001b[0;32m     52\u001b[0m   \u001b[1;32mtry\u001b[0m\u001b[1;33m:\u001b[0m\u001b[1;33m\u001b[0m\u001b[1;33m\u001b[0m\u001b[0m\n\u001b[0;32m     53\u001b[0m     \u001b[0mctx\u001b[0m\u001b[1;33m.\u001b[0m\u001b[0mensure_initialized\u001b[0m\u001b[1;33m(\u001b[0m\u001b[1;33m)\u001b[0m\u001b[1;33m\u001b[0m\u001b[1;33m\u001b[0m\u001b[0m\n\u001b[1;32m---> 54\u001b[1;33m     tensors = pywrap_tfe.TFE_Py_Execute(ctx._handle, device_name, op_name,\n\u001b[0m\u001b[0;32m     55\u001b[0m                                         inputs, attrs, num_outputs)\n\u001b[0;32m     56\u001b[0m   \u001b[1;32mexcept\u001b[0m \u001b[0mcore\u001b[0m\u001b[1;33m.\u001b[0m\u001b[0m_NotOkStatusException\u001b[0m \u001b[1;32mas\u001b[0m \u001b[0me\u001b[0m\u001b[1;33m:\u001b[0m\u001b[1;33m\u001b[0m\u001b[1;33m\u001b[0m\u001b[0m\n",
      "\u001b[1;31mInvalidArgumentError\u001b[0m: Graph execution error:\n\nDetected at node 'sparse_categorical_crossentropy/SparseSoftmaxCrossEntropyWithLogits/SparseSoftmaxCrossEntropyWithLogits' defined at (most recent call last):\n    File \"C:\\ProgramData\\Anaconda3\\lib\\runpy.py\", line 194, in _run_module_as_main\n      return _run_code(code, main_globals, None,\n    File \"C:\\ProgramData\\Anaconda3\\lib\\runpy.py\", line 87, in _run_code\n      exec(code, run_globals)\n    File \"C:\\ProgramData\\Anaconda3\\lib\\site-packages\\ipykernel_launcher.py\", line 16, in <module>\n      app.launch_new_instance()\n    File \"C:\\ProgramData\\Anaconda3\\lib\\site-packages\\traitlets\\config\\application.py\", line 845, in launch_instance\n      app.start()\n    File \"C:\\ProgramData\\Anaconda3\\lib\\site-packages\\ipykernel\\kernelapp.py\", line 612, in start\n      self.io_loop.start()\n    File \"C:\\ProgramData\\Anaconda3\\lib\\site-packages\\tornado\\platform\\asyncio.py\", line 199, in start\n      self.asyncio_loop.run_forever()\n    File \"C:\\ProgramData\\Anaconda3\\lib\\asyncio\\base_events.py\", line 570, in run_forever\n      self._run_once()\n    File \"C:\\ProgramData\\Anaconda3\\lib\\asyncio\\base_events.py\", line 1859, in _run_once\n      handle._run()\n    File \"C:\\ProgramData\\Anaconda3\\lib\\asyncio\\events.py\", line 81, in _run\n      self._context.run(self._callback, *self._args)\n    File \"C:\\ProgramData\\Anaconda3\\lib\\site-packages\\tornado\\ioloop.py\", line 688, in <lambda>\n      lambda f: self._run_callback(functools.partial(callback, future))\n    File \"C:\\ProgramData\\Anaconda3\\lib\\site-packages\\tornado\\ioloop.py\", line 741, in _run_callback\n      ret = callback()\n    File \"C:\\ProgramData\\Anaconda3\\lib\\site-packages\\tornado\\gen.py\", line 814, in inner\n      self.ctx_run(self.run)\n    File \"C:\\ProgramData\\Anaconda3\\lib\\site-packages\\tornado\\gen.py\", line 775, in run\n      yielded = self.gen.send(value)\n    File \"C:\\ProgramData\\Anaconda3\\lib\\site-packages\\ipykernel\\kernelbase.py\", line 365, in process_one\n      yield gen.maybe_future(dispatch(*args))\n    File \"C:\\ProgramData\\Anaconda3\\lib\\site-packages\\tornado\\gen.py\", line 234, in wrapper\n      yielded = ctx_run(next, result)\n    File \"C:\\ProgramData\\Anaconda3\\lib\\site-packages\\ipykernel\\kernelbase.py\", line 268, in dispatch_shell\n      yield gen.maybe_future(handler(stream, idents, msg))\n    File \"C:\\ProgramData\\Anaconda3\\lib\\site-packages\\tornado\\gen.py\", line 234, in wrapper\n      yielded = ctx_run(next, result)\n    File \"C:\\ProgramData\\Anaconda3\\lib\\site-packages\\ipykernel\\kernelbase.py\", line 543, in execute_request\n      self.do_execute(\n    File \"C:\\ProgramData\\Anaconda3\\lib\\site-packages\\tornado\\gen.py\", line 234, in wrapper\n      yielded = ctx_run(next, result)\n    File \"C:\\ProgramData\\Anaconda3\\lib\\site-packages\\ipykernel\\ipkernel.py\", line 306, in do_execute\n      res = shell.run_cell(code, store_history=store_history, silent=silent)\n    File \"C:\\ProgramData\\Anaconda3\\lib\\site-packages\\ipykernel\\zmqshell.py\", line 536, in run_cell\n      return super(ZMQInteractiveShell, self).run_cell(*args, **kwargs)\n    File \"C:\\ProgramData\\Anaconda3\\lib\\site-packages\\IPython\\core\\interactiveshell.py\", line 2894, in run_cell\n      result = self._run_cell(\n    File \"C:\\ProgramData\\Anaconda3\\lib\\site-packages\\IPython\\core\\interactiveshell.py\", line 2940, in _run_cell\n      return runner(coro)\n    File \"C:\\ProgramData\\Anaconda3\\lib\\site-packages\\IPython\\core\\async_helpers.py\", line 68, in _pseudo_sync_runner\n      coro.send(None)\n    File \"C:\\ProgramData\\Anaconda3\\lib\\site-packages\\IPython\\core\\interactiveshell.py\", line 3165, in run_cell_async\n      has_raised = await self.run_ast_nodes(code_ast.body, cell_name,\n    File \"C:\\ProgramData\\Anaconda3\\lib\\site-packages\\IPython\\core\\interactiveshell.py\", line 3357, in run_ast_nodes\n      if (await self.run_code(code, result,  async_=asy)):\n    File \"C:\\ProgramData\\Anaconda3\\lib\\site-packages\\IPython\\core\\interactiveshell.py\", line 3437, in run_code\n      exec(code_obj, self.user_global_ns, self.user_ns)\n    File \"<ipython-input-221-5ee4f743007a>\", line 1, in <module>\n      history = myModel.fit(reshaped_input , reshaped_output,  epochs=1000)\n    File \"C:\\ProgramData\\Anaconda3\\lib\\site-packages\\keras\\utils\\traceback_utils.py\", line 64, in error_handler\n      return fn(*args, **kwargs)\n    File \"C:\\ProgramData\\Anaconda3\\lib\\site-packages\\keras\\engine\\training.py\", line 1384, in fit\n      tmp_logs = self.train_function(iterator)\n    File \"C:\\ProgramData\\Anaconda3\\lib\\site-packages\\keras\\engine\\training.py\", line 1021, in train_function\n      return step_function(self, iterator)\n    File \"C:\\ProgramData\\Anaconda3\\lib\\site-packages\\keras\\engine\\training.py\", line 1010, in step_function\n      outputs = model.distribute_strategy.run(run_step, args=(data,))\n    File \"C:\\ProgramData\\Anaconda3\\lib\\site-packages\\keras\\engine\\training.py\", line 1000, in run_step\n      outputs = model.train_step(data)\n    File \"C:\\ProgramData\\Anaconda3\\lib\\site-packages\\keras\\engine\\training.py\", line 860, in train_step\n      loss = self.compute_loss(x, y, y_pred, sample_weight)\n    File \"C:\\ProgramData\\Anaconda3\\lib\\site-packages\\keras\\engine\\training.py\", line 918, in compute_loss\n      return self.compiled_loss(\n    File \"C:\\ProgramData\\Anaconda3\\lib\\site-packages\\keras\\engine\\compile_utils.py\", line 201, in __call__\n      loss_value = loss_obj(y_t, y_p, sample_weight=sw)\n    File \"C:\\ProgramData\\Anaconda3\\lib\\site-packages\\keras\\losses.py\", line 141, in __call__\n      losses = call_fn(y_true, y_pred)\n    File \"C:\\ProgramData\\Anaconda3\\lib\\site-packages\\keras\\losses.py\", line 245, in call\n      return ag_fn(y_true, y_pred, **self._fn_kwargs)\n    File \"C:\\ProgramData\\Anaconda3\\lib\\site-packages\\keras\\losses.py\", line 1862, in sparse_categorical_crossentropy\n      return backend.sparse_categorical_crossentropy(\n    File \"C:\\ProgramData\\Anaconda3\\lib\\site-packages\\keras\\backend.py\", line 5202, in sparse_categorical_crossentropy\n      res = tf.nn.sparse_softmax_cross_entropy_with_logits(\nNode: 'sparse_categorical_crossentropy/SparseSoftmaxCrossEntropyWithLogits/SparseSoftmaxCrossEntropyWithLogits'\nlogits and labels must have the same first dimension, got logits shape [180,14] and labels shape [2520]\n\t [[{{node sparse_categorical_crossentropy/SparseSoftmaxCrossEntropyWithLogits/SparseSoftmaxCrossEntropyWithLogits}}]] [Op:__inference_train_function_187074]"
     ]
    }
   ],
   "source": [
    "history = myModel.fit(reshaped_input , reshaped_output,  epochs=1000)"
   ]
  },
  {
   "cell_type": "code",
   "execution_count": null,
   "id": "e4f8265e",
   "metadata": {},
   "outputs": [],
   "source": [
    "import matplotlib.pyplot as plt  \n",
    "%matplotlib inline\n",
    "\n",
    "plt.plot(history.history['loss'])\n",
    "# plt.plot(history.history['val_loss'])\n",
    "plt.title('model loss')\n",
    "plt.ylabel('loss')\n",
    "plt.xlabel('epoch')\n",
    "plt.legend(['train', 'test'], loc='upper left')\n",
    "plt.show()"
   ]
  },
  {
   "cell_type": "code",
   "execution_count": 208,
   "id": "ae545e0c",
   "metadata": {},
   "outputs": [
    {
     "data": {
      "text/plain": [
       "array([193,   4,   1, 127,   3, 406,  31,  23,  73, 198,  46,  15,  55,\n",
       "       194,  74, 195,   5,   1, 407,  10, 126, 128,   2,   1,  74,   0,\n",
       "         0,   0,   0,   0,   0,   0,   0,   0,   0,   0,   0,   0,   0,\n",
       "         0,   0,   0,   0,   0,   0,   0,   0,   0,   0,   0,   0,   0,\n",
       "         0,   0,   0,   0])"
      ]
     },
     "execution_count": 208,
     "metadata": {},
     "output_type": "execute_result"
    }
   ],
   "source": [
    "reshaped_input[0][1][:]"
   ]
  },
  {
   "cell_type": "code",
   "execution_count": 209,
   "id": "541a8a42",
   "metadata": {},
   "outputs": [
    {
     "data": {
      "text/plain": [
       "array([ 3,  4, 31,  1,  0,  0,  0,  0,  0,  0,  0,  0,  0,  0])"
      ]
     },
     "execution_count": 209,
     "metadata": {},
     "output_type": "execute_result"
    }
   ],
   "source": [
    "reshaped_output[0][1][:]"
   ]
  },
  {
   "cell_type": "code",
   "execution_count": 210,
   "id": "046a81e1",
   "metadata": {},
   "outputs": [
    {
     "data": {
      "text/plain": [
       "(1, 1, 56)"
      ]
     },
     "execution_count": 210,
     "metadata": {},
     "output_type": "execute_result"
    }
   ],
   "source": [
    "reshaped_input[: , : 1 , : ].shape"
   ]
  },
  {
   "cell_type": "code",
   "execution_count": 211,
   "id": "f041f8ae",
   "metadata": {},
   "outputs": [
    {
     "data": {
      "text/plain": [
       "array([[[0.25926065, 0.32781905, 2.5486522 , 0.05539036, 0.        ,\n",
       "         0.        , 0.        , 0.        , 0.        , 0.        ,\n",
       "         0.        , 0.        , 0.        , 0.        ]]], dtype=float32)"
      ]
     },
     "execution_count": 211,
     "metadata": {},
     "output_type": "execute_result"
    }
   ],
   "source": [
    "myModel.predict(reshaped_input[: , :1 , : ])"
   ]
  },
  {
   "cell_type": "code",
   "execution_count": null,
   "id": "c660e073",
   "metadata": {},
   "outputs": [],
   "source": []
  },
  {
   "cell_type": "code",
   "execution_count": null,
   "id": "a0fc4fbf",
   "metadata": {},
   "outputs": [],
   "source": []
  },
  {
   "cell_type": "code",
   "execution_count": null,
   "id": "18207666",
   "metadata": {},
   "outputs": [],
   "source": []
  }
 ],
 "metadata": {
  "kernelspec": {
   "display_name": "Python 3",
   "language": "python",
   "name": "python3"
  },
  "language_info": {
   "codemirror_mode": {
    "name": "ipython",
    "version": 3
   },
   "file_extension": ".py",
   "mimetype": "text/x-python",
   "name": "python",
   "nbconvert_exporter": "python",
   "pygments_lexer": "ipython3",
   "version": "3.8.8"
  }
 },
 "nbformat": 4,
 "nbformat_minor": 5
}
