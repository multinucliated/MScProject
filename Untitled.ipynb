{
 "cells": [
  {
   "cell_type": "code",
   "execution_count": 1,
   "id": "9a8a7685",
   "metadata": {},
   "outputs": [],
   "source": [
    "import pandas as pd "
   ]
  },
  {
   "cell_type": "code",
   "execution_count": 4,
   "id": "d19413de",
   "metadata": {},
   "outputs": [],
   "source": [
    "action_df = pd.read_json(\"actionkbv3.json\")\n",
    "action_df.to_csv(\"actionkb.csv\", index=False)\n",
    "action_df.head()"
   ]
  },
  {
   "cell_type": "code",
   "execution_count": 66,
   "id": "b6fb6068",
   "metadata": {},
   "outputs": [
    {
     "data": {
      "text/html": [
       "<div>\n",
       "<style scoped>\n",
       "    .dataframe tbody tr th:only-of-type {\n",
       "        vertical-align: middle;\n",
       "    }\n",
       "\n",
       "    .dataframe tbody tr th {\n",
       "        vertical-align: top;\n",
       "    }\n",
       "\n",
       "    .dataframe thead th {\n",
       "        text-align: right;\n",
       "    }\n",
       "</style>\n",
       "<table border=\"1\" class=\"dataframe\">\n",
       "  <thead>\n",
       "    <tr style=\"text-align: right;\">\n",
       "      <th></th>\n",
       "      <th>data</th>\n",
       "      <th>desc</th>\n",
       "      <th>id</th>\n",
       "      <th>more</th>\n",
       "      <th>name</th>\n",
       "      <th>params</th>\n",
       "      <th>provider</th>\n",
       "      <th>samples</th>\n",
       "    </tr>\n",
       "  </thead>\n",
       "  <tbody>\n",
       "    <tr>\n",
       "      <th>9</th>\n",
       "      <td>[]</td>\n",
       "      <td>None</td>\n",
       "      <td>700009</td>\n",
       "      <td>{'provider': 'Google Calendar'}</td>\n",
       "      <td>create calendar item</td>\n",
       "      <td>[{'desc': None, 'name': 'subject', 'sample': N...</td>\n",
       "      <td>NaN</td>\n",
       "      <td>[]</td>\n",
       "    </tr>\n",
       "  </tbody>\n",
       "</table>\n",
       "</div>"
      ],
      "text/plain": [
       "  data  desc      id                             more                  name  \\\n",
       "9   []  None  700009  {'provider': 'Google Calendar'}  create calendar item   \n",
       "\n",
       "                                              params  provider samples  \n",
       "9  [{'desc': None, 'name': 'subject', 'sample': N...       NaN      []  "
      ]
     },
     "execution_count": 66,
     "metadata": {},
     "output_type": "execute_result"
    }
   ],
   "source": [
    "action_df[action_df.name == \"create calendar item\"]"
   ]
  },
  {
   "cell_type": "code",
   "execution_count": 70,
   "id": "4f74af9e",
   "metadata": {},
   "outputs": [
    {
     "data": {
      "text/plain": [
       "array([list([{'desc': None, 'name': 'subject', 'sample': None}, {'desc': None, 'name': 'at what time?', 'sample': None}, {'desc': None, 'name': 'which day?', 'sample': None}])],\n",
       "      dtype=object)"
      ]
     },
     "execution_count": 70,
     "metadata": {},
     "output_type": "execute_result"
    }
   ],
   "source": [
    "action_df[action_df.name == \"create calendar item\"].params.values"
   ]
  },
  {
   "cell_type": "code",
   "execution_count": 5,
   "id": "44a51548",
   "metadata": {},
   "outputs": [
    {
     "data": {
      "text/html": [
       "<div>\n",
       "<style scoped>\n",
       "    .dataframe tbody tr th:only-of-type {\n",
       "        vertical-align: middle;\n",
       "    }\n",
       "\n",
       "    .dataframe tbody tr th {\n",
       "        vertical-align: top;\n",
       "    }\n",
       "\n",
       "    .dataframe thead th {\n",
       "        text-align: right;\n",
       "    }\n",
       "</style>\n",
       "<table border=\"1\" class=\"dataframe\">\n",
       "  <thead>\n",
       "    <tr style=\"text-align: right;\">\n",
       "      <th></th>\n",
       "      <th>address</th>\n",
       "      <th>facebook</th>\n",
       "      <th>group</th>\n",
       "      <th>mail</th>\n",
       "      <th>name</th>\n",
       "      <th>phone</th>\n",
       "      <th>skype</th>\n",
       "      <th>tags</th>\n",
       "      <th>twitter</th>\n",
       "    </tr>\n",
       "  </thead>\n",
       "  <tbody>\n",
       "    <tr>\n",
       "      <th>0</th>\n",
       "      <td>Rua Central, 35, Rio de Janeiro, Brasil</td>\n",
       "      <td>malice</td>\n",
       "      <td>classmates</td>\n",
       "      <td>maria@alice.com.br</td>\n",
       "      <td>Maria Alice</td>\n",
       "      <td>555 111 222</td>\n",
       "      <td>maria.alice</td>\n",
       "      <td>my wife</td>\n",
       "      <td>malice</td>\n",
       "    </tr>\n",
       "    <tr>\n",
       "      <th>1</th>\n",
       "      <td>7 North Avenue, New York, USA</td>\n",
       "      <td>jsanders</td>\n",
       "      <td>None</td>\n",
       "      <td>john@fam.com</td>\n",
       "      <td>John Sanders</td>\n",
       "      <td>111 555 777</td>\n",
       "      <td>johnjohn</td>\n",
       "      <td>None</td>\n",
       "      <td>jsanders</td>\n",
       "    </tr>\n",
       "    <tr>\n",
       "      <th>2</th>\n",
       "      <td>Rua das Rosas, 10, Rio de Janeiro, Brasil</td>\n",
       "      <td>sandrade</td>\n",
       "      <td>classmates</td>\n",
       "      <td>sandra@andrade.com.br</td>\n",
       "      <td>Sandra Andrade</td>\n",
       "      <td>555 222 999</td>\n",
       "      <td>sandrinha</td>\n",
       "      <td>Tech Manager</td>\n",
       "      <td>sa</td>\n",
       "    </tr>\n",
       "    <tr>\n",
       "      <th>3</th>\n",
       "      <td>Calle Catedral 39, Santiago, Chile</td>\n",
       "      <td>enricoh</td>\n",
       "      <td>classmates</td>\n",
       "      <td>enrico@hernandez.cl</td>\n",
       "      <td>Enrico Hernandez</td>\n",
       "      <td>444 666 333</td>\n",
       "      <td>enrico</td>\n",
       "      <td>None</td>\n",
       "      <td>enricohcl</td>\n",
       "    </tr>\n",
       "    <tr>\n",
       "      <th>4</th>\n",
       "      <td>Calle San Pablo 22, Santiago, Chile</td>\n",
       "      <td>carmensouza</td>\n",
       "      <td>family</td>\n",
       "      <td>carmen@souza.cl</td>\n",
       "      <td>Carmen Souza</td>\n",
       "      <td>777 888 999</td>\n",
       "      <td>carmensouza</td>\n",
       "      <td>None</td>\n",
       "      <td>carmensouza</td>\n",
       "    </tr>\n",
       "  </tbody>\n",
       "</table>\n",
       "</div>"
      ],
      "text/plain": [
       "                                     address     facebook       group  \\\n",
       "0    Rua Central, 35, Rio de Janeiro, Brasil       malice  classmates   \n",
       "1              7 North Avenue, New York, USA     jsanders        None   \n",
       "2  Rua das Rosas, 10, Rio de Janeiro, Brasil     sandrade  classmates   \n",
       "3         Calle Catedral 39, Santiago, Chile      enricoh  classmates   \n",
       "4        Calle San Pablo 22, Santiago, Chile  carmensouza      family   \n",
       "\n",
       "                    mail              name        phone        skype  \\\n",
       "0     maria@alice.com.br       Maria Alice  555 111 222  maria.alice   \n",
       "1           john@fam.com      John Sanders  111 555 777     johnjohn   \n",
       "2  sandra@andrade.com.br    Sandra Andrade  555 222 999    sandrinha   \n",
       "3    enrico@hernandez.cl  Enrico Hernandez  444 666 333       enrico   \n",
       "4        carmen@souza.cl      Carmen Souza  777 888 999  carmensouza   \n",
       "\n",
       "           tags      twitter  \n",
       "0       my wife       malice  \n",
       "1          None     jsanders  \n",
       "2  Tech Manager           sa  \n",
       "3          None    enricohcl  \n",
       "4          None  carmensouza  "
      ]
     },
     "execution_count": 5,
     "metadata": {},
     "output_type": "execute_result"
    }
   ],
   "source": [
    "user_df = pd.read_json(\"userkbv2.json\")\n",
    "user_df.to_csv(\"userkb.csv\", index=False)\n",
    "user_df.head()"
   ]
  },
  {
   "cell_type": "code",
   "execution_count": 13,
   "id": "d65bb05f",
   "metadata": {},
   "outputs": [
    {
     "data": {
      "text/html": [
       "<div>\n",
       "<style scoped>\n",
       "    .dataframe tbody tr th:only-of-type {\n",
       "        vertical-align: middle;\n",
       "    }\n",
       "\n",
       "    .dataframe tbody tr th {\n",
       "        vertical-align: top;\n",
       "    }\n",
       "\n",
       "    .dataframe thead th {\n",
       "        text-align: right;\n",
       "    }\n",
       "</style>\n",
       "<table border=\"1\" class=\"dataframe\">\n",
       "  <thead>\n",
       "    <tr style=\"text-align: right;\">\n",
       "      <th></th>\n",
       "      <th>action_instances</th>\n",
       "      <th>id</th>\n",
       "      <th>nl_command_statment</th>\n",
       "    </tr>\n",
       "  </thead>\n",
       "  <tbody>\n",
       "    <tr>\n",
       "      <th>0</th>\n",
       "      <td>[{'options': [{'id': 601225, 'name': 'new emai...</td>\n",
       "      <td>101</td>\n",
       "      <td>Pay the invoice that I will receive from conta...</td>\n",
       "    </tr>\n",
       "    <tr>\n",
       "      <th>1</th>\n",
       "      <td>[{'options': [{'id': 601225, 'name': 'new emai...</td>\n",
       "      <td>102</td>\n",
       "      <td>Pay in the bank my purchases that I will soon ...</td>\n",
       "    </tr>\n",
       "    <tr>\n",
       "      <th>2</th>\n",
       "      <td>[{'options': [{'id': 601225, 'name': 'new emai...</td>\n",
       "      <td>105</td>\n",
       "      <td>Make a payment using my bank account when I re...</td>\n",
       "    </tr>\n",
       "    <tr>\n",
       "      <th>3</th>\n",
       "      <td>[{'options': [{'id': 601225, 'name': 'new emai...</td>\n",
       "      <td>106</td>\n",
       "      <td>Pay my Good Sports Store account balance using...</td>\n",
       "    </tr>\n",
       "    <tr>\n",
       "      <th>4</th>\n",
       "      <td>[{'options': [{'id': 601225, 'name': 'new emai...</td>\n",
       "      <td>107</td>\n",
       "      <td>Wait for a new email from the sender contact@g...</td>\n",
       "    </tr>\n",
       "  </tbody>\n",
       "</table>\n",
       "</div>"
      ],
      "text/plain": [
       "                                    action_instances   id  \\\n",
       "0  [{'options': [{'id': 601225, 'name': 'new emai...  101   \n",
       "1  [{'options': [{'id': 601225, 'name': 'new emai...  102   \n",
       "2  [{'options': [{'id': 601225, 'name': 'new emai...  105   \n",
       "3  [{'options': [{'id': 601225, 'name': 'new emai...  106   \n",
       "4  [{'options': [{'id': 601225, 'name': 'new emai...  107   \n",
       "\n",
       "                                 nl_command_statment  \n",
       "0  Pay the invoice that I will receive from conta...  \n",
       "1  Pay in the bank my purchases that I will soon ...  \n",
       "2  Make a payment using my bank account when I re...  \n",
       "3  Pay my Good Sports Store account balance using...  \n",
       "4  Wait for a new email from the sender contact@g...  "
      ]
     },
     "execution_count": 13,
     "metadata": {},
     "output_type": "execute_result"
    }
   ],
   "source": [
    "command_action_df = pd.read_json(\"mappingv3.json\") #Command-Action mapping file\n",
    "command_action_df.head()"
   ]
  },
  {
   "cell_type": "code",
   "execution_count": 62,
   "id": "582ecee8",
   "metadata": {},
   "outputs": [],
   "source": [
    "command_action_df.to_csv(\"command.csv\")"
   ]
  },
  {
   "cell_type": "code",
   "execution_count": 59,
   "id": "f1c693f7",
   "metadata": {},
   "outputs": [
    {
     "data": {
      "text/plain": [
       "[{'options': [{'id': 601225,\n",
       "    'name': 'new email from',\n",
       "    'params': {\"sender's address\": 'contact@gs-store.de'}},\n",
       "   {'id': 600599,\n",
       "    'name': 'new email in inbox from',\n",
       "    'params': {'email address': 'contact@gs-store.de'}}]},\n",
       " {'id': 700000,\n",
       "  'name': 'make a payment',\n",
       "  'params': {'invoice': '<return1>.attachment', 'method': 'bank'}},\n",
       " {'id': 600603,\n",
       "  'name': 'send an email',\n",
       "  'params': {'attachment url': '<return2>',\n",
       "   'to address': 'contact@gs-store.de'}}]"
      ]
     },
     "execution_count": 59,
     "metadata": {},
     "output_type": "execute_result"
    }
   ],
   "source": [
    "command_action_df.action_instances[3]"
   ]
  },
  {
   "cell_type": "code",
   "execution_count": 61,
   "id": "c9ea6353",
   "metadata": {},
   "outputs": [
    {
     "data": {
      "text/plain": [
       "'Pay my Good Sports Store account balance using my bank account on the day I receive an email with a payment invoice from contact@gs-store.de, and send the payment receipt back to the store.'"
      ]
     },
     "execution_count": 61,
     "metadata": {},
     "output_type": "execute_result"
    }
   ],
   "source": [
    "command_action_df.nl_command_statment[3]"
   ]
  },
  {
   "cell_type": "code",
   "execution_count": null,
   "id": "081b340e",
   "metadata": {},
   "outputs": [],
   "source": []
  },
  {
   "cell_type": "code",
   "execution_count": 14,
   "id": "74084ba1",
   "metadata": {},
   "outputs": [
    {
     "data": {
      "text/plain": [
       "'Pay the invoice that I will receive from contact@gs-store.de with my cred card, then send the payment receipt to them using the same address.'"
      ]
     },
     "execution_count": 14,
     "metadata": {},
     "output_type": "execute_result"
    }
   ],
   "source": [
    "command_action_df.nl_command_statment[0]"
   ]
  },
  {
   "cell_type": "code",
   "execution_count": 17,
   "id": "cedc4025",
   "metadata": {},
   "outputs": [
    {
     "data": {
      "text/plain": [
       "[{'options': [{'id': 601225,\n",
       "    'name': 'new email from',\n",
       "    'params': {\"sender's address\": 'contact@gs-store.de'}},\n",
       "   {'id': 600599,\n",
       "    'name': 'new email in inbox from',\n",
       "    'params': {'email address': 'contact@gs-store.de'}}]},\n",
       " {'id': 700000,\n",
       "  'name': 'make a payment',\n",
       "  'params': {'invoice': '<return1>.attachment', 'method': 'credit card'}},\n",
       " {'id': 600603,\n",
       "  'name': 'send an email',\n",
       "  'params': {'attachment url': '<return2>',\n",
       "   'to address': 'contact@gs-store.de'}}]"
      ]
     },
     "execution_count": 17,
     "metadata": {},
     "output_type": "execute_result"
    }
   ],
   "source": [
    "command_action_df.action_instances[0]"
   ]
  },
  {
   "cell_type": "code",
   "execution_count": 23,
   "id": "30f3498d",
   "metadata": {
    "scrolled": true
   },
   "outputs": [
    {
     "data": {
      "text/html": [
       "<div>\n",
       "<style scoped>\n",
       "    .dataframe tbody tr th:only-of-type {\n",
       "        vertical-align: middle;\n",
       "    }\n",
       "\n",
       "    .dataframe tbody tr th {\n",
       "        vertical-align: top;\n",
       "    }\n",
       "\n",
       "    .dataframe thead th {\n",
       "        text-align: right;\n",
       "    }\n",
       "</style>\n",
       "<table border=\"1\" class=\"dataframe\">\n",
       "  <thead>\n",
       "    <tr style=\"text-align: right;\">\n",
       "      <th></th>\n",
       "      <th>data</th>\n",
       "      <th>desc</th>\n",
       "      <th>id</th>\n",
       "      <th>more</th>\n",
       "      <th>name</th>\n",
       "      <th>params</th>\n",
       "      <th>provider</th>\n",
       "      <th>samples</th>\n",
       "    </tr>\n",
       "  </thead>\n",
       "  <tbody>\n",
       "    <tr>\n",
       "      <th>0</th>\n",
       "      <td>[{'desc': 'the proof of payment', 'name': 'rec...</td>\n",
       "      <td>None</td>\n",
       "      <td>700000</td>\n",
       "      <td>{}</td>\n",
       "      <td>make a payment</td>\n",
       "      <td>[{'desc': 'the invoice to be paid', 'name': 'c...</td>\n",
       "      <td>NaN</td>\n",
       "      <td>[]</td>\n",
       "    </tr>\n",
       "    <tr>\n",
       "      <th>1</th>\n",
       "      <td>[{'desc': None, 'name': 'datetime', 'sample': ...</td>\n",
       "      <td>None</td>\n",
       "      <td>700001</td>\n",
       "      <td>{}</td>\n",
       "      <td>new deposit in your account from sender</td>\n",
       "      <td>[{'desc': None, 'name': 'sender name', 'sample...</td>\n",
       "      <td>NaN</td>\n",
       "      <td>[]</td>\n",
       "    </tr>\n",
       "    <tr>\n",
       "      <th>2</th>\n",
       "      <td>[{'desc': None, 'name': 'text', 'sample': None}]</td>\n",
       "      <td>this action receives a file and returns their ...</td>\n",
       "      <td>700002</td>\n",
       "      <td>{}</td>\n",
       "      <td>read file content</td>\n",
       "      <td>[{'desc': 'file to be read', 'name': 'file', '...</td>\n",
       "      <td>NaN</td>\n",
       "      <td>[]</td>\n",
       "    </tr>\n",
       "    <tr>\n",
       "      <th>3</th>\n",
       "      <td>[]</td>\n",
       "      <td>this is an information extraction action that ...</td>\n",
       "      <td>700003</td>\n",
       "      <td>{}</td>\n",
       "      <td>extract content</td>\n",
       "      <td>[{'desc': 'information to be extracted', 'name...</td>\n",
       "      <td>NaN</td>\n",
       "      <td>[]</td>\n",
       "    </tr>\n",
       "    <tr>\n",
       "      <th>4</th>\n",
       "      <td>[]</td>\n",
       "      <td>None</td>\n",
       "      <td>700004</td>\n",
       "      <td>{}</td>\n",
       "      <td>buy a product by id</td>\n",
       "      <td>[{'desc': 'product id', 'name': 'id', 'sample'...</td>\n",
       "      <td>NaN</td>\n",
       "      <td>[]</td>\n",
       "    </tr>\n",
       "  </tbody>\n",
       "</table>\n",
       "</div>"
      ],
      "text/plain": [
       "                                                data  \\\n",
       "0  [{'desc': 'the proof of payment', 'name': 'rec...   \n",
       "1  [{'desc': None, 'name': 'datetime', 'sample': ...   \n",
       "2   [{'desc': None, 'name': 'text', 'sample': None}]   \n",
       "3                                                 []   \n",
       "4                                                 []   \n",
       "\n",
       "                                                desc      id more  \\\n",
       "0                                               None  700000   {}   \n",
       "1                                               None  700001   {}   \n",
       "2  this action receives a file and returns their ...  700002   {}   \n",
       "3  this is an information extraction action that ...  700003   {}   \n",
       "4                                               None  700004   {}   \n",
       "\n",
       "                                      name  \\\n",
       "0                           make a payment   \n",
       "1  new deposit in your account from sender   \n",
       "2                        read file content   \n",
       "3                          extract content   \n",
       "4                      buy a product by id   \n",
       "\n",
       "                                              params  provider samples  \n",
       "0  [{'desc': 'the invoice to be paid', 'name': 'c...       NaN      []  \n",
       "1  [{'desc': None, 'name': 'sender name', 'sample...       NaN      []  \n",
       "2  [{'desc': 'file to be read', 'name': 'file', '...       NaN      []  \n",
       "3  [{'desc': 'information to be extracted', 'name...       NaN      []  \n",
       "4  [{'desc': 'product id', 'name': 'id', 'sample'...       NaN      []  "
      ]
     },
     "execution_count": 23,
     "metadata": {},
     "output_type": "execute_result"
    }
   ],
   "source": [
    "action_df.head()"
   ]
  },
  {
   "cell_type": "code",
   "execution_count": 24,
   "id": "6cdaa4ba",
   "metadata": {},
   "outputs": [
    {
     "data": {
      "text/plain": [
       "[{'desc': 'the proof of payment', 'name': 'receipt', 'sample': None}]"
      ]
     },
     "execution_count": 24,
     "metadata": {},
     "output_type": "execute_result"
    }
   ],
   "source": [
    "action_df.data[0]"
   ]
  },
  {
   "cell_type": "code",
   "execution_count": 41,
   "id": "531bad38",
   "metadata": {
    "scrolled": true
   },
   "outputs": [
    {
     "data": {
      "text/html": [
       "<div>\n",
       "<style scoped>\n",
       "    .dataframe tbody tr th:only-of-type {\n",
       "        vertical-align: middle;\n",
       "    }\n",
       "\n",
       "    .dataframe tbody tr th {\n",
       "        vertical-align: top;\n",
       "    }\n",
       "\n",
       "    .dataframe thead th {\n",
       "        text-align: right;\n",
       "    }\n",
       "</style>\n",
       "<table border=\"1\" class=\"dataframe\">\n",
       "  <thead>\n",
       "    <tr style=\"text-align: right;\">\n",
       "      <th></th>\n",
       "      <th>action_instances</th>\n",
       "      <th>id</th>\n",
       "      <th>nl_command_statment</th>\n",
       "    </tr>\n",
       "  </thead>\n",
       "  <tbody>\n",
       "    <tr>\n",
       "      <th>1</th>\n",
       "      <td>[{'options': [{'id': 601225, 'name': 'new emai...</td>\n",
       "      <td>102</td>\n",
       "      <td>Pay in the bank my purchases that I will soon ...</td>\n",
       "    </tr>\n",
       "    <tr>\n",
       "      <th>82</th>\n",
       "      <td>[{'id': 700006, 'name': 'search image on Flick...</td>\n",
       "      <td>102</td>\n",
       "      <td>Search for \"Darth Vader\" on Flickr. Upload the...</td>\n",
       "    </tr>\n",
       "  </tbody>\n",
       "</table>\n",
       "</div>"
      ],
      "text/plain": [
       "                                     action_instances   id  \\\n",
       "1   [{'options': [{'id': 601225, 'name': 'new emai...  102   \n",
       "82  [{'id': 700006, 'name': 'search image on Flick...  102   \n",
       "\n",
       "                                  nl_command_statment  \n",
       "1   Pay in the bank my purchases that I will soon ...  \n",
       "82  Search for \"Darth Vader\" on Flickr. Upload the...  "
      ]
     },
     "execution_count": 41,
     "metadata": {},
     "output_type": "execute_result"
    }
   ],
   "source": [
    "comman_action_df[command_action_df.id == 102]"
   ]
  },
  {
   "cell_type": "code",
   "execution_count": 42,
   "id": "8c03ec49",
   "metadata": {},
   "outputs": [
    {
     "data": {
      "text/plain": [
       "[{'options': [{'id': 601225,\n",
       "    'name': 'new email from',\n",
       "    'params': {\"sender's address\": 'contact@gs-store.de'}},\n",
       "   {'id': 600599,\n",
       "    'name': 'new email in inbox from',\n",
       "    'params': {'email address': 'contact@gs-store.de'}}]},\n",
       " {'id': 700000,\n",
       "  'name': 'make a payment',\n",
       "  'params': {'invoice': '<return1>.attachment', 'method': 'bank'}},\n",
       " {'id': 600603,\n",
       "  'name': 'send an email',\n",
       "  'params': {'attachment url': '<return2>',\n",
       "   'to address': 'contact@gs-store.de'}}]"
      ]
     },
     "execution_count": 42,
     "metadata": {},
     "output_type": "execute_result"
    }
   ],
   "source": [
    "comman_action_df.action_instances[1]"
   ]
  },
  {
   "cell_type": "code",
   "execution_count": 43,
   "id": "7637ae3f",
   "metadata": {},
   "outputs": [
    {
     "data": {
      "text/plain": [
       "'Pay in the bank my purchases that I will soon receive from contact@gs-store.de. Send the proof of payment back to the store.'"
      ]
     },
     "execution_count": 43,
     "metadata": {},
     "output_type": "execute_result"
    }
   ],
   "source": [
    "comman_action_df.nl_command_statment[1]"
   ]
  },
  {
   "cell_type": "code",
   "execution_count": 44,
   "id": "86f2eb01",
   "metadata": {},
   "outputs": [
    {
     "data": {
      "text/plain": [
       "[{'id': 700006,\n",
       "  'name': 'search image on Flickr',\n",
       "  'params': {'query': 'Darth Vader'}},\n",
       " {'id': 600431,\n",
       "  'name': 'create a link post',\n",
       "  'params': {'link url': '<return1>.image_url',\n",
       "   'message': \"Hi guys, let's watch the Star Wars movie next Friday?\"}}]"
      ]
     },
     "execution_count": 44,
     "metadata": {},
     "output_type": "execute_result"
    }
   ],
   "source": [
    "comman_action_df.action_instances[82]"
   ]
  },
  {
   "cell_type": "code",
   "execution_count": 46,
   "id": "55f30f1a",
   "metadata": {},
   "outputs": [
    {
     "data": {
      "text/plain": [
       "'Search for \"Darth Vader\" on Flickr. Upload the photo and the following message on Facebook: Hi guys, let\\'s watch the Star Wars movie next Friday?'"
      ]
     },
     "execution_count": 46,
     "metadata": {},
     "output_type": "execute_result"
    }
   ],
   "source": [
    "comman_action_df.nl_command_statment[82]"
   ]
  },
  {
   "cell_type": "code",
   "execution_count": 74,
   "id": "4f5486f0",
   "metadata": {},
   "outputs": [
    {
     "data": {
      "text/plain": [
       "array([700000, 700001, 700002, ..., 503842, 503843, 503844], dtype=int64)"
      ]
     },
     "execution_count": 74,
     "metadata": {},
     "output_type": "execute_result"
    }
   ],
   "source": [
    "action_df.id.unique()"
   ]
  },
  {
   "cell_type": "code",
   "execution_count": 75,
   "id": "6db6efaa",
   "metadata": {},
   "outputs": [
    {
     "data": {
      "text/plain": [
       "set()"
      ]
     },
     "execution_count": 75,
     "metadata": {},
     "output_type": "execute_result"
    }
   ],
   "source": [
    "set(action_df.id.unique()).intersection(command_action_df.id.unique())"
   ]
  },
  {
   "cell_type": "code",
   "execution_count": 76,
   "id": "cf0fc486",
   "metadata": {},
   "outputs": [
    {
     "data": {
      "text/plain": [
       "set()"
      ]
     },
     "execution_count": 76,
     "metadata": {},
     "output_type": "execute_result"
    }
   ],
   "source": [
    "set(command_action_df.id.unique()).intersection(action_df.id.unique())"
   ]
  },
  {
   "cell_type": "code",
   "execution_count": 72,
   "id": "120f4a04",
   "metadata": {},
   "outputs": [
    {
     "data": {
      "text/plain": [
       "array([ 101,  102,  105,  106,  107,  401,  402,  403,  404,  501,  502,\n",
       "        503,  601,  602,  701,  702,  703,  704,  705,  801,  802,  803,\n",
       "        804,  805,  506,  807,  808,  901,  902, 1001, 1002, 1003, 1004,\n",
       "       1005, 1101, 1102, 1103, 1104, 1105, 1106, 1201, 1202, 1203, 1204,\n",
       "       1301, 1302, 1303, 1304, 1305, 1306, 1401, 1402, 1403, 1404, 1405,\n",
       "       1406, 1407, 1408, 1501, 1502, 1503, 1504, 1505, 1506, 1507, 1601,\n",
       "       1602, 1603, 1604, 1605, 1701, 1702, 1703, 1704, 1705, 1801, 1802,\n",
       "       1803, 1804, 1805, 1806, 1901, 1903, 1904, 2001, 2002, 2003, 2004,\n",
       "       2005, 2006, 2101, 2102, 2103, 2104, 2601, 2602, 2603, 2605, 2606,\n",
       "       2607, 2901, 2902, 2903, 3111, 3112, 3113, 3121, 3122, 3123, 3124,\n",
       "       3125, 3126, 3127, 3128, 3201, 3202, 3203, 3204, 3301, 3302, 3303,\n",
       "       3304, 3401, 3403, 3404, 3405, 3501, 3502, 3503, 3504, 3601, 3602,\n",
       "       3603, 3604, 3605, 3606, 3701, 3702, 3703, 3704, 3705, 3706, 3801,\n",
       "       3802, 3803, 3804, 3901, 3902, 3903, 3904, 3905, 4001, 4002, 4003,\n",
       "       4004, 4005, 4006, 4007, 4101, 4102, 4104, 4105, 4201, 4202, 4301,\n",
       "       4302, 4303, 4304, 4305, 4401, 4402, 4403, 4501, 4502, 4503, 4601,\n",
       "       4602, 4701, 4702], dtype=int64)"
      ]
     },
     "execution_count": 72,
     "metadata": {},
     "output_type": "execute_result"
    }
   ],
   "source": [
    "command_action_df.id.unique()"
   ]
  }
 ],
 "metadata": {
  "kernelspec": {
   "display_name": "Python 3",
   "language": "python",
   "name": "python3"
  },
  "language_info": {
   "codemirror_mode": {
    "name": "ipython",
    "version": 3
   },
   "file_extension": ".py",
   "mimetype": "text/x-python",
   "name": "python",
   "nbconvert_exporter": "python",
   "pygments_lexer": "ipython3",
   "version": "3.8.8"
  }
 },
 "nbformat": 4,
 "nbformat_minor": 5
}
